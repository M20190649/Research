{
 "cells": [
  {
   "cell_type": "code",
   "execution_count": null,
   "metadata": {},
   "outputs": [],
   "source": [
    "#!/usr/bin/Rscript\n",
    "\n",
    "if (!require(\"pacman\")) install.packages(\"pacman\")\n",
    "pacman::p_load(ggplot2, sqldf, tidyr, stringr, dplyr, doBy, plyr)\n",
    "RESEARCH_HOME = Sys.getenv(c(\"RESEARCH_HOME\"))\n",
    "PATH = \"Scripts/Python/data/\"\n",
    "SAVE_PDF = F\n",
    "W = 6\n",
    "H = 6\n",
    "muDefault      = 4\n",
    "deltaDefault   = 5\n",
    "epsilonDefault = 30\n",
    "\n",
    "data = read.csv(paste0(RESEARCH_HOME, PATH, 'methods.csv'), header = F, sep = \";\")"
   ]
  },
  {
   "cell_type": "code",
   "execution_count": null,
   "metadata": {},
   "outputs": [],
   "source": [
    "head(data)\n",
    "nrow(data)"
   ]
  },
  {
   "cell_type": "code",
   "execution_count": null,
   "metadata": {},
   "outputs": [],
   "source": [
    "names(data) = c(\"runID\", \"Method\", \"Epsilon\", \"Mu\", \"Delta\", \"Time\")\n",
    "data$Epsilon = as.numeric(as.character(data$Epsilon))\n",
    "data$Mu      = as.numeric(as.character(data$Mu))\n",
    "data$Delta   = as.numeric(as.character(data$Delta))\n",
    "data$Time    = as.numeric(as.character(data$Time))\n",
    "\n",
    "df = summaryBy(data=data, Time ~ Epsilon + Mu + Delta + Method, FUN = function(x){ c(m=mean(x), s=sd(x)) })\n",
    "df"
   ]
  },
  {
   "cell_type": "code",
   "execution_count": null,
   "metadata": {},
   "outputs": [],
   "source": [
    "title = \"Execution time by Epsilon\"\n",
    "g = ggplot(data=df, aes(x=factor(Epsilon), y=Time.m, fill=Method, ymin = Time.m-Time.s, ymax = Time.m+Time.s)) +\n",
    "  geom_bar(stat=\"identity\", position=position_dodge(width = 0.75),width = 0.75) +\n",
    "  geom_pointrange(position=position_dodge(width = 0.75)) +\n",
    "  labs(title=title, y=\"Time(s)\", x=expression(paste(epsilon,\"(mts)\"))) \n",
    "plot(g)\n"
   ]
  },
  {
   "cell_type": "code",
   "execution_count": null,
   "metadata": {},
   "outputs": [],
   "source": [
    "stages = read.csv(paste0(RESEARCH_HOME, PATH, 'stages.csv'), header = F, sep = \";\")\n",
    "names(stages) = c(\"runID\", \"stageID\", \"Method\", \"Epsilon\", \"Mu\", \"Delta\", \"Stage\", \"Time\")\n",
    "stages$Epsilon = as.numeric(as.character(stages$Epsilon))\n",
    "stages$Mu      = as.numeric(as.character(stages$Mu))\n",
    "stages$Delta   = as.numeric(as.character(stages$Delta))\n",
    "stages$Time    = as.numeric(as.character(stages$Time))\n",
    "stages = stages[stages$Stage != \"Running MergeLast\", ]\n",
    "\n",
    "stages = summaryBy(data=stages, Time ~ Method + Epsilon + Stage, FUN = function(x){ c(m=mean(x), s=sd(x)) })\n",
    "head(stages)\n"
   ]
  },
  {
   "cell_type": "code",
   "execution_count": null,
   "metadata": {},
   "outputs": [],
   "source": [
    "title = \"Execution time MergeLast by Epsilon and Stage\"\n",
    "g = ggplot(data=stages[stages$Method == \"MergeLast\",], aes(x=factor(Epsilon), y=Time.m, fill=Stage, ymin = Time.m-Time.s, ymax = Time.m+Time.s)) +\n",
    "  geom_bar(stat=\"identity\", position=position_dodge(width = 0.75),width = 0.75) +\n",
    "  geom_pointrange(position=position_dodge(width = 0.75)) +\n",
    "  labs(title=title, y=\"Time(s)\", x=expression(paste(epsilon,\"(mts)\"))) \n",
    "plot(g)\n"
   ]
  },
  {
   "cell_type": "code",
   "execution_count": null,
   "metadata": {},
   "outputs": [],
   "source": [
    "stages = read.csv(paste0(RESEARCH_HOME, PATH, 'stages.csv'), header = F, sep = \";\")\n",
    "names(stages) = c(\"runID\", \"stageID\", \"Method\", \"Epsilon\", \"Mu\", \"Delta\", \"Stage\", \"Time\")\n",
    "stages$Epsilon = as.numeric(as.character(stages$Epsilon))\n",
    "stages$Mu      = as.numeric(as.character(stages$Mu))\n",
    "stages$Delta   = as.numeric(as.character(stages$Delta))\n",
    "stages$Time    = as.numeric(as.character(stages$Time))\n",
    "stages = stages[stages$Stage != \"Running SpatialJoin\", ]\n",
    "\n",
    "stages = summaryBy(data=stages, Time ~ Method + Epsilon + Stage, FUN = function(x){ c(m=mean(x), s=sd(x)) })\n",
    "head(stages)\n"
   ]
  },
  {
   "cell_type": "code",
   "execution_count": null,
   "metadata": {},
   "outputs": [],
   "source": [
    "title = \"Execution time SpatialJoin by Epsilon and Stage\"\n",
    "g = ggplot(data=stages[stages$Method == \"SpatialJoin\",], aes(x=factor(Epsilon), y=Time.m, fill=Stage, ymin = Time.m-Time.s, ymax = Time.m+Time.s)) +\n",
    "  geom_bar(stat=\"identity\", position=position_dodge(width = 0.75),width = 0.75) +\n",
    "  geom_pointrange(position=position_dodge(width = 0.75)) +\n",
    "  labs(title=title, y=\"Time(s)\", x=expression(paste(epsilon,\"(mts)\"))) \n",
    "plot(g)\n"
   ]
  },
  {
   "cell_type": "code",
   "execution_count": null,
   "metadata": {},
   "outputs": [],
   "source": [
    "mdfInternals = read.csv(paste0(RESEARCH_HOME, PATH, 'mdfInternals.csv'), header = F, sep = \";\")\n",
    "names(mdfInternals) = c(\"runID\", \"mdfID\", \"stageID\", \"Epsilon\", \"Mu\", \"Delta\", \"Method\", \"Stage\", \"Load\", \"Time\")\n",
    "mdfInternals$Epsilon = as.numeric(as.character(mdfInternals$Epsilon))\n",
    "mdfInternals$Mu      = as.numeric(as.character(mdfInternals$Mu))\n",
    "mdfInternals$Delta   = as.numeric(as.character(mdfInternals$Delta))\n",
    "mdfInternals$Load    = as.numeric(as.character(mdfInternals$Load))\n",
    "mdfInternals$Time    = as.numeric(as.character(mdfInternals$Time))\n",
    "\n",
    "mdfInternals = summaryBy(data=mdfInternals, Time ~ Method + Epsilon + Stage, FUN = function(x){ c(m=mean(x), s=sd(x)) })\n",
    "head(mdfInternals)\n"
   ]
  },
  {
   "cell_type": "code",
   "execution_count": null,
   "metadata": {},
   "outputs": [],
   "source": [
    "title = \"Execution time MergeLast - Internal Maximal Disk Finding (by Epsilon and Stage)\"\n",
    "g = ggplot(data=mdfInternals, aes(x=factor(Epsilon), y=Time.m, fill=Stage, ymin = Time.m-Time.s, ymax = Time.m+Time.s)) +\n",
    "  geom_bar(stat=\"identity\", position=position_dodge(width = 0.75),width = 0.75) +\n",
    "  geom_pointrange(position=position_dodge(width = 0.75), size = 0.3, fatten = 1) +\n",
    "  labs(title=title, y=\"Time(s)\", x=expression(paste(epsilon,\"(mts)\"))) \n",
    "plot(g)\n"
   ]
  },
  {
   "cell_type": "code",
   "execution_count": null,
   "metadata": {},
   "outputs": [],
   "source": [
    "mdfInfo = read.csv(paste0(RESEARCH_HOME, PATH, 'mdfInfo.csv'), header = F, sep = \";\")\n",
    "names(mdfInfo) = c(\"Method\", \"Epsilon\", \"Mu\", \"Delta\", \"Timestamp\")\n",
    "mdfInfo$Epsilon   = as.numeric(as.character(mdfInfo$Epsilon))\n",
    "mdfInfo$Mu        = as.numeric(as.character(mdfInfo$Mu))\n",
    "mdfInfo$Delta     = as.numeric(as.character(mdfInfo$Delta))\n",
    "mdfInfo$Timestamp = as.numeric(as.character(mdfInfo$Timestamp))\n",
    "\n",
    "mdfInfo\n"
   ]
  },
  {
   "cell_type": "code",
   "execution_count": null,
   "metadata": {},
   "outputs": [],
   "source": [
    "query = \"\n",
    "SELECT\n",
    "    Method, Epsilon, Timestamp, count(*)\n",
    "FROM\n",
    "    mdfInfo\n",
    "GROUP BY\n",
    "    Method, Epsilon, Timestamp\n",
    "\"\n",
    "sqldf(query)"
   ]
  },
  {
   "cell_type": "code",
   "execution_count": null,
   "metadata": {},
   "outputs": [],
   "source": []
  }
 ],
 "metadata": {
  "kernelspec": {
   "display_name": "R",
   "language": "R",
   "name": "ir"
  },
  "language_info": {
   "codemirror_mode": "r",
   "file_extension": ".r",
   "mimetype": "text/x-r-source",
   "name": "R",
   "pygments_lexer": "r",
   "version": "3.4.4"
  },
  "widgets": {
   "application/vnd.jupyter.widget-state+json": {
    "state": {},
    "version_major": 2,
    "version_minor": 0
   }
  }
 },
 "nbformat": 4,
 "nbformat_minor": 2
}
