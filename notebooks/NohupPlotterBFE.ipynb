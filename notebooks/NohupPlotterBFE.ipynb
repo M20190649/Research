{
 "cells": [
  {
   "cell_type": "code",
   "execution_count": 1,
   "metadata": {},
   "outputs": [
    {
     "name": "stderr",
     "output_type": "stream",
     "text": [
      "Loading required package: pacman\n"
     ]
    }
   ],
   "source": [
    "#!/usr/bin/Rscript\n",
    "\n",
    "if (!require(\"pacman\")) install.packages(\"pacman\")\n",
    "pacman::p_load(ggplot2, sqldf, tidyr, stringr, dplyr, doBy, plyr)\n",
    "RESEARCH_HOME = Sys.getenv(c(\"RESEARCH_HOME\"))\n",
    "PATH = \"Scripts/Python/data/\"\n",
    "SAVE_PDF = F\n",
    "W = 6\n",
    "H = 6\n",
    "muDefault      = 4\n",
    "deltaDefault   = 5\n",
    "epsilonDefault = 30\n",
    "\n",
    "data = read.csv(paste0(RESEARCH_HOME, PATH, 'methods_nohup.csv'), header = F, sep = \";\")\n"
   ]
  },
  {
   "cell_type": "code",
   "execution_count": 2,
   "metadata": {},
   "outputs": [
    {
     "data": {
      "text/html": [
       "<table>\n",
       "<thead><tr><th scope=col>V1</th><th scope=col>V2</th><th scope=col>V3</th><th scope=col>V4</th><th scope=col>V5</th><th scope=col>V6</th></tr></thead>\n",
       "<tbody>\n",
       "\t<tr><td>1        </td><td>MergeLast</td><td> 60      </td><td>4        </td><td>5        </td><td>654.964  </td></tr>\n",
       "\t<tr><td>2        </td><td>MergeLast</td><td> 70      </td><td>4        </td><td>5        </td><td>686.385  </td></tr>\n",
       "\t<tr><td>3        </td><td>MergeLast</td><td> 80      </td><td>4        </td><td>5        </td><td>677.862  </td></tr>\n",
       "\t<tr><td>4        </td><td>MergeLast</td><td> 90      </td><td>4        </td><td>5        </td><td>798.868  </td></tr>\n",
       "\t<tr><td>0        </td><td>MergeLast</td><td>100      </td><td>4        </td><td>5        </td><td>927.875  </td></tr>\n",
       "\t<tr><td>2        </td><td>BFE      </td><td> 60      </td><td>4        </td><td>5        </td><td> 96.550  </td></tr>\n",
       "</tbody>\n",
       "</table>\n"
      ],
      "text/latex": [
       "\\begin{tabular}{r|llllll}\n",
       " V1 & V2 & V3 & V4 & V5 & V6\\\\\n",
       "\\hline\n",
       "\t 1         & MergeLast &  60       & 4         & 5         & 654.964  \\\\\n",
       "\t 2         & MergeLast &  70       & 4         & 5         & 686.385  \\\\\n",
       "\t 3         & MergeLast &  80       & 4         & 5         & 677.862  \\\\\n",
       "\t 4         & MergeLast &  90       & 4         & 5         & 798.868  \\\\\n",
       "\t 0         & MergeLast & 100       & 4         & 5         & 927.875  \\\\\n",
       "\t 2         & BFE       &  60       & 4         & 5         &  96.550  \\\\\n",
       "\\end{tabular}\n"
      ],
      "text/markdown": [
       "\n",
       "V1 | V2 | V3 | V4 | V5 | V6 | \n",
       "|---|---|---|---|---|---|\n",
       "| 1         | MergeLast |  60       | 4         | 5         | 654.964   | \n",
       "| 2         | MergeLast |  70       | 4         | 5         | 686.385   | \n",
       "| 3         | MergeLast |  80       | 4         | 5         | 677.862   | \n",
       "| 4         | MergeLast |  90       | 4         | 5         | 798.868   | \n",
       "| 0         | MergeLast | 100       | 4         | 5         | 927.875   | \n",
       "| 2         | BFE       |  60       | 4         | 5         |  96.550   | \n",
       "\n",
       "\n"
      ],
      "text/plain": [
       "  V1 V2        V3  V4 V5 V6     \n",
       "1 1  MergeLast  60 4  5  654.964\n",
       "2 2  MergeLast  70 4  5  686.385\n",
       "3 3  MergeLast  80 4  5  677.862\n",
       "4 4  MergeLast  90 4  5  798.868\n",
       "5 0  MergeLast 100 4  5  927.875\n",
       "6 2  BFE        60 4  5   96.550"
      ]
     },
     "metadata": {},
     "output_type": "display_data"
    },
    {
     "data": {
      "text/html": [
       "10"
      ],
      "text/latex": [
       "10"
      ],
      "text/markdown": [
       "10"
      ],
      "text/plain": [
       "[1] 10"
      ]
     },
     "metadata": {},
     "output_type": "display_data"
    }
   ],
   "source": [
    "head(data)\n",
    "nrow(data)"
   ]
  },
  {
   "cell_type": "code",
   "execution_count": 4,
   "metadata": {},
   "outputs": [
    {
     "data": {
      "text/html": [
       "<table>\n",
       "<thead><tr><th scope=col>Epsilon</th><th scope=col>Mu</th><th scope=col>Delta</th><th scope=col>Method</th><th scope=col>Time.m</th></tr></thead>\n",
       "<tbody>\n",
       "\t<tr><td> 60      </td><td>4        </td><td>5        </td><td>BFE      </td><td>  96.550 </td></tr>\n",
       "\t<tr><td> 60      </td><td>4        </td><td>5        </td><td>MergeLast</td><td> 654.964 </td></tr>\n",
       "\t<tr><td> 70      </td><td>4        </td><td>5        </td><td>BFE      </td><td> 160.210 </td></tr>\n",
       "\t<tr><td> 70      </td><td>4        </td><td>5        </td><td>MergeLast</td><td> 686.385 </td></tr>\n",
       "\t<tr><td> 80      </td><td>4        </td><td>5        </td><td>BFE      </td><td> 274.740 </td></tr>\n",
       "\t<tr><td> 80      </td><td>4        </td><td>5        </td><td>MergeLast</td><td> 677.862 </td></tr>\n",
       "\t<tr><td> 90      </td><td>4        </td><td>5        </td><td>BFE      </td><td> 531.350 </td></tr>\n",
       "\t<tr><td> 90      </td><td>4        </td><td>5        </td><td>MergeLast</td><td> 798.868 </td></tr>\n",
       "\t<tr><td>100      </td><td>4        </td><td>5        </td><td>BFE      </td><td>1092.470 </td></tr>\n",
       "\t<tr><td>100      </td><td>4        </td><td>5        </td><td>MergeLast</td><td> 927.875 </td></tr>\n",
       "</tbody>\n",
       "</table>\n"
      ],
      "text/latex": [
       "\\begin{tabular}{r|lllll}\n",
       " Epsilon & Mu & Delta & Method & Time.m\\\\\n",
       "\\hline\n",
       "\t  60       & 4         & 5         & BFE       &   96.550 \\\\\n",
       "\t  60       & 4         & 5         & MergeLast &  654.964 \\\\\n",
       "\t  70       & 4         & 5         & BFE       &  160.210 \\\\\n",
       "\t  70       & 4         & 5         & MergeLast &  686.385 \\\\\n",
       "\t  80       & 4         & 5         & BFE       &  274.740 \\\\\n",
       "\t  80       & 4         & 5         & MergeLast &  677.862 \\\\\n",
       "\t  90       & 4         & 5         & BFE       &  531.350 \\\\\n",
       "\t  90       & 4         & 5         & MergeLast &  798.868 \\\\\n",
       "\t 100       & 4         & 5         & BFE       & 1092.470 \\\\\n",
       "\t 100       & 4         & 5         & MergeLast &  927.875 \\\\\n",
       "\\end{tabular}\n"
      ],
      "text/markdown": [
       "\n",
       "Epsilon | Mu | Delta | Method | Time.m | \n",
       "|---|---|---|---|---|---|---|---|---|---|\n",
       "|  60       | 4         | 5         | BFE       |   96.550  | \n",
       "|  60       | 4         | 5         | MergeLast |  654.964  | \n",
       "|  70       | 4         | 5         | BFE       |  160.210  | \n",
       "|  70       | 4         | 5         | MergeLast |  686.385  | \n",
       "|  80       | 4         | 5         | BFE       |  274.740  | \n",
       "|  80       | 4         | 5         | MergeLast |  677.862  | \n",
       "|  90       | 4         | 5         | BFE       |  531.350  | \n",
       "|  90       | 4         | 5         | MergeLast |  798.868  | \n",
       "| 100       | 4         | 5         | BFE       | 1092.470  | \n",
       "| 100       | 4         | 5         | MergeLast |  927.875  | \n",
       "\n",
       "\n"
      ],
      "text/plain": [
       "   Epsilon Mu Delta Method    Time.m  \n",
       "1   60     4  5     BFE         96.550\n",
       "2   60     4  5     MergeLast  654.964\n",
       "3   70     4  5     BFE        160.210\n",
       "4   70     4  5     MergeLast  686.385\n",
       "5   80     4  5     BFE        274.740\n",
       "6   80     4  5     MergeLast  677.862\n",
       "7   90     4  5     BFE        531.350\n",
       "8   90     4  5     MergeLast  798.868\n",
       "9  100     4  5     BFE       1092.470\n",
       "10 100     4  5     MergeLast  927.875"
      ]
     },
     "metadata": {},
     "output_type": "display_data"
    }
   ],
   "source": [
    "names(data) = c(\"runID\", \"Method\", \"Epsilon\", \"Mu\", \"Delta\", \"Time\")\n",
    "data$Epsilon = as.numeric(as.character(data$Epsilon))\n",
    "data$Mu      = as.numeric(as.character(data$Mu))\n",
    "data$Delta   = as.numeric(as.character(data$Delta))\n",
    "data$Time    = as.numeric(as.character(data$Time))\n",
    "\n",
    "df = summaryBy(data=data, Time ~ Epsilon + Mu + Delta + Method, FUN = function(x){ c(m=mean(x)) })\n",
    "df"
   ]
  },
  {
   "cell_type": "code",
   "execution_count": 7,
   "metadata": {},
   "outputs": [
    {
     "data": {
      "image/png": "[encoded data removed]",
      "text/plain": [
       "plot without title"
      ]
     },
     "metadata": {},
     "output_type": "display_data"
    }
   ],
   "source": [
    "title = \"Execution time by Epsilon\"\n",
    "g = ggplot(data=df, aes(x=factor(Epsilon), y=Time.m, fill=Method)) +\n",
    "  geom_bar(stat=\"identity\", position=position_dodge(width = 0.75),width = 0.75) +\n",
    "  labs(title=title, y=\"Time(s)\", x=expression(paste(epsilon,\"(mts)\"))) \n",
    "plot(g)\n"
   ]
  },
  {
   "cell_type": "code",
   "execution_count": null,
   "metadata": {},
   "outputs": [],
   "source": []
  }
 ],
 "metadata": {
  "kernelspec": {
   "display_name": "R",
   "language": "R",
   "name": "ir"
  },
  "language_info": {
   "codemirror_mode": "r",
   "file_extension": ".r",
   "mimetype": "text/x-r-source",
   "name": "R",
   "pygments_lexer": "r",
   "version": "3.4.4"
  },
  "widgets": {
   "application/vnd.jupyter.widget-state+json": {
    "state": {},
    "version_major": 2,
    "version_minor": 0
   }
  }
 },
 "nbformat": 4,
 "nbformat_minor": 2
}
