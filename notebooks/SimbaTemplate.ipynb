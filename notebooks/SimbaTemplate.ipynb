{
 "cells": [
  {
   "cell_type": "code",
   "execution_count": 1,
   "metadata": {},
   "outputs": [
    {
     "name": "stdout",
     "output_type": "stream",
     "text": [
      "Downloading https://repo1.maven.org/maven2/com/vividsolutions/jts-core/1.14.0/jts-core-1.14.0.pom.sha1\n",
      "Downloading https://repo1.maven.org/maven2/org/scalactic/scalactic_2.11/3.0.1/scalactic_2.11-3.0.1.pom\n",
      "Downloading https://repo1.maven.org/maven2/org/scalactic/scalactic_2.11/3.0.1/scalactic_2.11-3.0.1.pom.sha1\n",
      "Downloading https://repo1.maven.org/maven2/com/vividsolutions/jts-core/1.14.0/jts-core-1.14.0.pom\n",
      "Downloaded https://repo1.maven.org/maven2/com/vividsolutions/jts-core/1.14.0/jts-core-1.14.0.pom.sha1\n",
      "Downloaded https://repo1.maven.org/maven2/com/vividsolutions/jts-core/1.14.0/jts-core-1.14.0.pom\n",
      "Downloading https://repo1.maven.org/maven2/com/vividsolutions/jts-core/1.14.0/\n",
      "Downloaded https://repo1.maven.org/maven2/org/scalactic/scalactic_2.11/3.0.1/scalactic_2.11-3.0.1.pom\n",
      "Downloaded https://repo1.maven.org/maven2/org/scalactic/scalactic_2.11/3.0.1/scalactic_2.11-3.0.1.pom.sha1\n",
      "Downloading https://repo1.maven.org/maven2/org/scalactic/scalactic_2.11/3.0.1/\n",
      "Downloaded https://repo1.maven.org/maven2/com/vividsolutions/jts-core/1.14.0/\n",
      "Downloaded https://repo1.maven.org/maven2/org/scalactic/scalactic_2.11/3.0.1/\n",
      "Downloading https://repo1.maven.org/maven2/com/vividsolutions/jts-parent/1.14.0/jts-parent-1.14.0.pom\n",
      "Downloading https://repo1.maven.org/maven2/com/vividsolutions/jts-parent/1.14.0/jts-parent-1.14.0.pom.sha1\n",
      "Downloaded https://repo1.maven.org/maven2/com/vividsolutions/jts-parent/1.14.0/jts-parent-1.14.0.pom\n",
      "Downloaded https://repo1.maven.org/maven2/com/vividsolutions/jts-parent/1.14.0/jts-parent-1.14.0.pom.sha1\n",
      "Downloading https://repo1.maven.org/maven2/com/vividsolutions/jts-parent/1.14.0/\n",
      "Downloaded https://repo1.maven.org/maven2/com/vividsolutions/jts-parent/1.14.0/\n",
      "Downloading https://repo1.maven.org/maven2/com/vividsolutions/jts-core/1.14.0/jts-core-1.14.0.jar\n",
      "Downloading https://repo1.maven.org/maven2/org/scalactic/scalactic_2.11/3.0.1/scalactic_2.11-3.0.1.jar\n",
      "Downloading https://repo1.maven.org/maven2/com/vividsolutions/jts-core/1.14.0/jts-core-1.14.0.jar.sha1\n",
      "Downloaded https://repo1.maven.org/maven2/com/vividsolutions/jts-core/1.14.0/jts-core-1.14.0.jar.sha1\n",
      "Downloading https://repo1.maven.org/maven2/org/scalactic/scalactic_2.11/3.0.1/scalactic_2.11-3.0.1.jar.sha1\n",
      "Downloaded https://repo1.maven.org/maven2/org/scalactic/scalactic_2.11/3.0.1/scalactic_2.11-3.0.1.jar.sha1\n",
      "Downloaded https://repo1.maven.org/maven2/org/scalactic/scalactic_2.11/3.0.1/scalactic_2.11-3.0.1.jar\n",
      "Downloaded https://repo1.maven.org/maven2/com/vividsolutions/jts-core/1.14.0/jts-core-1.14.0.jar\n",
      "Downloading https://repo1.maven.org/maven2/org/slf4j/slf4j-jdk14/1.7.25/slf4j-jdk14-1.7.25.pom\n",
      "Downloading https://repo1.maven.org/maven2/org/slf4j/slf4j-jdk14/1.7.25/slf4j-jdk14-1.7.25.pom.sha1\n",
      "Downloaded https://repo1.maven.org/maven2/org/slf4j/slf4j-jdk14/1.7.25/slf4j-jdk14-1.7.25.pom.sha1\n",
      "Downloaded https://repo1.maven.org/maven2/org/slf4j/slf4j-jdk14/1.7.25/slf4j-jdk14-1.7.25.pom\n",
      "Downloading https://repo1.maven.org/maven2/org/slf4j/slf4j-jdk14/1.7.25/\n",
      "Downloaded https://repo1.maven.org/maven2/org/slf4j/slf4j-jdk14/1.7.25/\n",
      "Downloading https://repo1.maven.org/maven2/org/slf4j/slf4j-parent/1.7.25/slf4j-parent-1.7.25.pom\n",
      "Downloading https://repo1.maven.org/maven2/org/slf4j/slf4j-parent/1.7.25/slf4j-parent-1.7.25.pom.sha1\n",
      "Downloaded https://repo1.maven.org/maven2/org/slf4j/slf4j-parent/1.7.25/slf4j-parent-1.7.25.pom.sha1\n",
      "Downloaded https://repo1.maven.org/maven2/org/slf4j/slf4j-parent/1.7.25/slf4j-parent-1.7.25.pom\n",
      "Downloading https://repo1.maven.org/maven2/org/slf4j/slf4j-parent/1.7.25/\n",
      "Downloaded https://repo1.maven.org/maven2/org/slf4j/slf4j-parent/1.7.25/\n",
      "Downloading https://repo1.maven.org/maven2/org/slf4j/slf4j-api/1.7.25/slf4j-api-1.7.25.pom\n",
      "Downloading https://repo1.maven.org/maven2/org/slf4j/slf4j-api/1.7.25/slf4j-api-1.7.25.pom.sha1\n",
      "Downloaded https://repo1.maven.org/maven2/org/slf4j/slf4j-api/1.7.25/slf4j-api-1.7.25.pom\n",
      "Downloaded https://repo1.maven.org/maven2/org/slf4j/slf4j-api/1.7.25/slf4j-api-1.7.25.pom.sha1\n",
      "Downloading https://repo1.maven.org/maven2/org/slf4j/slf4j-api/1.7.25/\n",
      "Downloaded https://repo1.maven.org/maven2/org/slf4j/slf4j-api/1.7.25/\n",
      "Downloading https://repo1.maven.org/maven2/org/slf4j/slf4j-jdk14/1.7.25/slf4j-jdk14-1.7.25.jar.sha1\n",
      "Downloading https://repo1.maven.org/maven2/org/slf4j/slf4j-jdk14/1.7.25/slf4j-jdk14-1.7.25.jar\n",
      "Downloading https://repo1.maven.org/maven2/org/slf4j/slf4j-api/1.7.25/slf4j-api-1.7.25.jar\n",
      "Downloaded https://repo1.maven.org/maven2/org/slf4j/slf4j-jdk14/1.7.25/slf4j-jdk14-1.7.25.jar.sha1\n",
      "Downloading https://repo1.maven.org/maven2/org/slf4j/slf4j-api/1.7.25/slf4j-api-1.7.25.jar.sha1\n",
      "Downloaded https://repo1.maven.org/maven2/org/slf4j/slf4j-jdk14/1.7.25/slf4j-jdk14-1.7.25.jar\n",
      "Downloaded https://repo1.maven.org/maven2/org/slf4j/slf4j-api/1.7.25/slf4j-api-1.7.25.jar\n",
      "Downloaded https://repo1.maven.org/maven2/org/slf4j/slf4j-api/1.7.25/slf4j-api-1.7.25.jar.sha1\n"
     ]
    },
    {
     "data": {
      "text/plain": [
       "\u001b[32mimport \u001b[39m\u001b[36m$ivy.$                                   \n",
       "\u001b[39m\n",
       "\u001b[32mimport \u001b[39m\u001b[36m$ivy.$                           \n",
       "\u001b[39m\n",
       "\u001b[32mimport \u001b[39m\u001b[36m$ivy.$                             \n",
       "\u001b[39m"
      ]
     },
     "execution_count": 1,
     "metadata": {},
     "output_type": "execute_result"
    }
   ],
   "source": [
    "import $ivy.`org.apache.spark::spark-sql:2.1.0` \n",
    "import $ivy.`InitialDLab:simba_2.11:1.0`\n",
    "import $ivy.`org.slf4j:slf4j-jdk14:1.7.25`\n"
   ]
  },
  {
   "cell_type": "code",
   "execution_count": 2,
   "metadata": {},
   "outputs": [
    {
     "data": {
      "text/plain": [
       "\u001b[32mimport \u001b[39m\u001b[36morg.slf4j.{Logger, LoggerFactory}\n",
       "\u001b[39m\n",
       "\u001b[32mimport \u001b[39m\u001b[36morg.apache.spark.sql.simba.{Dataset, SimbaSession}\n",
       "\u001b[39m\n",
       "\u001b[32mimport \u001b[39m\u001b[36morg.apache.spark.sql.simba.index.RTreeType\n",
       "\u001b[39m\n",
       "\u001b[32mimport \u001b[39m\u001b[36morg.apache.spark.sql.types.{StructType, StructField, LongType, DoubleType, IntegerType}\n",
       "\n",
       "\u001b[39m\n",
       "\u001b[32mimport \u001b[39m\u001b[36morg.apache.spark.sql.functions._\n",
       "\u001b[39m\n",
       "\u001b[32mimport \u001b[39m\u001b[36mscala.collection.JavaConverters._\n",
       "\u001b[39m\n",
       "\u001b[32mimport \u001b[39m\u001b[36mscala.collection.mutable.ListBuffer\n",
       "\u001b[39m"
      ]
     },
     "execution_count": 2,
     "metadata": {},
     "output_type": "execute_result"
    }
   ],
   "source": [
    "import org.slf4j.{Logger, LoggerFactory}\n",
    "import org.apache.spark.sql.simba.{Dataset, SimbaSession}\n",
    "import org.apache.spark.sql.simba.index.RTreeType\n",
    "import org.apache.spark.sql.types.{StructType, StructField, LongType, DoubleType, IntegerType}\n",
    "\n",
    "import org.apache.spark.sql.functions._\n",
    "import scala.collection.JavaConverters._\n",
    "import scala.collection.mutable.ListBuffer\n"
   ]
  },
  {
   "cell_type": "code",
   "execution_count": 4,
   "metadata": {},
   "outputs": [
    {
     "data": {
      "text/plain": [
       "\u001b[36msimba\u001b[39m: \u001b[32mSimbaSession\u001b[39m = org.apache.spark.sql.simba.SimbaSession@681de89c"
      ]
     },
     "execution_count": 4,
     "metadata": {},
     "output_type": "execute_result"
    }
   ],
   "source": [
    "// spark://169.235.27.134:7077\n",
    "val simba = SimbaSession.builder()\n",
    "      .master(\"local[*]\")\n",
    "      .appName(\"MaximalDistanceFinder\")\n",
    "      .config(\"simba.index.partitions\", 1024)\n",
    "      .config(\"spark.cores.max\", 32)\n",
    "      .getOrCreate()\n"
   ]
  },
  {
   "cell_type": "code",
   "execution_count": 5,
   "metadata": {},
   "outputs": [
    {
     "data": {
      "text/plain": [
       "\u001b[36mlogger\u001b[39m: \u001b[32mLogger\u001b[39m = org.slf4j.impl.Log4jLoggerAdapter(myLogger)\n",
       "\u001b[36mtimer\u001b[39m: \u001b[32mLong\u001b[39m = \u001b[32m0L\u001b[39m\n",
       "defined \u001b[32mclass\u001b[39m \u001b[36mST_Point\u001b[39m\n",
       "defined \u001b[32mclass\u001b[39m \u001b[36mFlock\u001b[39m"
      ]
     },
     "execution_count": 5,
     "metadata": {},
     "output_type": "execute_result"
    }
   ],
   "source": [
    "val logger: Logger = LoggerFactory.getLogger(\"myLogger\")\n",
    "var timer: Long = 0L\n",
    "\n",
    "org.apache.spark.sql.catalyst.encoders.OuterScopes.addOuterScope(this)\n",
    "case class ST_Point(id: Long, x: Double, y: Double, t: Int = -1)\n",
    "case class Flock(start: Int, end: Int, ids: String, x: Double = 0.0, y: Double = 0.0)\n"
   ]
  },
  {
   "cell_type": "code",
   "execution_count": 6,
   "metadata": {},
   "outputs": [
    {
     "data": {
      "text/plain": [
       "\u001b[32mimport \u001b[39m\u001b[36msimba.implicits._\n",
       "\u001b[39m\n",
       "\u001b[32mimport \u001b[39m\u001b[36msimba.simbaImplicits._\n",
       "\u001b[39m"
      ]
     },
     "execution_count": 6,
     "metadata": {},
     "output_type": "execute_result"
    }
   ],
   "source": [
    "import simba.implicits._\n",
    "import simba.simbaImplicits._\n"
   ]
  },
  {
   "cell_type": "code",
   "execution_count": 7,
   "metadata": {},
   "outputs": [
    {
     "data": {
      "text/plain": [
       "\u001b[36mid\u001b[39m: \u001b[32mStructField\u001b[39m = StructField(id,LongType,true)\n",
       "\u001b[36mx\u001b[39m: \u001b[32mStructField\u001b[39m = StructField(x,DoubleType,true)\n",
       "\u001b[36my\u001b[39m: \u001b[32mStructField\u001b[39m = StructField(y,DoubleType,true)\n",
       "\u001b[36mt\u001b[39m: \u001b[32mStructField\u001b[39m = StructField(t,IntegerType,true)\n",
       "\u001b[36mpoint_schema\u001b[39m: \u001b[32mStructType\u001b[39m = \u001b[33mStructType\u001b[39m(\n",
       "  StructField(id,LongType,true),\n",
       "  StructField(x,DoubleType,true),\n",
       "  StructField(y,DoubleType,true),\n",
       "  StructField(t,IntegerType,true)\n",
       ")"
      ]
     },
     "execution_count": 7,
     "metadata": {},
     "output_type": "execute_result"
    }
   ],
   "source": [
    "val id = StructField(\"id\", LongType)\n",
    "val x = StructField(\"x\", DoubleType)\n",
    "val y = StructField(\"y\", DoubleType)\n",
    "val t = StructField(\"t\", IntegerType)\n",
    "val point_schema = StructType(Array(id, x, y, t))\n"
   ]
  },
  {
   "cell_type": "code",
   "execution_count": 10,
   "metadata": {},
   "outputs": [
    {
     "data": {
      "text/plain": [
       "\u001b[36mresearch_home\u001b[39m: \u001b[32mString\u001b[39m = \u001b[32m\"/home/and/Documents/PhD/Research/\"\u001b[39m\n",
       "\u001b[36mfilename\u001b[39m: \u001b[32mString\u001b[39m = \u001b[32m\"/home/and/Documents/PhD/Research/Datasets/Berlin/berlin0-2.tsv\"\u001b[39m\n",
       "\u001b[36mpointset\u001b[39m: \u001b[32morg\u001b[39m.\u001b[32mapache\u001b[39m.\u001b[32mspark\u001b[39m.\u001b[32msql\u001b[39m.\u001b[32mDataset\u001b[39m[\u001b[32mST_Point\u001b[39m] = [id: bigint, x: double ... 2 more fields]\n",
       "\u001b[36mnPointset\u001b[39m: \u001b[32mLong\u001b[39m = \u001b[32m54732L\u001b[39m"
      ]
     },
     "execution_count": 10,
     "metadata": {},
     "output_type": "execute_result"
    }
   ],
   "source": [
    "val research_home = scala.util.Properties.envOrElse(\"RESEARCH_HOME\", \"/home/and/Documents/PhD/Research/\" )\n",
    "val filename = s\"${research_home}Datasets/Berlin/berlin0-2.tsv\"\n",
    "\n",
    "val pointset = simba.read\n",
    "      .option(\"header\", \"false\")\n",
    "      .option(\"sep\", \"\\t\")\n",
    "      .schema(point_schema)\n",
    "      .csv(filename)\n",
    "      .as[ST_Point]\n",
    "      .cache()\n",
    "val nPointset = pointset.count()\n"
   ]
  },
  {
   "cell_type": "code",
   "execution_count": null,
   "metadata": {},
   "outputs": [
    {
     "name": "stdout",
     "output_type": "stream",
     "text": [
      "+---+---------+---------+---+\n",
      "|id |x        |y        |t  |\n",
      "+---+---------+---------+---+\n",
      "|3  |18071.8  |21890.985|0  |\n",
      "|4  |16582.549|23500.546|0  |\n",
      "|6  |36818.069|26567.175|0  |\n",
      "|7  |26567.764|23949.332|0  |\n",
      "|8  |23093.249|23491.667|0  |\n",
      "|9  |14865.52 |17079.365|0  |\n",
      "|11 |23333.804|27343.981|0  |\n",
      "|12 |23122.741|19933.776|0  |\n",
      "|14 |19227.697|22639.845|0  |\n",
      "|15 |27498.866|14628.038|0  |\n",
      "|17 |23957.575|18650.487|0  |\n",
      "|19 |20353.159|26565.008|0  |\n",
      "|23 |21769.334|18149.96 |0  |\n",
      "|24 |31699.043|14230.055|0  |\n",
      "|27 |32280.197|19959.179|0  |\n",
      "|30 |19436.481|21842.427|0  |\n",
      "|31 |30495.447|22703.329|0  |\n",
      "|33 |36880.811|13892.571|0  |\n",
      "|35 |22137.34 |20929.995|0  |\n",
      "|37 |23834.526|18348.774|0  |\n",
      "+---+---------+---------+---+\n",
      "only showing top 20 rows\n",
      "\n",
      "+---+---------+---------+-----+---------+---------+\n",
      "|id1|x1       |y1       |id2  |x2       |y2       |\n",
      "+---+---------+---------+-----+---------+---------+\n",
      "|4  |16582.549|23500.546|7705 |16572.58 |23501.818|\n",
      "|6  |36818.069|26567.175|15319|36820.311|26573.405|\n",
      "|7  |26567.764|23949.332|16792|26597.481|23974.399|\n",
      "|8  |23093.249|23491.667|12044|23061.593|23461.287|\n",
      "|11 |23333.804|27343.981|6529 |23319.146|27359.833|\n",
      "|19 |20353.159|26565.008|5250 |20368.756|26548.364|\n",
      "|19 |20353.159|26565.008|13633|20373.255|26537.329|\n",
      "|30 |19436.481|21842.427|630  |19429.2  |21821.871|\n",
      "|30 |19436.481|21842.427|1441 |19408.226|21805.713|\n",
      "|39 |35485.761|16267.754|12262|35497.011|16235.473|\n",
      "|44 |16673.587|23013.596|1156 |16653.958|23009.906|\n",
      "|44 |16673.587|23013.596|1929 |16715.377|23011.282|\n",
      "|47 |18196.758|14550.392|421  |18177.171|14593.878|\n",
      "|49 |18758.537|15777.319|190  |18797.517|15770.918|\n",
      "|59 |22641.633|20861.074|18418|22638.575|20860.084|\n",
      "|61 |26166.763|21713.876|13791|26171.046|21716.312|\n",
      "|64 |18740.102|27480.932|10118|18742"
     ]
    }
   ],
   "source": [
    "val epsilon = 50\n",
    "val sample = pointset.filter(_.t == 0).sample(false, 0.5, 42).cache()\n",
    "sample.orderBy(\"id\").show(truncate =false)\n",
    "val p1 = sample.select(\"id\", \"x\", \"y\").toDF(\"id1\", \"x1\", \"y1\")\n",
    "p1.index(RTreeType, \"rtP1\", Array(\"x1\", \"y1\"))\n",
    "val p2 = sample.select(\"id\", \"x\", \"y\").toDF(\"id2\", \"x2\", \"y2\")\n",
    "p2.index(RTreeType, \"rtP2\", Array(\"x2\", \"y2\"))\n",
    "val join = p1.distanceJoin(p2, Array(\"x1\", \"y1\"), Array(\"x2\", \"y2\"), epsilon).filter(j => j.getLong(0) < j.getLong(3)).cache()\n",
    "val nJoin = join.count()\n",
    "join.orderBy(\"id1\", \"id2\").show(truncate = false)\n"
   ]
  },
  {
   "cell_type": "code",
   "execution_count": null,
   "metadata": {},
   "outputs": [],
   "source": [
    "simba.close()"
   ]
  }
 ],
 "metadata": {
  "kernelspec": {
   "display_name": "Scala",
   "language": "scala",
   "name": "scala"
  },
  "language_info": {
   "codemirror_mode": "text/x-scala",
   "file_extension": ".scala",
   "mimetype": "text/x-scala",
   "name": "scala211",
   "nbconvert_exporter": "script",
   "pygments_lexer": "scala",
   "version": "2.11.11"
  }
 },
 "nbformat": 4,
 "nbformat_minor": 2
}
