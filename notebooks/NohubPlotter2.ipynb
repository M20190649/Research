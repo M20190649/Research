{
 "cells": [
  {
   "cell_type": "code",
   "execution_count": 45,
   "metadata": {},
   "outputs": [],
   "source": [
    "#!/usr/bin/Rscript\n",
    "\n",
    "if (!require(\"pacman\")) install.packages(\"pacman\")\n",
    "pacman::p_load(ggplot2, sqldf, tidyr, stringr, dplyr, doBy, plyr)\n",
    "RESEARCH_HOME = Sys.getenv(c(\"RESEARCH_HOME\"))\n",
    "PATH = \"Scripts/Python/data/\"\n",
    "SAVE_PDF = F\n",
    "W = 6\n",
    "H = 6\n",
    "muDefault      = 4\n",
    "deltaDefault   = 5\n",
    "epsilonDefault = 30\n",
    "\n",
    "data = read.csv(paste0(RESEARCH_HOME, PATH, 'methods_epsilon.csv'), header = F, sep = \";\")"
   ]
  },
  {
   "cell_type": "code",
   "execution_count": 46,
   "metadata": {},
   "outputs": [
    {
     "data": {
      "text/html": [
       "<table>\n",
       "<thead><tr><th scope=col>V1</th><th scope=col>V2</th><th scope=col>V3</th><th scope=col>V4</th><th scope=col>V5</th><th scope=col>V6</th></tr></thead>\n",
       "<tbody>\n",
       "\t<tr><td>0          </td><td>SpatialJoin</td><td>10         </td><td>4          </td><td>5          </td><td>462.226    </td></tr>\n",
       "\t<tr><td>1          </td><td>SpatialJoin</td><td>10         </td><td>4          </td><td>5          </td><td>444.708    </td></tr>\n",
       "\t<tr><td>2          </td><td>SpatialJoin</td><td>10         </td><td>4          </td><td>5          </td><td>446.822    </td></tr>\n",
       "\t<tr><td>3          </td><td>SpatialJoin</td><td>10         </td><td>4          </td><td>5          </td><td>455.671    </td></tr>\n",
       "\t<tr><td>4          </td><td>SpatialJoin</td><td>10         </td><td>4          </td><td>5          </td><td>453.472    </td></tr>\n",
       "\t<tr><td>5          </td><td>MergeLast  </td><td>10         </td><td>4          </td><td>5          </td><td>484.132    </td></tr>\n",
       "</tbody>\n",
       "</table>\n"
      ],
      "text/latex": [
       "\\begin{tabular}{r|llllll}\n",
       " V1 & V2 & V3 & V4 & V5 & V6\\\\\n",
       "\\hline\n",
       "\t 0           & SpatialJoin & 10          & 4           & 5           & 462.226    \\\\\n",
       "\t 1           & SpatialJoin & 10          & 4           & 5           & 444.708    \\\\\n",
       "\t 2           & SpatialJoin & 10          & 4           & 5           & 446.822    \\\\\n",
       "\t 3           & SpatialJoin & 10          & 4           & 5           & 455.671    \\\\\n",
       "\t 4           & SpatialJoin & 10          & 4           & 5           & 453.472    \\\\\n",
       "\t 5           & MergeLast   & 10          & 4           & 5           & 484.132    \\\\\n",
       "\\end{tabular}\n"
      ],
      "text/markdown": [
       "\n",
       "V1 | V2 | V3 | V4 | V5 | V6 | \n",
       "|---|---|---|---|---|---|\n",
       "| 0           | SpatialJoin | 10          | 4           | 5           | 462.226     | \n",
       "| 1           | SpatialJoin | 10          | 4           | 5           | 444.708     | \n",
       "| 2           | SpatialJoin | 10          | 4           | 5           | 446.822     | \n",
       "| 3           | SpatialJoin | 10          | 4           | 5           | 455.671     | \n",
       "| 4           | SpatialJoin | 10          | 4           | 5           | 453.472     | \n",
       "| 5           | MergeLast   | 10          | 4           | 5           | 484.132     | \n",
       "\n",
       "\n"
      ],
      "text/plain": [
       "  V1 V2          V3 V4 V5 V6     \n",
       "1 0  SpatialJoin 10 4  5  462.226\n",
       "2 1  SpatialJoin 10 4  5  444.708\n",
       "3 2  SpatialJoin 10 4  5  446.822\n",
       "4 3  SpatialJoin 10 4  5  455.671\n",
       "5 4  SpatialJoin 10 4  5  453.472\n",
       "6 5  MergeLast   10 4  5  484.132"
      ]
     },
     "metadata": {},
     "output_type": "display_data"
    },
    {
     "data": {
      "text/html": [
       "66"
      ],
      "text/latex": [
       "66"
      ],
      "text/markdown": [
       "66"
      ],
      "text/plain": [
       "[1] 66"
      ]
     },
     "metadata": {},
     "output_type": "display_data"
    }
   ],
   "source": [
    "head(data)\n",
    "nrow(data)"
   ]
  },
  {
   "cell_type": "code",
   "execution_count": 47,
   "metadata": {},
   "outputs": [
    {
     "data": {
      "text/html": [
       "<table>\n",
       "<thead><tr><th scope=col>Epsilon</th><th scope=col>Mu</th><th scope=col>Delta</th><th scope=col>Method</th><th scope=col>Time.m</th><th scope=col>Time.s</th></tr></thead>\n",
       "<tbody>\n",
       "\t<tr><td>10         </td><td>4          </td><td>5          </td><td>MergeLast  </td><td>483.4434   </td><td> 4.166888  </td></tr>\n",
       "\t<tr><td>10         </td><td>4          </td><td>5          </td><td>SpatialJoin</td><td>452.5798   </td><td> 7.044824  </td></tr>\n",
       "\t<tr><td>15         </td><td>4          </td><td>5          </td><td>MergeLast  </td><td>496.5968   </td><td> 5.760131  </td></tr>\n",
       "\t<tr><td>15         </td><td>4          </td><td>5          </td><td>SpatialJoin</td><td>505.2922   </td><td>10.092524  </td></tr>\n",
       "\t<tr><td>20         </td><td>4          </td><td>5          </td><td>MergeLast  </td><td>505.2672   </td><td>11.067578  </td></tr>\n",
       "\t<tr><td>20         </td><td>4          </td><td>5          </td><td>SpatialJoin</td><td>585.2887   </td><td>15.958481  </td></tr>\n",
       "\t<tr><td>25         </td><td>4          </td><td>5          </td><td>MergeLast  </td><td>519.9606   </td><td> 5.149485  </td></tr>\n",
       "\t<tr><td>25         </td><td>4          </td><td>5          </td><td>SpatialJoin</td><td>722.0828   </td><td>27.904416  </td></tr>\n",
       "\t<tr><td>30         </td><td>4          </td><td>5          </td><td>MergeLast  </td><td>531.4094   </td><td> 6.904833  </td></tr>\n",
       "\t<tr><td>30         </td><td>4          </td><td>5          </td><td>SpatialJoin</td><td>722.1781   </td><td>49.764907  </td></tr>\n",
       "</tbody>\n",
       "</table>\n"
      ],
      "text/latex": [
       "\\begin{tabular}{r|llllll}\n",
       " Epsilon & Mu & Delta & Method & Time.m & Time.s\\\\\n",
       "\\hline\n",
       "\t 10          & 4           & 5           & MergeLast   & 483.4434    &  4.166888  \\\\\n",
       "\t 10          & 4           & 5           & SpatialJoin & 452.5798    &  7.044824  \\\\\n",
       "\t 15          & 4           & 5           & MergeLast   & 496.5968    &  5.760131  \\\\\n",
       "\t 15          & 4           & 5           & SpatialJoin & 505.2922    & 10.092524  \\\\\n",
       "\t 20          & 4           & 5           & MergeLast   & 505.2672    & 11.067578  \\\\\n",
       "\t 20          & 4           & 5           & SpatialJoin & 585.2887    & 15.958481  \\\\\n",
       "\t 25          & 4           & 5           & MergeLast   & 519.9606    &  5.149485  \\\\\n",
       "\t 25          & 4           & 5           & SpatialJoin & 722.0828    & 27.904416  \\\\\n",
       "\t 30          & 4           & 5           & MergeLast   & 531.4094    &  6.904833  \\\\\n",
       "\t 30          & 4           & 5           & SpatialJoin & 722.1781    & 49.764907  \\\\\n",
       "\\end{tabular}\n"
      ],
      "text/markdown": [
       "\n",
       "Epsilon | Mu | Delta | Method | Time.m | Time.s | \n",
       "|---|---|---|---|---|---|---|---|---|---|\n",
       "| 10          | 4           | 5           | MergeLast   | 483.4434    |  4.166888   | \n",
       "| 10          | 4           | 5           | SpatialJoin | 452.5798    |  7.044824   | \n",
       "| 15          | 4           | 5           | MergeLast   | 496.5968    |  5.760131   | \n",
       "| 15          | 4           | 5           | SpatialJoin | 505.2922    | 10.092524   | \n",
       "| 20          | 4           | 5           | MergeLast   | 505.2672    | 11.067578   | \n",
       "| 20          | 4           | 5           | SpatialJoin | 585.2887    | 15.958481   | \n",
       "| 25          | 4           | 5           | MergeLast   | 519.9606    |  5.149485   | \n",
       "| 25          | 4           | 5           | SpatialJoin | 722.0828    | 27.904416   | \n",
       "| 30          | 4           | 5           | MergeLast   | 531.4094    |  6.904833   | \n",
       "| 30          | 4           | 5           | SpatialJoin | 722.1781    | 49.764907   | \n",
       "\n",
       "\n"
      ],
      "text/plain": [
       "   Epsilon Mu Delta Method      Time.m   Time.s   \n",
       "1  10      4  5     MergeLast   483.4434  4.166888\n",
       "2  10      4  5     SpatialJoin 452.5798  7.044824\n",
       "3  15      4  5     MergeLast   496.5968  5.760131\n",
       "4  15      4  5     SpatialJoin 505.2922 10.092524\n",
       "5  20      4  5     MergeLast   505.2672 11.067578\n",
       "6  20      4  5     SpatialJoin 585.2887 15.958481\n",
       "7  25      4  5     MergeLast   519.9606  5.149485\n",
       "8  25      4  5     SpatialJoin 722.0828 27.904416\n",
       "9  30      4  5     MergeLast   531.4094  6.904833\n",
       "10 30      4  5     SpatialJoin 722.1781 49.764907"
      ]
     },
     "metadata": {},
     "output_type": "display_data"
    }
   ],
   "source": [
    "names(data) = c(\"runID\", \"Method\", \"Epsilon\", \"Mu\", \"Delta\", \"Time\")\n",
    "data$Epsilon = as.numeric(as.character(data$Epsilon))\n",
    "data$Mu      = as.numeric(as.character(data$Mu))\n",
    "data$Delta   = as.numeric(as.character(data$Delta))\n",
    "data$Time    = as.numeric(as.character(data$Time))\n",
    "\n",
    "df = summaryBy(data=data, Time ~ Epsilon + Mu + Delta + Method, FUN = function(x){ c(m=mean(x), s=sd(x)) })\n",
    "df"
   ]
  },
  {
   "cell_type": "code",
   "execution_count": 48,
   "metadata": {},
   "outputs": [
    {
     "data": {
      "image/png": "[encoded data removed]",
      "text/plain": [
       "plot without title"
      ]
     },
     "metadata": {},
     "output_type": "display_data"
    }
   ],
   "source": [
    "title = \"Execution time by Epsilon\"\n",
    "g = ggplot(data=df, aes(x=factor(Epsilon), y=Time.m, fill=Method, ymin = Time.m-Time.s, ymax = Time.m+Time.s)) +\n",
    "  geom_bar(stat=\"identity\", position=position_dodge(width = 0.75),width = 0.75) +\n",
    "  geom_pointrange(position=position_dodge(width = 0.75)) +\n",
    "  labs(title=title, y=\"Time(s)\", x=expression(paste(epsilon,\"(mts)\"))) \n",
    "plot(g)\n"
   ]
  },
  {
   "cell_type": "code",
   "execution_count": null,
   "metadata": {},
   "outputs": [],
   "source": [
    "stages = read.csv(paste0(RESEARCH_HOME, PATH, 'stages.csv'), header = F, sep = \";\")\n",
    "names(stages) = c(\"runID\", \"stageID\", \"Method\", \"Epsilon\", \"Mu\", \"Delta\", \"Stage\", \"Time\")\n",
    "stages$Epsilon = as.numeric(as.character(stages$Epsilon))\n",
    "stages$Mu      = as.numeric(as.character(stages$Mu))\n",
    "stages$Delta   = as.numeric(as.character(stages$Delta))\n",
    "stages$Time    = as.numeric(as.character(stages$Time))\n",
    "stages = stages[stages$Stage != \"Running MergeLast\", ]\n",
    "\n",
    "stages = summaryBy(data=stages, Time ~ Method + Epsilon + Stage, FUN = function(x){ c(m=mean(x), s=sd(x)) })\n",
    "head(stages)\n"
   ]
  },
  {
   "cell_type": "code",
   "execution_count": null,
   "metadata": {},
   "outputs": [],
   "source": [
    "title = \"Execution time MergeLast by Epsilon and Stage\"\n",
    "g = ggplot(data=stages[stages$Method == \"MergeLast\",], aes(x=factor(Epsilon), y=Time.m, fill=Stage, ymin = Time.m-Time.s, ymax = Time.m+Time.s)) +\n",
    "  geom_bar(stat=\"identity\", position=position_dodge(width = 0.75),width = 0.75) +\n",
    "  geom_pointrange(position=position_dodge(width = 0.75)) +\n",
    "  labs(title=title, y=\"Time(s)\", x=expression(paste(epsilon,\"(mts)\"))) \n",
    "plot(g)\n"
   ]
  },
  {
   "cell_type": "code",
   "execution_count": null,
   "metadata": {},
   "outputs": [],
   "source": [
    "stages = read.csv(paste0(RESEARCH_HOME, PATH, 'stages.csv'), header = F, sep = \";\")\n",
    "names(stages) = c(\"runID\", \"stageID\", \"Method\", \"Epsilon\", \"Mu\", \"Delta\", \"Stage\", \"Time\")\n",
    "stages$Epsilon = as.numeric(as.character(stages$Epsilon))\n",
    "stages$Mu      = as.numeric(as.character(stages$Mu))\n",
    "stages$Delta   = as.numeric(as.character(stages$Delta))\n",
    "stages$Time    = as.numeric(as.character(stages$Time))\n",
    "stages = stages[stages$Stage != \"Running SpatialJoin\", ]\n",
    "\n",
    "stages = summaryBy(data=stages, Time ~ Method + Epsilon + Stage, FUN = function(x){ c(m=mean(x), s=sd(x)) })\n",
    "head(stages)\n"
   ]
  },
  {
   "cell_type": "code",
   "execution_count": null,
   "metadata": {},
   "outputs": [],
   "source": [
    "title = \"Execution time SpatialJoin by Epsilon and Stage\"\n",
    "g = ggplot(data=stages[stages$Method == \"SpatialJoin\",], aes(x=factor(Epsilon), y=Time.m, fill=Stage, ymin = Time.m-Time.s, ymax = Time.m+Time.s)) +\n",
    "  geom_bar(stat=\"identity\", position=position_dodge(width = 0.75),width = 0.75) +\n",
    "  geom_pointrange(position=position_dodge(width = 0.75)) +\n",
    "  labs(title=title, y=\"Time(s)\", x=expression(paste(epsilon,\"(mts)\"))) \n",
    "plot(g)\n"
   ]
  },
  {
   "cell_type": "code",
   "execution_count": null,
   "metadata": {},
   "outputs": [],
   "source": [
    "mdfInternals = read.csv(paste0(RESEARCH_HOME, PATH, 'mdfInternals.csv'), header = F, sep = \";\")\n",
    "names(mdfInternals) = c(\"runID\", \"mdfID\", \"stageID\", \"Epsilon\", \"Mu\", \"Delta\", \"Method\", \"Stage\", \"Load\", \"Time\")\n",
    "mdfInternals$Epsilon = as.numeric(as.character(mdfInternals$Epsilon))\n",
    "mdfInternals$Mu      = as.numeric(as.character(mdfInternals$Mu))\n",
    "mdfInternals$Delta   = as.numeric(as.character(mdfInternals$Delta))\n",
    "mdfInternals$Load    = as.numeric(as.character(mdfInternals$Load))\n",
    "mdfInternals$Time    = as.numeric(as.character(mdfInternals$Time))\n",
    "\n",
    "mdfInternals = summaryBy(data=mdfInternals, Time ~ Method + Epsilon + Stage, FUN = function(x){ c(m=mean(x), s=sd(x)) })\n",
    "head(mdfInternals)\n"
   ]
  },
  {
   "cell_type": "code",
   "execution_count": null,
   "metadata": {},
   "outputs": [],
   "source": [
    "title = \"Execution time MergeLast - Internal Maximal Disk Finding (by Epsilon and Stage)\"\n",
    "g = ggplot(data=mdfInternals, aes(x=factor(Epsilon), y=Time.m, fill=Stage, ymin = Time.m-Time.s, ymax = Time.m+Time.s)) +\n",
    "  geom_bar(stat=\"identity\", position=position_dodge(width = 0.75),width = 0.75) +\n",
    "  geom_pointrange(position=position_dodge(width = 0.75), size = 0.3, fatten = 1) +\n",
    "  labs(title=title, y=\"Time(s)\", x=expression(paste(epsilon,\"(mts)\"))) \n",
    "plot(g)\n"
   ]
  },
  {
   "cell_type": "code",
   "execution_count": null,
   "metadata": {},
   "outputs": [],
   "source": [
    "mdfInfo = read.csv(paste0(RESEARCH_HOME, PATH, 'mdfInfo.csv'), header = F, sep = \";\")\n",
    "names(mdfInfo) = c(\"Method\", \"Epsilon\", \"Mu\", \"Delta\", \"Timestamp\")\n",
    "mdfInfo$Epsilon   = as.numeric(as.character(mdfInfo$Epsilon))\n",
    "mdfInfo$Mu        = as.numeric(as.character(mdfInfo$Mu))\n",
    "mdfInfo$Delta     = as.numeric(as.character(mdfInfo$Delta))\n",
    "mdfInfo$Timestamp = as.numeric(as.character(mdfInfo$Timestamp))\n",
    "\n",
    "mdfInfo\n"
   ]
  },
  {
   "cell_type": "code",
   "execution_count": null,
   "metadata": {},
   "outputs": [],
   "source": [
    "query = \"\n",
    "SELECT\n",
    "    Method, Epsilon, Timestamp, count(*)\n",
    "FROM\n",
    "    mdfInfo\n",
    "GROUP BY\n",
    "    Method, Epsilon, Timestamp\n",
    "\"\n",
    "sqldf(query)"
   ]
  },
  {
   "cell_type": "code",
   "execution_count": null,
   "metadata": {},
   "outputs": [],
   "source": []
  }
 ],
 "metadata": {
  "kernelspec": {
   "display_name": "R",
   "language": "R",
   "name": "ir"
  },
  "language_info": {
   "codemirror_mode": "r",
   "file_extension": ".r",
   "mimetype": "text/x-r-source",
   "name": "R",
   "pygments_lexer": "r",
   "version": "3.4.4"
  },
  "widgets": {
   "application/vnd.jupyter.widget-state+json": {
    "state": {},
    "version_major": 2,
    "version_minor": 0
   }
  }
 },
 "nbformat": 4,
 "nbformat_minor": 2
}
