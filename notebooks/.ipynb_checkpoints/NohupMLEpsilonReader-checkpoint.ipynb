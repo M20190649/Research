{
 "cells": [
  {
   "cell_type": "code",
   "execution_count": 2,
   "metadata": {},
   "outputs": [
    {
     "data": {
      "application/vnd.jupyter.widget-view+json": {
       "model_id": "fc76b114-f123-415b-911a-a960e679d6a6",
       "version_major": 2,
       "version_minor": 0
      },
      "method": "display_data"
     },
     "metadata": {},
     "output_type": "display_data"
    },
    {
     "data": {
      "application/vnd.jupyter.widget-view+json": {
       "model_id": "8d1f9353-a244-4c3c-91b4-bf154bba25af",
       "version_major": 2,
       "version_minor": 0
      },
      "method": "display_data"
     },
     "metadata": {},
     "output_type": "display_data"
    },
    {
     "data": {
      "text/plain": [
       "null"
      ]
     },
     "execution_count": 2,
     "metadata": {},
     "output_type": "execute_result"
    }
   ],
   "source": [
    "%classpath add mvn org.apache.spark spark-sql_2.11 2.1.0\n",
    "org.apache.log4j.Logger.getRootLogger().setLevel(org.apache.log4j.Level.ERROR);\n"
   ]
  },
  {
   "cell_type": "code",
   "execution_count": 3,
   "metadata": {},
   "outputs": [
    {
     "data": {
      "text/plain": [
       "import org.apache.spark._\n",
       "import org.apache.spark.sql._\n",
       "import org.apache.spark.sql.functions._\n"
      ]
     },
     "execution_count": 3,
     "metadata": {},
     "output_type": "execute_result"
    }
   ],
   "source": [
    "import org.apache.spark._\n",
    "import org.apache.spark.sql._\n",
    "import org.apache.spark.sql.functions._ \n"
   ]
  },
  {
   "cell_type": "code",
   "execution_count": 4,
   "metadata": {},
   "outputs": [
    {
     "data": {
      "text/plain": [
       "org.apache.spark.sql.SparkSession@1d1c2cdc"
      ]
     },
     "execution_count": 4,
     "metadata": {},
     "output_type": "execute_result"
    }
   ],
   "source": [
    "val spark = SparkSession.builder() \n",
    "  .master(\"local[*]\") \n",
    "  .config(\"spark.executor.memory\", \"3g\")\n",
    "  .config(\"spark.sql.warehouse.dir\", \"/tmp/spark-warehouse\")\n",
    "  .appName(\"NohupReader\")\n",
    "  .getOrCreate()\n"
   ]
  },
  {
   "cell_type": "code",
   "execution_count": 5,
   "metadata": {},
   "outputs": [
    {
     "data": {
      "text/plain": [
       "org.apache.spark.sql.SparkSession$implicits$@50abe7e7"
      ]
     },
     "execution_count": 5,
     "metadata": {},
     "output_type": "execute_result"
    }
   ],
   "source": [
    "import spark.implicits._\n",
    "\n",
    "val research_home: String = scala.util.Properties.envOrElse(\"RESEARCH_HOME\", \"/home/acald013/Research/\")\n",
    "val folder = s\"${research_home}Scripts/Python/\"\n",
    "val prefix = \"epsilon\"\n",
    "\n",
    "val nohup = spark.read.textFile(s\"${folder}${prefix}.out\")\n"
   ]
  },
  {
   "cell_type": "code",
   "execution_count": 6,
   "metadata": {},
   "outputs": [
    {
     "name": "stdout",
     "output_type": "stream",
     "text": [
      "4930\n"
     ]
    },
    {
     "data": {
      "text/plain": [
       "null"
      ]
     },
     "execution_count": 6,
     "metadata": {},
     "output_type": "execute_result"
    }
   ],
   "source": [
    "println(nohup.count)"
   ]
  },
  {
   "cell_type": "code",
   "execution_count": 7,
   "metadata": {},
   "outputs": [
    {
     "data": {
      "text/plain": [
       "defined class Line\n",
       "defined class Run\n",
       "defined class Stage\n",
       "defined class MDFrow\n",
       "defined class DatasetOps\n"
      ]
     },
     "execution_count": 7,
     "metadata": {},
     "output_type": "execute_result"
    }
   ],
   "source": [
    "org.apache.spark.sql.catalyst.encoders.OuterScopes.addOuterScope(this)\n",
    "case class Line(line: String, n: Long)\n",
    "case class Run(runID: Long, date: String, method: String, cores: Int, epsilon: Double, mu: Int, delta: Int, methodTime: Double)\n",
    "case class Stage(runID: Long, n: Long, timestamp: String, stage: String, stageTime: Double, load: Int, unit: String)\n",
    "case class MDFrow(mdfID: Long, n: Long, method: String, epsilon: Double, mu: Int, delta: Int, stage: String, time: Double, load: Int, unit: String)\n",
    "\n",
    "implicit class DatasetOps(ds: org.apache.spark.sql.Dataset[_]) {\n",
    "    def display(rows: Int = 20) = {\n",
    "        import com.twosigma.beakerx.scala.table.TableDisplay\n",
    "        val columns = ds.columns\n",
    "        val rowVals = ds.toDF.take(rows)\n",
    "        val t = new TableDisplay(rowVals map (row => (columns zip row.toSeq).toMap))\n",
    "        t.display()\n",
    "    }\n",
    "}"
   ]
  },
  {
   "cell_type": "code",
   "execution_count": 8,
   "metadata": {},
   "outputs": [
    {
     "name": "stdout",
     "output_type": "stream",
     "text": [
      "+--------------------+---+\n",
      "|                line|  n|\n",
      "+--------------------+---+\n",
      "|FLOCKFINDER=Merge...|  0|\n",
      "|WARNING:root:Sett...|  1|\n",
      "|acald013@dblab-ra...|  2|\n",
      "|acald013@dblab-ra...|  3|\n",
      "|acald013@dblab-ra...|  4|\n",
      "|acald013@dblab-ra...|  5|\n",
      "|no org.apache.spa...|  6|\n",
      "|starting org.apac...|  7|\n",
      "|acald013@dblab-ra...|  8|\n",
      "|acald013@dblab-ra...|  9|\n",
      "+--------------------+---+\n",
      "only showing top 10 rows\n",
      "\n"
     ]
    },
    {
     "data": {
      "text/plain": [
       "null"
      ]
     },
     "execution_count": 8,
     "metadata": {},
     "output_type": "execute_result"
    }
   ],
   "source": [
    "val lines = nohup.toDF(\"line\").withColumn(\"n\", monotonicallyIncreasingId).as[Line].cache()\n",
    "val nLines = lines.count()\n",
    "lines.show(10)"
   ]
  },
  {
   "cell_type": "code",
   "execution_count": 9,
   "metadata": {},
   "outputs": [
    {
     "name": "stderr",
     "output_type": "stream",
     "text": []
    },
    {
     "name": "stdout",
     "output_type": "stream",
     "text": [
      "+-----+---+\n",
      "|runID|n  |\n",
      "+-----+---+\n",
      "|0    |18 |\n",
      "|0    |19 |\n",
      "|0    |20 |\n",
      "|0    |21 |\n",
      "|0    |22 |\n",
      "|0    |23 |\n",
      "|0    |24 |\n",
      "|0    |25 |\n",
      "|0    |26 |\n",
      "|0    |27 |\n",
      "+-----+---+\n",
      "only showing top 10 rows\n",
      "\n"
     ]
    },
    {
     "data": {
      "text/plain": [
       "null"
      ]
     },
     "execution_count": 9,
     "metadata": {},
     "output_type": "execute_result"
    }
   ],
   "source": [
    "val indicesRun = lines.filter{ l => \n",
    "        l.line.contains(\"=== MergeLast Start ===\") || l.line.contains(\"method=MergeLast,\") ||\n",
    "        l.line.contains(\"=== SpatialJoin Start ===\") || l.line.contains(\"method=SpatialJoin,\")\n",
    "    }\n",
    "    .orderBy(\"n\")\n",
    "    .select(\"n\")\n",
    "    .collect()\n",
    "    .toList\n",
    "    .map(_.getLong(0))\n",
    "    .grouped(2)\n",
    "    .toList\n",
    "    .map(pair => (pair.head, pair.last))\n",
    "    .filter(r => r._1 != r._2)\n",
    "    .zipWithIndex\n",
    "val indexRun = spark.createDataset(indicesRun)\n",
    "    .flatMap{ pair => \n",
    "        (pair._1._1 to pair._1._2)\n",
    "        .toList.map(v => (pair._2, v))\n",
    "    }\n",
    "    .toDF(\"runID\",\"n\")\n",
    "    .cache\n",
    "indexRun.show(10, truncate = false)"
   ]
  },
  {
   "cell_type": "code",
   "execution_count": 10,
   "metadata": {},
   "outputs": [
    {
     "name": "stderr",
     "output_type": "stream",
     "text": []
    },
    {
     "name": "stdout",
     "output_type": "stream",
     "text": [
      "+-----+-----------------------+---------+-----+-------+---+-----+----------+\n",
      "|runID|date                   |method   |cores|epsilon|mu |delta|methodTime|\n",
      "+-----+-----------------------+---------+-----+-------+---+-----+----------+\n",
      "|0    |2018-06-14 08:52:58,761|MergeLast|28   |80.0   |5  |6    |645.424   |\n",
      "|1    |2018-06-14 09:05:08,200|MergeLast|28   |90.0   |5  |6    |703.663   |\n",
      "|2    |2018-06-14 09:17:13,808|MergeLast|28   |100.0  |5  |6    |706.44    |\n",
      "|3    |2018-06-14 10:09:40,412|MergeLast|28   |110.0  |5  |6    |3128.623  |\n",
      "|4    |2018-06-14 12:25:19,249|MergeLast|28   |120.0  |5  |6    |8115.845  |\n",
      "|5    |2018-06-14 12:35:34,253|MergeLast|28   |80.0   |5  |6    |596.874   |\n",
      "|6    |2018-06-14 12:47:44,567|MergeLast|28   |90.0   |5  |6    |712.026   |\n",
      "|7    |2018-06-14 12:59:45,828|MergeLast|28   |100.0  |5  |6    |698.54    |\n",
      "|8    |2018-06-14 13:50:53,434|MergeLast|28   |110.0  |5  |6    |3044.512  |\n",
      "|9    |2018-06-14 16:17:42,255|MergeLast|28   |120.0  |5  |6    |8790.169  |\n",
      "|10   |2018-06-14 16:28:24,678|MergeLast|28   |80.0   |5  |6    |618.058   |\n",
      "|11   |2018-06-14 16:40:46,542|MergeLast|28   |90.0   |5  |6    |719.15    |\n",
      "|12   |2018-06-14 16:53:49,914|MergeLast|28   |100.0  |5  |6    |764.53    |\n",
      "|13   |2018-06-14 17:45:23,889|MergeLast|28   |110.0  |5  |6    |3071.147  |\n",
      "|14   |2018-06-14 19:46:45,305|MergeLast|28   |120.0  |5  |6    |7263.625  |\n",
      "|15   |2018-06-14 19:57:10,057|MergeLast|28   |80.0   |5  |6    |601.6     |\n",
      "|16   |2018-06-14 20:09:16,968|MergeLast|28   |90.0   |5  |6    |708.954   |\n",
      "|17   |2018-06-14 20:22:52,851|MergeLast|28   |100.0  |5  |6    |793.417   |\n",
      "|18   |2018-06-14 21:12:32,193|MergeLast|28   |110.0  |5  |6    |2955.71   |\n",
      "+-----+-----------------------+---------+-----+-------+---+-----+----------+\n",
      "\n"
     ]
    },
    {
     "data": {
      "text/plain": [
       "null"
      ]
     },
     "execution_count": 10,
     "metadata": {},
     "output_type": "execute_result"
    }
   ],
   "source": [
    "val runs = indexRun.join(lines, \"n\").\n",
    "    groupBy(\"runID\").\n",
    "    agg(max($\"n\").alias(\"n\")).\n",
    "    join(lines, \"n\").\n",
    "    select(\"runID\", \"line\").\n",
    "    orderBy(\"runID\").\n",
    "    map{ row =>\n",
    "        val runID = row.getInt(0)\n",
    "        val line  = row.getString(1)\n",
    "        var arr1  = line.split(\" -> \")\n",
    "        val date  = arr1(0)\n",
    "        val arr2  = arr1(1).split(\",\")\n",
    "        val method  = arr2(0).split(\"=\")(1)\n",
    "        val cores   = arr2(1).split(\"=\")(1).toInt\n",
    "        val epsilon = arr2(2).split(\"=\")(1).toDouble\n",
    "        val mu      = arr2(3).split(\"=\")(1).toInt\n",
    "        val delta   = arr2(4).split(\"=\")(1).toInt\n",
    "        val time    = arr2(5).split(\"=\")(1).toDouble\n",
    "        Run(runID, date, method, cores, epsilon, mu, delta, time)\n",
    "    }.\n",
    "    cache\n",
    "val nRuns = runs.count()\n",
    "runs.show(nRuns.toInt, truncate = false)"
   ]
  },
  {
   "cell_type": "code",
   "execution_count": 11,
   "metadata": {},
   "outputs": [
    {
     "name": "stdout",
     "output_type": "stream",
     "text": [
      "+-----+-----------------------+---------+-----+-------+---+-----+----------+\n",
      "|runID|date                   |method   |cores|epsilon|mu |delta|methodTime|\n",
      "+-----+-----------------------+---------+-----+-------+---+-----+----------+\n",
      "|0    |2018-06-14 08:52:58,761|MergeLast|28   |80.0   |5  |6    |645.424   |\n",
      "|1    |2018-06-14 09:05:08,200|MergeLast|28   |90.0   |5  |6    |703.663   |\n",
      "|2    |2018-06-14 09:17:13,808|MergeLast|28   |100.0  |5  |6    |706.44    |\n",
      "|3    |2018-06-14 10:09:40,412|MergeLast|28   |110.0  |5  |6    |3128.623  |\n",
      "|4    |2018-06-14 12:25:19,249|MergeLast|28   |120.0  |5  |6    |8115.845  |\n",
      "|5    |2018-06-14 12:35:34,253|MergeLast|28   |80.0   |5  |6    |596.874   |\n",
      "|6    |2018-06-14 12:47:44,567|MergeLast|28   |90.0   |5  |6    |712.026   |\n",
      "|7    |2018-06-14 12:59:45,828|MergeLast|28   |100.0  |5  |6    |698.54    |\n",
      "|8    |2018-06-14 13:50:53,434|MergeLast|28   |110.0  |5  |6    |3044.512  |\n",
      "|9    |2018-06-14 16:17:42,255|MergeLast|28   |120.0  |5  |6    |8790.169  |\n",
      "|10   |2018-06-14 16:28:24,678|MergeLast|28   |80.0   |5  |6    |618.058   |\n",
      "|11   |2018-06-14 16:40:46,542|MergeLast|28   |90.0   |5  |6    |719.15    |\n",
      "|12   |2018-06-14 16:53:49,914|MergeLast|28   |100.0  |5  |6    |764.53    |\n",
      "|13   |2018-06-14 17:45:23,889|MergeLast|28   |110.0  |5  |6    |3071.147  |\n",
      "|14   |2018-06-14 19:46:45,305|MergeLast|28   |120.0  |5  |6    |7263.625  |\n",
      "|15   |2018-06-14 19:57:10,057|MergeLast|28   |80.0   |5  |6    |601.6     |\n",
      "|16   |2018-06-14 20:09:16,968|MergeLast|28   |90.0   |5  |6    |708.954   |\n",
      "|17   |2018-06-14 20:22:52,851|MergeLast|28   |100.0  |5  |6    |793.417   |\n",
      "|18   |2018-06-14 21:12:32,193|MergeLast|28   |110.0  |5  |6    |2955.71   |\n",
      "+-----+-----------------------+---------+-----+-------+---+-----+----------+\n",
      "\n"
     ]
    },
    {
     "data": {
      "text/plain": [
       "null"
      ]
     },
     "execution_count": 11,
     "metadata": {},
     "output_type": "execute_result"
    }
   ],
   "source": [
    "val sampleRuns = runs.filter($\"method\" === \"MergeLast\")\n",
    "val nSampleRuns = sampleRuns.count()\n",
    "sampleRuns.show(nSampleRuns.toInt, truncate = false)"
   ]
  },
  {
   "cell_type": "code",
   "execution_count": 12,
   "metadata": {},
   "outputs": [
    {
     "name": "stdout",
     "output_type": "stream",
     "text": [
      "1159\n",
      "+-----+---+-----------------------+----------------------------------+---------+-----+----------+\n",
      "|runID|n  |timestamp              |stage                             |stageTime|load |unit      |\n",
      "+-----+---+-----------------------+----------------------------------+---------+-----+----------+\n",
      "|0    |19 |2018-06-14 08:42:18,891|Reporting locations at t=0...     |5.4      |18093|points    |\n",
      "|0    |35 |2018-06-14 08:42:59,031|1.Set of disks for t_i...         |40.14    |1153 |disks     |\n",
      "|0    |36 |2018-06-14 08:43:03,990|Reporting locations at t=5...     |4.96     |18548|points    |\n",
      "|0    |52 |2018-06-14 08:43:44,602|2.Set of disks for t_i+delta...   |40.61    |1206 |disks     |\n",
      "|0    |53 |2018-06-14 08:43:59,549|3.Joining timestams               |14.95    |37   |candidates|\n",
      "|0    |54 |2018-06-14 08:44:11,578|Indexing candidates...            |1.26     |37   |candidates|\n",
      "|0    |55 |2018-06-14 08:44:11,828|Getting expansions...             |0.25     |1    |expansions|\n",
      "|0    |56 |2018-06-14 08:44:12,094|Finding local maximals...         |0.27     |36   |local     |\n",
      "|0    |57 |2018-06-14 08:44:14,256|Prunning duplicates and subsets...|2.16     |36   |flocks    |\n",
      "|0    |58 |2018-06-14 08:44:14,983|Checking internal timestamps      |15.43    |36   |flocks    |\n",
      "|0    |59 |2018-06-14 08:44:20,549|Reporting locations at t=1...     |4.79     |18245|points    |\n",
      "|0    |75 |2018-06-14 08:44:45,601|1.Set of disks for t_i...         |25.05    |1173 |disks     |\n",
      "|0    |76 |2018-06-14 08:44:50,670|Reporting locations at t=6...     |5.07     |18546|points    |\n",
      "|0    |92 |2018-06-14 08:45:29,402|2.Set of disks for t_i+delta...   |38.73    |1207 |disks     |\n",
      "|0    |93 |2018-06-14 08:45:44,213|3.Joining timestams               |14.81    |44   |candidates|\n",
      "|0    |94 |2018-06-14 08:45:53,974|Indexing candidates...            |0.98     |49   |candidates|\n",
      "|0    |95 |2018-06-14 08:45:54,155|Getting expansions...             |0.18     |1    |expansions|\n",
      "|0    |96 |2018-06-14 08:45:54,397|Finding local maximals...         |0.24     |45   |local     |\n",
      "|0    |97 |2018-06-14 08:45:55,907|Prunning duplicates and subsets...|1.51     |45   |flocks    |\n",
      "|0    |98 |2018-06-14 08:45:56,574|Checking internal timestamps      |12.36    |45   |flocks    |\n",
      "+-----+---+-----------------------+----------------------------------+---------+-----+----------+\n",
      "only showing top 20 rows\n",
      "\n"
     ]
    },
    {
     "data": {
      "text/plain": [
       "null"
      ]
     },
     "execution_count": 12,
     "metadata": {},
     "output_type": "execute_result"
    }
   ],
   "source": [
    "val stages = lines.filter(_.line.contains(\"| \")).\n",
    "    join(indexRun, \"n\").\n",
    "    map{ m =>\n",
    "        val n         = m.getLong(0)\n",
    "        val line      = m.getString(1)\n",
    "        val runID     = m.getInt(2)\n",
    "        var arr1      = line.split(\" -> \")\n",
    "        val timestamp = arr1(0).trim\n",
    "        val arr2      = arr1(1).split(\"\\\\|\")\n",
    "        val stage     = arr2(0).trim\n",
    "        val time      = arr2(1).trim.dropRight(1).toDouble\n",
    "        val arr3      = arr2(2).trim.split(\" \")\n",
    "        val load      = arr3(0).toInt\n",
    "        val unit      = arr3(1)\n",
    "        Stage(runID, n, timestamp, stage, time, load, unit)\n",
    "    }.\n",
    "    join(sampleRuns.select($\"runID\"), \"runID\").\n",
    "    cache\n",
    "    \n",
    "println(stages.count())\n",
    "stages.show(20, truncate = false)"
   ]
  },
  {
   "cell_type": "code",
   "execution_count": 13,
   "metadata": {},
   "outputs": [
    {
     "name": "stdout",
     "output_type": "stream",
     "text": [
      "+-----+---+---------+-------+---+-----+----------------------------+---------+\n",
      "|runID|n  |method   |epsilon|mu |delta|stage                       |stageTime|\n",
      "+-----+---+---------+-------+---+-----+----------------------------+---------+\n",
      "|0    |19 |MergeLast|80.0   |5  |6    |0.Reporting locations       |5.4      |\n",
      "|0    |35 |MergeLast|80.0   |5  |6    |1.Set of disks for t_i      |40.14    |\n",
      "|0    |36 |MergeLast|80.0   |5  |6    |0.Reporting locations       |4.96     |\n",
      "|0    |52 |MergeLast|80.0   |5  |6    |2.Set of disks for t_i+delta|40.61    |\n",
      "|0    |53 |MergeLast|80.0   |5  |6    |3.Joining timestams         |14.95    |\n",
      "|0    |58 |MergeLast|80.0   |5  |6    |4.Checking internals        |15.43    |\n",
      "|0    |59 |MergeLast|80.0   |5  |6    |0.Reporting locations       |4.79     |\n",
      "|0    |75 |MergeLast|80.0   |5  |6    |1.Set of disks for t_i      |25.05    |\n",
      "|0    |76 |MergeLast|80.0   |5  |6    |0.Reporting locations       |5.07     |\n",
      "|0    |92 |MergeLast|80.0   |5  |6    |2.Set of disks for t_i+delta|38.73    |\n",
      "|0    |93 |MergeLast|80.0   |5  |6    |3.Joining timestams         |14.81    |\n",
      "|0    |98 |MergeLast|80.0   |5  |6    |4.Checking internals        |12.36    |\n",
      "|0    |99 |MergeLast|80.0   |5  |6    |0.Reporting locations       |4.83     |\n",
      "|0    |115|MergeLast|80.0   |5  |6    |1.Set of disks for t_i      |23.79    |\n",
      "|0    |116|MergeLast|80.0   |5  |6    |0.Reporting locations       |4.81     |\n",
      "|0    |132|MergeLast|80.0   |5  |6    |2.Set of disks for t_i+delta|37.73    |\n",
      "|0    |133|MergeLast|80.0   |5  |6    |3.Joining timestams         |14.21    |\n",
      "|0    |138|MergeLast|80.0   |5  |6    |4.Checking internals        |12.69    |\n",
      "|0    |139|MergeLast|80.0   |5  |6    |0.Reporting locations       |4.9      |\n",
      "|0    |155|MergeLast|80.0   |5  |6    |1.Set of disks for t_i      |36.63    |\n",
      "+-----+---+---------+-------+---+-----+----------------------------+---------+\n",
      "only showing top 20 rows\n",
      "\n"
     ]
    },
    {
     "data": {
      "text/plain": [
       "null"
      ]
     },
     "execution_count": 13,
     "metadata": {},
     "output_type": "execute_result"
    }
   ],
   "source": [
    "val ml_stages = stages.join(runs, \"runID\").\n",
    "    filter($\"method\" === \"MergeLast\").\n",
    "    select($\"runID\", $\"n\", $\"method\", $\"epsilon\", $\"mu\", $\"delta\", $\"stage\".alias(\"stage0\"), $\"stageTime\").\n",
    "    withColumn(\"stage1\", regexp_replace($\"stage0\", \"Reporting locations at t=\\\\d+\", \"0.Reporting locations\")).\n",
    "    withColumn(\"stage2\", regexp_replace($\"stage1\", \"Checking internal timestamps\", \"4.Checking internals\")).\n",
    "    withColumn(\"stage3\", regexp_replace($\"stage2\", \"\\\\.\\\\.\\\\.\", \"\")).\n",
    "    select($\"runID\", $\"n\", $\"method\", $\"epsilon\", $\"mu\", $\"delta\", $\"stage3\".alias(\"stage\"), $\"stageTime\").\n",
    "    filter(!$\"stage\".rlike(\"4.Distance Join phase\")).\n",
    "    filter(!$\"stage\".rlike(\"5.Getting candidates\")).\n",
    "    filter(!$\"stage\".rlike(\"Indexing candidates\")).\n",
    "    filter(!$\"stage\".rlike(\"Getting expansions\")).\n",
    "    filter(!$\"stage\".rlike(\"Finding local maximals\")).\n",
    "    filter(!$\"stage\".rlike(\"Prunning duplicates and subsets\"))\n",
    "ml_stages.show(truncate = false)\n"
   ]
  },
  {
   "cell_type": "code",
   "execution_count": 14,
   "metadata": {},
   "outputs": [
    {
     "name": "stdout",
     "output_type": "stream",
     "text": [
      "+-----+---+------+-------+---+-----+-----+---------+\n",
      "|runID|n  |method|epsilon|mu |delta|stage|stageTime|\n",
      "+-----+---+------+-------+---+-----+-----+---------+\n",
      "+-----+---+------+-------+---+-----+-----+---------+\n",
      "\n"
     ]
    },
    {
     "data": {
      "text/plain": [
       "null"
      ]
     },
     "execution_count": 14,
     "metadata": {},
     "output_type": "execute_result"
    }
   ],
   "source": [
    "val sj_stages = stages.join(runs, \"runID\").\n",
    "    filter($\"method\" === \"SpatialJoin\").\n",
    "    select($\"runID\", $\"n\", $\"method\", $\"epsilon\", $\"mu\", $\"delta\", $\"stage\".alias(\"stage0\"), $\"stageTime\").\n",
    "    withColumn(\"stage1\", regexp_replace($\"stage0\", \"\\\\.\\\\.\\\\.\", \"\")).\n",
    "    withColumn(\"stage2\", regexp_replace($\"stage1\", \"Reporting\", \"0.Reporting\")).\n",
    "    select($\"runID\", $\"n\", $\"method\", $\"epsilon\", $\"mu\", $\"delta\", $\"stage2\".alias(\"stage\"), $\"stageTime\").\n",
    "    filter(!$\"stage\".rlike(\"4.Distance Join phase\")).\n",
    "    filter(!$\"stage\".rlike(\"5.Getting candidates\"))\n",
    "sj_stages.show(truncate = false)\n",
    "\n"
   ]
  },
  {
   "cell_type": "code",
   "execution_count": 15,
   "metadata": {},
   "outputs": [
    {
     "name": "stdout",
     "output_type": "stream",
     "text": [
      "19\n",
      "+-----+---------+-------+---+-----+--------+\n",
      "|runID|method   |epsilon|mu |delta|time    |\n",
      "+-----+---------+-------+---+-----+--------+\n",
      "|0    |MergeLast|80.0   |5  |6    |645.424 |\n",
      "|1    |MergeLast|90.0   |5  |6    |703.663 |\n",
      "|2    |MergeLast|100.0  |5  |6    |706.44  |\n",
      "|3    |MergeLast|110.0  |5  |6    |3128.623|\n",
      "|4    |MergeLast|120.0  |5  |6    |8115.845|\n",
      "|5    |MergeLast|80.0   |5  |6    |596.874 |\n",
      "|6    |MergeLast|90.0   |5  |6    |712.026 |\n",
      "|7    |MergeLast|100.0  |5  |6    |698.54  |\n",
      "|8    |MergeLast|110.0  |5  |6    |3044.512|\n",
      "|9    |MergeLast|120.0  |5  |6    |8790.169|\n",
      "|10   |MergeLast|80.0   |5  |6    |618.058 |\n",
      "|11   |MergeLast|90.0   |5  |6    |719.15  |\n",
      "|12   |MergeLast|100.0  |5  |6    |764.53  |\n",
      "|13   |MergeLast|110.0  |5  |6    |3071.147|\n",
      "|14   |MergeLast|120.0  |5  |6    |7263.625|\n",
      "|15   |MergeLast|80.0   |5  |6    |601.6   |\n",
      "|16   |MergeLast|90.0   |5  |6    |708.954 |\n",
      "|17   |MergeLast|100.0  |5  |6    |793.417 |\n",
      "|18   |MergeLast|110.0  |5  |6    |2955.71 |\n",
      "+-----+---------+-------+---+-----+--------+\n",
      "\n"
     ]
    },
    {
     "data": {
      "text/plain": [
       "null"
      ]
     },
     "execution_count": 15,
     "metadata": {},
     "output_type": "execute_result"
    }
   ],
   "source": [
    "val data = runs.select($\"runID\", $\"method\", $\"epsilon\", $\"mu\", $\"delta\", $\"methodTime\".alias(\"time\")).\n",
    "    filter($\"method\" === \"MergeLast\").\n",
    "    orderBy($\"runID\", $\"epsilon\", $\"method\").\n",
    "    cache\n",
    "println(data.count())\n",
    "data.show(data.count().toInt, truncate = false)"
   ]
  },
  {
   "cell_type": "code",
   "execution_count": 16,
   "metadata": {},
   "outputs": [
    {
     "data": {
      "text/plain": [
       "null"
      ]
     },
     "execution_count": 16,
     "metadata": {},
     "output_type": "execute_result"
    }
   ],
   "source": [
    "val d = data.collect.map(_.mkString(\";\")).mkString(\"\\n\")\n",
    "\n",
    "import java.io._\n",
    "val pw = new PrintWriter(new File(s\"${folder}ml_${prefix}.csv\" ))\n",
    "pw.write(s\"$d\\n\")\n",
    "pw.close"
   ]
  },
  {
   "cell_type": "code",
   "execution_count": 17,
   "metadata": {},
   "outputs": [
    {
     "data": {
      "text/plain": [
       "null"
      ]
     },
     "execution_count": 17,
     "metadata": {},
     "output_type": "execute_result"
    }
   ],
   "source": [
    "val d = ml_stages.union(sj_stages).collect.map(_.mkString(\";\")).mkString(\"\\n\")\n",
    "\n",
    "import java.io._\n",
    "val pw = new PrintWriter(new File(s\"${folder}ml_${prefix}_stages.csv\" ))\n",
    "pw.write(s\"$d\\n\")\n",
    "pw.close"
   ]
  },
  {
   "cell_type": "code",
   "execution_count": 35,
   "metadata": {},
   "outputs": [
    {
     "name": "stdout",
     "output_type": "stream",
     "text": [
      "+---+-----+------------------------------------+-------+---+-----+------+\n",
      "|n  |runID|stage                               |epsilon|mu |delta|time  |\n",
      "+---+-----+------------------------------------+-------+---+-----+------+\n",
      "|21 |0    |A.Indexing points...                |80.0   |5  |6    |8.116 |\n",
      "|22 |0    |B.Getting pairs...                  |80.0   |5  |6    |8.102 |\n",
      "|23 |0    |C.Computing centers...              |80.0   |5  |6    |2.725 |\n",
      "|24 |0    |D.Indexing centers...               |80.0   |5  |6    |1.981 |\n",
      "|25 |0    |E.Getting disks...                  |80.0   |5  |6    |6.923 |\n",
      "|26 |0    |F.Filtering less-than-mu disks...   |80.0   |5  |6    |0.698 |\n",
      "|27 |0    |G.Prunning duplicate candidates...  |80.0   |5  |6    |3.592 |\n",
      "|28 |0    |H.Indexing candidates...            |80.0   |5  |6    |4.122 |\n",
      "|29 |0    |I.Getting expansions...             |80.0   |5  |6    |0.365 |\n",
      "|30 |0    |J.Finding maximal disks...          |80.0   |5  |6    |4.325 |\n",
      "|31 |0    |K.Prunning duplicates and subsets...|80.0   |5  |6    |2.312 |\n",
      "|38 |0    |A.Indexing points...                |80.0   |5  |6    |8.177 |\n",
      "|39 |0    |B.Getting pairs...                  |80.0   |5  |6    |11.366|\n",
      "|40 |0    |C.Computing centers...              |80.0   |5  |6    |1.671 |\n",
      "|41 |0    |D.Indexing centers...               |80.0   |5  |6    |1.525 |\n",
      "|42 |0    |E.Getting disks...                  |80.0   |5  |6    |9.003 |\n",
      "|43 |0    |F.Filtering less-than-mu disks...   |80.0   |5  |6    |0.935 |\n",
      "|44 |0    |G.Prunning duplicate candidates...  |80.0   |5  |6    |3.494 |\n",
      "|45 |0    |H.Indexing candidates...            |80.0   |5  |6    |3.878 |\n",
      "|46 |0    |I.Getting expansions...             |80.0   |5  |6    |0.457 |\n",
      "+---+-----+------------------------------------+-------+---+-----+------+\n",
      "only showing top 20 rows\n",
      "\n"
     ]
    },
    {
     "data": {
      "text/plain": [
       "null"
      ]
     },
     "execution_count": 35,
     "metadata": {},
     "output_type": "execute_result"
    }
   ],
   "source": [
    "val mdf = lines.filter($\"line\".rlike(\"-> [A-K]\\\\.\"))\n",
    "    .map{ m =>\n",
    "        val line  = m.line.split(\" -> \")(1)\n",
    "        val arr   = line.split(\"\\\\[\")\n",
    "        val stage = arr(0).trim\n",
    "        val time  = arr(1).trim.split(\"s\")(0).toDouble\n",
    "        val r = arr(2).trim.split(\" \")(0)\n",
    "        \n",
    "        (stage, time, r, m.n)\n",
    "    }\n",
    "    .toDF(\"stage\", \"time\", \"load\", \"n\")\n",
    "    .join(indexRun, \"n\")\n",
    "    .join(runs, \"runID\")\n",
    "    .select(\"n\", \"runID\", \"stage\", \"epsilon\", \"mu\", \"delta\", \"time\")\n",
    "mdf.show(false)"
   ]
  },
  {
   "cell_type": "code",
   "execution_count": null,
   "metadata": {},
   "outputs": [],
   "source": [
    "val d = mdf.collect.map(_.mkString(\";\")).mkString(\"\\n\")\n",
    "\n",
    "import java.io._\n",
    "val pw = new PrintWriter(new File(s\"${folder}MergeLast_${prefix}.csv\" ))\n",
    "pw.write(s\"$d\\n\")\n",
    "pw.close"
   ]
  }
 ],
 "metadata": {
  "kernelspec": {
   "display_name": "Scala",
   "language": "scala",
   "name": "scala"
  },
  "language_info": {
   "codemirror_mode": "text/x-scala",
   "file_extension": ".scala",
   "mimetype": "",
   "name": "Scala",
   "nbconverter_exporter": "",
   "version": "2.11.12"
  }
 },
 "nbformat": 4,
 "nbformat_minor": 2
}
