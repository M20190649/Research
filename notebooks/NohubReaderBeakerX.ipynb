{
 "cells": [
  {
   "cell_type": "code",
   "execution_count": 48,
   "metadata": {},
   "outputs": [
    {
     "data": {
      "application/vnd.jupyter.widget-view+json": {
       "model_id": "44da60f8-944e-4c32-a5e8-3bbcdc8e5bb5",
       "version_major": 2,
       "version_minor": 0
      },
      "method": "display_data"
     },
     "metadata": {},
     "output_type": "display_data"
    },
    {
     "data": {
      "text/plain": [
       "null"
      ]
     },
     "execution_count": 48,
     "metadata": {},
     "output_type": "execute_result"
    }
   ],
   "source": [
    "%classpath add mvn org.apache.spark spark-sql_2.11 2.1.0\n",
    "org.apache.log4j.Logger.getRootLogger().setLevel(org.apache.log4j.Level.ERROR);\n"
   ]
  },
  {
   "cell_type": "code",
   "execution_count": 49,
   "metadata": {},
   "outputs": [
    {
     "data": {
      "text/plain": [
       "import org.apache.spark._\n",
       "import org.apache.spark.sql._\n",
       "import org.apache.spark.sql.functions._\n"
      ]
     },
     "execution_count": 49,
     "metadata": {},
     "output_type": "execute_result"
    }
   ],
   "source": [
    "import org.apache.spark._\n",
    "import org.apache.spark.sql._\n",
    "import org.apache.spark.sql.functions._ \n"
   ]
  },
  {
   "cell_type": "code",
   "execution_count": 50,
   "metadata": {},
   "outputs": [
    {
     "data": {
      "text/plain": [
       "org.apache.spark.sql.SparkSession@45240991"
      ]
     },
     "execution_count": 50,
     "metadata": {},
     "output_type": "execute_result"
    }
   ],
   "source": [
    "val spark = SparkSession.builder() \n",
    "  .master(\"local[*]\") \n",
    "  .config(\"spark.executor.memory\", \"3g\")\n",
    "  .config(\"spark.sql.warehouse.dir\", \"/tmp/spark-warehouse\")\n",
    "  .appName(\"NohupReader\")\n",
    "  .getOrCreate()\n"
   ]
  },
  {
   "cell_type": "code",
   "execution_count": 51,
   "metadata": {},
   "outputs": [
    {
     "data": {
      "text/plain": [
       "org.apache.spark.sql.SparkSession$implicits$@46e2b92a"
      ]
     },
     "execution_count": 51,
     "metadata": {},
     "output_type": "execute_result"
    }
   ],
   "source": [
    "import spark.implicits._\n",
    "\n",
    "val research_home: String = scala.util.Properties.envOrElse(\"RESEARCH_HOME\", \"/home/acald013/Research/\")\n",
    "val folder = s\"${research_home}Scripts/Python/\"\n",
    "val prefix = \"delta\"\n",
    "\n",
    "val nohup = spark.read.textFile(s\"${folder}${prefix}*\")\n"
   ]
  },
  {
   "cell_type": "code",
   "execution_count": 52,
   "metadata": {},
   "outputs": [
    {
     "name": "stdout",
     "output_type": "stream",
     "text": [
      "10280\n"
     ]
    },
    {
     "data": {
      "text/plain": [
       "null"
      ]
     },
     "execution_count": 52,
     "metadata": {},
     "output_type": "execute_result"
    }
   ],
   "source": [
    "println(nohup.count)"
   ]
  },
  {
   "cell_type": "code",
   "execution_count": 53,
   "metadata": {},
   "outputs": [
    {
     "data": {
      "text/plain": [
       "defined class Line\n",
       "defined class Run\n",
       "defined class Stage\n",
       "defined class MDFrow\n",
       "defined class DatasetOps\n"
      ]
     },
     "execution_count": 53,
     "metadata": {},
     "output_type": "execute_result"
    }
   ],
   "source": [
    "org.apache.spark.sql.catalyst.encoders.OuterScopes.addOuterScope(this)\n",
    "case class Line(line: String, n: Long)\n",
    "case class Run(runID: Long, date: String, method: String, cores: Int, epsilon: Double, mu: Int, delta: Int, methodTime: Double)\n",
    "case class Stage(runID: Long, n: Long, timestamp: String, stage: String, stageTime: Double, load: Int, unit: String)\n",
    "case class MDFrow(mdfID: Long, n: Long, method: String, epsilon: Double, mu: Int, delta: Int, stage: String, time: Double, load: Int, unit: String)\n",
    "\n",
    "implicit class DatasetOps(ds: org.apache.spark.sql.Dataset[_]) {\n",
    "    def display(rows: Int = 20) = {\n",
    "        import com.twosigma.beakerx.scala.table.TableDisplay\n",
    "        val columns = ds.columns\n",
    "        val rowVals = ds.toDF.take(rows)\n",
    "        val t = new TableDisplay(rowVals map (row => (columns zip row.toSeq).toMap))\n",
    "        t.display()\n",
    "    }\n",
    "}"
   ]
  },
  {
   "cell_type": "code",
   "execution_count": 54,
   "metadata": {},
   "outputs": [
    {
     "name": "stdout",
     "output_type": "stream",
     "text": [
      "+--------------------+---+\n",
      "|                line|  n|\n",
      "+--------------------+---+\n",
      "|FLOCKFINDER=Spati...|  0|\n",
      "|WARNING:root:Sett...|  1|\n",
      "|acald013@dblab-ra...|  2|\n",
      "|acald013@dblab-ra...|  3|\n",
      "|acald013@dblab-ra...|  4|\n",
      "|acald013@dblab-ra...|  5|\n",
      "|no org.apache.spa...|  6|\n",
      "|starting org.apac...|  7|\n",
      "|acald013@dblab-ra...|  8|\n",
      "|acald013@dblab-ra...|  9|\n",
      "+--------------------+---+\n",
      "only showing top 10 rows\n",
      "\n"
     ]
    },
    {
     "data": {
      "text/plain": [
       "null"
      ]
     },
     "execution_count": 54,
     "metadata": {},
     "output_type": "execute_result"
    }
   ],
   "source": [
    "val lines = nohup.toDF(\"line\").withColumn(\"n\", monotonicallyIncreasingId).as[Line].cache()\n",
    "val nLines = lines.count()\n",
    "lines.show(10)"
   ]
  },
  {
   "cell_type": "code",
   "execution_count": 55,
   "metadata": {},
   "outputs": [
    {
     "name": "stdout",
     "output_type": "stream",
     "text": [
      "+-----+---+\n",
      "|runID|n  |\n",
      "+-----+---+\n",
      "|0    |18 |\n",
      "|0    |19 |\n",
      "|0    |20 |\n",
      "|0    |21 |\n",
      "|0    |22 |\n",
      "|0    |23 |\n",
      "|0    |24 |\n",
      "|0    |25 |\n",
      "|0    |26 |\n",
      "|0    |27 |\n",
      "+-----+---+\n",
      "only showing top 10 rows\n",
      "\n"
     ]
    },
    {
     "data": {
      "text/plain": [
       "null"
      ]
     },
     "execution_count": 55,
     "metadata": {},
     "output_type": "execute_result"
    }
   ],
   "source": [
    "val indicesRun = lines.filter{ l => \n",
    "        l.line.contains(\"=== MergeLast Start ===\") || l.line.contains(\"method=MergeLast,\") ||\n",
    "        l.line.contains(\"=== SpatialJoin Start ===\") || l.line.contains(\"method=SpatialJoin,\")\n",
    "    }\n",
    "    .orderBy(\"n\")\n",
    "    .select(\"n\")\n",
    "    .collect()\n",
    "    .toList\n",
    "    .map(_.getLong(0))\n",
    "    .grouped(2)\n",
    "    .toList\n",
    "    .map(pair => (pair.head, pair.last))\n",
    "    .filter(r => r._1 != r._2)\n",
    "    .zipWithIndex\n",
    "val indexRun = spark.createDataset(indicesRun)\n",
    "    .flatMap{ pair => \n",
    "        (pair._1._1 to pair._1._2)\n",
    "        .toList.map(v => (pair._2, v))\n",
    "    }\n",
    "    .toDF(\"runID\",\"n\")\n",
    "    .cache\n",
    "indexRun.show(10, truncate = false)"
   ]
  },
  {
   "cell_type": "code",
   "execution_count": 56,
   "metadata": {},
   "outputs": [
    {
     "name": "stdout",
     "output_type": "stream",
     "text": [
      "+-----+-----------------------+-----------+-----+-------+---+-----+----------+\n",
      "|runID|date                   |method     |cores|epsilon|mu |delta|methodTime|\n",
      "+-----+-----------------------+-----------+-----+-------+---+-----+----------+\n",
      "|0    |2018-05-29 08:32:13,609|SpatialJoin|28   |30.0   |4  |3    |641.899   |\n",
      "|1    |2018-05-29 08:42:24,770|MergeLast  |28   |30.0   |4  |3    |590.156   |\n",
      "|2    |2018-05-29 08:53:22,086|SpatialJoin|28   |30.0   |4  |4    |634.567   |\n",
      "|3    |2018-05-29 09:03:07,625|MergeLast  |28   |30.0   |4  |4    |560.882   |\n",
      "|4    |2018-05-29 09:14:10,225|SpatialJoin|28   |30.0   |4  |5    |639.184   |\n",
      "|5    |2018-05-29 09:23:27,070|MergeLast  |28   |30.0   |4  |5    |533.171   |\n",
      "|6    |2018-05-29 09:34:41,038|SpatialJoin|28   |30.0   |4  |6    |651.047   |\n",
      "|7    |2018-05-29 09:43:13,091|MergeLast  |28   |30.0   |4  |6    |489.391   |\n",
      "|8    |2018-05-29 09:53:47,335|SpatialJoin|28   |30.0   |4  |3    |611.923   |\n",
      "|9    |2018-05-29 10:08:26,373|MergeLast  |28   |30.0   |4  |3    |849.025   |\n",
      "+-----+-----------------------+-----------+-----+-------+---+-----+----------+\n",
      "only showing top 10 rows\n",
      "\n"
     ]
    },
    {
     "data": {
      "text/plain": [
       "null"
      ]
     },
     "execution_count": 56,
     "metadata": {},
     "output_type": "execute_result"
    }
   ],
   "source": [
    "val runs = indexRun.join(lines, \"n\").\n",
    "    groupBy(\"runID\").\n",
    "    agg(max($\"n\").alias(\"n\")).\n",
    "    join(lines, \"n\").\n",
    "    select(\"runID\", \"line\").\n",
    "    orderBy(\"runID\").\n",
    "    map{ row =>\n",
    "        val runID = row.getInt(0)\n",
    "        val line  = row.getString(1)\n",
    "        var arr1  = line.split(\" -> \")\n",
    "        val date  = arr1(0)\n",
    "        val arr2  = arr1(1).split(\",\")\n",
    "        val method  = arr2(0).split(\"=\")(1)\n",
    "        val cores   = arr2(1).split(\"=\")(1).toInt\n",
    "        val epsilon = arr2(2).split(\"=\")(1).toDouble\n",
    "        val mu      = arr2(3).split(\"=\")(1).toInt\n",
    "        val delta   = arr2(4).split(\"=\")(1).toInt\n",
    "        val time    = arr2(5).split(\"=\")(1).toDouble\n",
    "        Run(runID, date, method, cores, epsilon, mu, delta, time)\n",
    "    }.\n",
    "    cache\n",
    "runs.show(10, truncate = false)"
   ]
  },
  {
   "cell_type": "code",
   "execution_count": 57,
   "metadata": {},
   "outputs": [
    {
     "name": "stdout",
     "output_type": "stream",
     "text": [
      "+-----+---+-----------------------+-------------------------+---------+-----+------------+\n",
      "|runID|n  |timestamp              |stage                    |stageTime|load |unit        |\n",
      "+-----+---+-----------------------+-------------------------+---------+-----+------------+\n",
      "|0    |19 |2018-05-29 08:21:37,271|Reporting locations...   |5.31     |18093|points      |\n",
      "|0    |35 |2018-05-29 08:22:11,945|1.Set of disks for t_i...|34.67    |205  |disks       |\n",
      "|0    |36 |2018-05-29 08:22:12,381|4.Found flocks...        |0.44     |0    |flocks      |\n",
      "|0    |37 |2018-05-29 08:22:13,161|5.Updating times...      |0.48     |205  |flocks      |\n",
      "|0    |38 |2018-05-29 08:22:14,070|6.Filter phase...        |0.91     |205  |flocks      |\n",
      "|0    |39 |2018-05-29 08:22:18,768|Reporting locations...   |4.7      |18245|points      |\n",
      "|0    |55 |2018-05-29 08:22:41,868|1.Set of disks for t_i...|23.1     |216  |disks       |\n",
      "|0    |56 |2018-05-29 08:22:45,441|2.Distance Join phase... |3.57     |645  |combinations|\n",
      "|0    |57 |2018-05-29 08:22:48,824|3.Getting candidates...  |3.38     |196  |candidates  |\n",
      "|0    |58 |2018-05-29 08:22:49,586|4.Found flocks...        |0.76     |0    |flocks      |\n",
      "+-----+---+-----------------------+-------------------------+---------+-----+------------+\n",
      "only showing top 10 rows\n",
      "\n"
     ]
    },
    {
     "data": {
      "text/plain": [
       "null"
      ]
     },
     "execution_count": 57,
     "metadata": {},
     "output_type": "execute_result"
    }
   ],
   "source": [
    "val stages = lines.filter(_.line.contains(\"|\")).\n",
    "    join(indexRun, \"n\").\n",
    "    map{ m =>\n",
    "        val n         = m.getLong(0)\n",
    "        val line      = m.getString(1)\n",
    "        val runID     = m.getInt(2)\n",
    "        var arr1      = line.split(\" -> \")\n",
    "        val timestamp = arr1(0).trim\n",
    "        val arr2      = arr1(1).split(\"\\\\|\")\n",
    "        val stage     = arr2(0).trim\n",
    "        val time      = arr2(1).trim.dropRight(1).toDouble\n",
    "        val arr3      = arr2(2).trim.split(\" \")\n",
    "        val load      = arr3(0).toInt\n",
    "        val unit      = arr3(1)\n",
    "        Stage(runID, n, timestamp, stage, time, load, unit)\n",
    "    }.cache\n",
    "    \n",
    "stages.count()\n",
    "stages.show(10, truncate = false)"
   ]
  },
  {
   "cell_type": "code",
   "execution_count": 58,
   "metadata": {},
   "outputs": [
    {
     "name": "stdout",
     "output_type": "stream",
     "text": [
      "+-----+---+---------+-------+---+-----+----------------------------+---------+\n",
      "|runID|n  |method   |epsilon|mu |delta|stage                       |stageTime|\n",
      "+-----+---+---------+-------+---+-----+----------------------------+---------+\n",
      "|1    |291|MergeLast|30.0   |4  |3    |0.Reporting locations       |5.63     |\n",
      "|1    |307|MergeLast|30.0   |4  |3    |1.Set of disks for t_i      |31.7     |\n",
      "|1    |308|MergeLast|30.0   |4  |3    |0.Reporting locations       |4.93     |\n",
      "|1    |324|MergeLast|30.0   |4  |3    |2.Set of disks for t_i+delta|21.81    |\n",
      "|1    |325|MergeLast|30.0   |4  |3    |3.Joining timestams         |8.46     |\n",
      "|1    |326|MergeLast|30.0   |4  |3    |4.Checking internals        |12.11    |\n",
      "|1    |327|MergeLast|30.0   |4  |3    |0.Reporting locations       |4.85     |\n",
      "|1    |343|MergeLast|30.0   |4  |3    |1.Set of disks for t_i      |19.16    |\n",
      "|1    |344|MergeLast|30.0   |4  |3    |0.Reporting locations       |4.79     |\n",
      "|1    |360|MergeLast|30.0   |4  |3    |2.Set of disks for t_i+delta|34.52    |\n",
      "|1    |361|MergeLast|30.0   |4  |3    |3.Joining timestams         |7.67     |\n",
      "|1    |362|MergeLast|30.0   |4  |3    |4.Checking internals        |10.2     |\n",
      "|1    |363|MergeLast|30.0   |4  |3    |0.Reporting locations       |4.77     |\n",
      "|1    |364|MergeLast|30.0   |4  |3    |1.Set of disks for t_i      |0.19     |\n",
      "|1    |365|MergeLast|30.0   |4  |3    |0.Reporting locations       |4.75     |\n",
      "|1    |381|MergeLast|30.0   |4  |3    |2.Set of disks for t_i+delta|35.36    |\n",
      "|1    |382|MergeLast|30.0   |4  |3    |3.Joining timestams         |7.51     |\n",
      "|1    |383|MergeLast|30.0   |4  |3    |4.Checking internals        |9.49     |\n",
      "|1    |384|MergeLast|30.0   |4  |3    |0.Reporting locations       |4.76     |\n",
      "|1    |385|MergeLast|30.0   |4  |3    |1.Set of disks for t_i      |0.24     |\n",
      "+-----+---+---------+-------+---+-----+----------------------------+---------+\n",
      "only showing top 20 rows\n",
      "\n"
     ]
    },
    {
     "data": {
      "text/plain": [
       "null"
      ]
     },
     "execution_count": 58,
     "metadata": {},
     "output_type": "execute_result"
    }
   ],
   "source": [
    "val ml_stages = stages.join(runs, \"runID\").\n",
    "    filter($\"method\" === \"MergeLast\").\n",
    "    select($\"runID\", $\"n\", $\"method\", $\"epsilon\", $\"mu\", $\"delta\", $\"stage\".alias(\"stage0\"), $\"stageTime\").\n",
    "    withColumn(\"stage1\", regexp_replace($\"stage0\", \"Reporting locations at t=\\\\d+\", \"0.Reporting locations\")).\n",
    "    withColumn(\"stage2\", regexp_replace($\"stage1\", \"Checking internal timestamps\", \"4.Checking internals\")).\n",
    "    withColumn(\"stage3\", regexp_replace($\"stage2\", \"\\\\.\\\\.\\\\.\", \"\")).\n",
    "    select($\"runID\", $\"n\", $\"method\", $\"epsilon\", $\"mu\", $\"delta\", $\"stage3\".alias(\"stage\"), $\"stageTime\").\n",
    "    filter(!$\"stage\".rlike(\"4.Distance Join phase\")).\n",
    "    filter(!$\"stage\".rlike(\"5.Getting candidates\"))\n",
    "ml_stages.show(truncate = false)\n"
   ]
  },
  {
   "cell_type": "code",
   "execution_count": 59,
   "metadata": {},
   "outputs": [
    {
     "name": "stdout",
     "output_type": "stream",
     "text": [
      "+-----+---+-----------+-------+---+-----+----------------------+---------+\n",
      "|runID|n  |method     |epsilon|mu |delta|stage                 |stageTime|\n",
      "+-----+---+-----------+-------+---+-----+----------------------+---------+\n",
      "|0    |19 |SpatialJoin|30.0   |4  |3    |0.Reporting locations |5.31     |\n",
      "|0    |35 |SpatialJoin|30.0   |4  |3    |1.Set of disks for t_i|34.67    |\n",
      "|0    |36 |SpatialJoin|30.0   |4  |3    |4.Found flocks        |0.44     |\n",
      "|0    |37 |SpatialJoin|30.0   |4  |3    |5.Updating times      |0.48     |\n",
      "|0    |38 |SpatialJoin|30.0   |4  |3    |6.Filter phase        |0.91     |\n",
      "|0    |39 |SpatialJoin|30.0   |4  |3    |0.Reporting locations |4.7      |\n",
      "|0    |55 |SpatialJoin|30.0   |4  |3    |1.Set of disks for t_i|23.1     |\n",
      "|0    |56 |SpatialJoin|30.0   |4  |3    |2.Distance Join phase |3.57     |\n",
      "|0    |57 |SpatialJoin|30.0   |4  |3    |3.Getting candidates  |3.38     |\n",
      "|0    |58 |SpatialJoin|30.0   |4  |3    |4.Found flocks        |0.76     |\n",
      "|0    |59 |SpatialJoin|30.0   |4  |3    |5.Updating times      |1.56     |\n",
      "|0    |60 |SpatialJoin|30.0   |4  |3    |6.Filter phase        |2.99     |\n",
      "|0    |61 |SpatialJoin|30.0   |4  |3    |0.Reporting locations |4.81     |\n",
      "|0    |77 |SpatialJoin|30.0   |4  |3    |1.Set of disks for t_i|21.43    |\n",
      "|0    |78 |SpatialJoin|30.0   |4  |3    |2.Distance Join phase |7.62     |\n",
      "|0    |79 |SpatialJoin|30.0   |4  |3    |3.Getting candidates  |5.26     |\n",
      "|0    |80 |SpatialJoin|30.0   |4  |3    |4.Found flocks        |0.72     |\n",
      "|0    |81 |SpatialJoin|30.0   |4  |3    |5.Updating times      |1.16     |\n",
      "|0    |82 |SpatialJoin|30.0   |4  |3    |6.Filter phase        |2.08     |\n",
      "|0    |83 |SpatialJoin|30.0   |4  |3    |0.Reporting locations |4.47     |\n",
      "+-----+---+-----------+-------+---+-----+----------------------+---------+\n",
      "only showing top 20 rows\n",
      "\n"
     ]
    },
    {
     "data": {
      "text/plain": [
       "null"
      ]
     },
     "execution_count": 59,
     "metadata": {},
     "output_type": "execute_result"
    }
   ],
   "source": [
    "val sj_stages = stages.join(runs, \"runID\").\n",
    "    filter($\"method\" === \"SpatialJoin\").\n",
    "    select($\"runID\", $\"n\", $\"method\", $\"epsilon\", $\"mu\", $\"delta\", $\"stage\".alias(\"stage0\"), $\"stageTime\").\n",
    "    withColumn(\"stage1\", regexp_replace($\"stage0\", \"\\\\.\\\\.\\\\.\", \"\")).\n",
    "    withColumn(\"stage2\", regexp_replace($\"stage1\", \"Reporting\", \"0.Reporting\")).\n",
    "    select($\"runID\", $\"n\", $\"method\", $\"epsilon\", $\"mu\", $\"delta\", $\"stage2\".alias(\"stage\"), $\"stageTime\").\n",
    "    filter(!$\"stage\".rlike(\"4.Distance Join phase\")).\n",
    "    filter(!$\"stage\".rlike(\"5.Getting candidates\"))\n",
    "sj_stages.show(truncate = false)\n",
    "\n"
   ]
  },
  {
   "cell_type": "code",
   "execution_count": 60,
   "metadata": {},
   "outputs": [
    {
     "name": "stdout",
     "output_type": "stream",
     "text": [
      "+-----+-----------+-------+---+-----+-------+\n",
      "|runID|method     |epsilon|mu |delta|time   |\n",
      "+-----+-----------+-------+---+-----+-------+\n",
      "|0    |SpatialJoin|30.0   |4  |3    |641.899|\n",
      "|1    |MergeLast  |30.0   |4  |3    |590.156|\n",
      "|2    |SpatialJoin|30.0   |4  |4    |634.567|\n",
      "|3    |MergeLast  |30.0   |4  |4    |560.882|\n",
      "|4    |SpatialJoin|30.0   |4  |5    |639.184|\n",
      "|5    |MergeLast  |30.0   |4  |5    |533.171|\n",
      "|6    |SpatialJoin|30.0   |4  |6    |651.047|\n",
      "|7    |MergeLast  |30.0   |4  |6    |489.391|\n",
      "|8    |SpatialJoin|30.0   |4  |3    |611.923|\n",
      "|9    |MergeLast  |30.0   |4  |3    |849.025|\n",
      "+-----+-----------+-------+---+-----+-------+\n",
      "only showing top 10 rows\n",
      "\n"
     ]
    },
    {
     "data": {
      "text/plain": [
       "null"
      ]
     },
     "execution_count": 60,
     "metadata": {},
     "output_type": "execute_result"
    }
   ],
   "source": [
    "val data = runs.select($\"runID\", $\"method\", $\"epsilon\", $\"mu\", $\"delta\", $\"methodTime\".alias(\"time\")).\n",
    "    orderBy($\"runID\", $\"epsilon\", $\"method\").\n",
    "    cache\n",
    "data.count()\n",
    "data.show(10, truncate = false)"
   ]
  },
  {
   "cell_type": "code",
   "execution_count": 61,
   "metadata": {},
   "outputs": [
    {
     "data": {
      "text/plain": [
       "null"
      ]
     },
     "execution_count": 61,
     "metadata": {},
     "output_type": "execute_result"
    }
   ],
   "source": [
    "val d = data.collect.map(_.mkString(\";\")).mkString(\"\\n\")\n",
    "\n",
    "import java.io._\n",
    "val pw = new PrintWriter(new File(s\"${folder}methods${prefix}.csv\" ))\n",
    "pw.write(s\"$d\\n\")\n",
    "pw.close"
   ]
  },
  {
   "cell_type": "code",
   "execution_count": 62,
   "metadata": {},
   "outputs": [
    {
     "data": {
      "text/plain": [
       "null"
      ]
     },
     "execution_count": 62,
     "metadata": {},
     "output_type": "execute_result"
    }
   ],
   "source": [
    "val d = ml_stages.union(sj_stages).collect.map(_.mkString(\";\")).mkString(\"\\n\")\n",
    "\n",
    "import java.io._\n",
    "val pw = new PrintWriter(new File(s\"${folder}stages${prefix}.csv\" ))\n",
    "pw.write(s\"$d\\n\")\n",
    "pw.close"
   ]
  },
  {
   "cell_type": "code",
   "execution_count": 63,
   "metadata": {},
   "outputs": [
    {
     "name": "stdout",
     "output_type": "stream",
     "text": [
      "+-----+---+\n",
      "|mdfID|n  |\n",
      "+-----+---+\n",
      "|0    |20 |\n",
      "|0    |21 |\n",
      "|0    |22 |\n",
      "|0    |23 |\n",
      "|0    |24 |\n",
      "|0    |25 |\n",
      "|0    |26 |\n",
      "|0    |27 |\n",
      "|0    |28 |\n",
      "|0    |29 |\n",
      "|0    |30 |\n",
      "|0    |31 |\n",
      "|0    |32 |\n",
      "|0    |33 |\n",
      "|1    |40 |\n",
      "+-----+---+\n",
      "only showing top 15 rows\n",
      "\n"
     ]
    },
    {
     "data": {
      "text/plain": [
       "null"
      ]
     },
     "execution_count": 63,
     "metadata": {},
     "output_type": "execute_result"
    }
   ],
   "source": [
    "val indicesMdf = lines.filter{ l => \n",
    "        l.line.contains(\" -> Setting mu=\") || l.line.contains(\" ->   berlin0-10,\") \n",
    "    }\n",
    "    .orderBy(\"n\")\n",
    "    .select(\"n\")\n",
    "    .collect()\n",
    "    .toList\n",
    "    .map(_.getLong(0))\n",
    "    .grouped(2)\n",
    "    .toList\n",
    "    .map(pair => (pair.head, pair.last))\n",
    "    .filter(r => r._1 != r._2)\n",
    "    .zipWithIndex\n",
    "val indexMdf = spark.createDataset(indicesMdf)\n",
    "    .flatMap{ pair => \n",
    "        (pair._1._1 to pair._1._2)\n",
    "        .toList.map(v => (pair._2, v))\n",
    "    }\n",
    "    .toDF(\"mdfID\",\"n\")\n",
    "    .cache\n",
    "indexMdf.show(15, truncate = false)"
   ]
  },
  {
   "cell_type": "code",
   "execution_count": 64,
   "metadata": {},
   "outputs": [
    {
     "name": "stdout",
     "output_type": "stream",
     "text": [
      "+-----+---+\n",
      "|mdfID|m  |\n",
      "+-----+---+\n",
      "|0    |33 |\n",
      "|1    |53 |\n",
      "|2    |75 |\n",
      "|3    |97 |\n",
      "|4    |119|\n",
      "|5    |141|\n",
      "|6    |163|\n",
      "|7    |185|\n",
      "|8    |207|\n",
      "|9    |229|\n",
      "+-----+---+\n",
      "only showing top 10 rows\n",
      "\n"
     ]
    },
    {
     "data": {
      "text/plain": [
       "null"
      ]
     },
     "execution_count": 64,
     "metadata": {},
     "output_type": "execute_result"
    }
   ],
   "source": [
    "val mdfInfo = indexMdf.groupBy($\"mdfID\").agg(max($\"n\").alias(\"m\")).orderBy($\"m\")\n",
    "mdfInfo.show(10, truncate = false)"
   ]
  },
  {
   "cell_type": "code",
   "execution_count": 65,
   "metadata": {
    "scrolled": true
   },
   "outputs": [
    {
     "name": "stderr",
     "output_type": "stream",
     "text": []
    },
    {
     "name": "stdout",
     "output_type": "stream",
     "text": [
      "+-----------+-------+---+-----+---------+\n",
      "|method     |epsilon|mu |delta|timestamp|\n",
      "+-----------+-------+---+-----+---------+\n",
      "|SpatialJoin|30.0   |4  |3    |  0      |\n",
      "|SpatialJoin|30.0   |4  |3    |  1      |\n",
      "|SpatialJoin|30.0   |4  |3    |  2      |\n",
      "|SpatialJoin|30.0   |4  |3    |  3      |\n",
      "|SpatialJoin|30.0   |4  |3    |  4      |\n",
      "|SpatialJoin|30.0   |4  |3    |  5      |\n",
      "|SpatialJoin|30.0   |4  |3    |  6      |\n",
      "|SpatialJoin|30.0   |4  |3    |  7      |\n",
      "|SpatialJoin|30.0   |4  |3    |  8      |\n",
      "|SpatialJoin|30.0   |4  |3    |  9      |\n",
      "|SpatialJoin|30.0   |4  |3    | 10      |\n",
      "|MergeLast  |30.0   |4  |3    |  0      |\n",
      "|MergeLast  |30.0   |4  |3    |  2      |\n",
      "|MergeLast  |30.0   |4  |3    |  1      |\n",
      "|MergeLast  |30.0   |4  |3    |  3      |\n",
      "|MergeLast  |30.0   |4  |3    |  4      |\n",
      "|MergeLast  |30.0   |4  |3    |  5      |\n",
      "|MergeLast  |30.0   |4  |3    |  6      |\n",
      "|MergeLast  |30.0   |4  |3    |  7      |\n",
      "|MergeLast  |30.0   |4  |3    |  8      |\n",
      "+-----------+-------+---+-----+---------+\n",
      "only showing top 20 rows\n",
      "\n"
     ]
    },
    {
     "data": {
      "text/plain": [
       "null"
      ]
     },
     "execution_count": 65,
     "metadata": {},
     "output_type": "execute_result"
    }
   ],
   "source": [
    "val mdfInfo = indexMdf.groupBy($\"mdfID\").agg(max($\"n\").alias(\"n\")).orderBy($\"n\").\n",
    "    join(indexRun, \"n\").\n",
    "    join(runs, \"runID\").\n",
    "    join(lines, \"n\").\n",
    "    select($\"method\", $\"epsilon\", $\"mu\", $\"delta\", $\"line\").\n",
    "    withColumn(\"timestamp\", substring($\"line\", 122, 124)).\n",
    "    select($\"method\", $\"epsilon\", $\"mu\", $\"delta\", $\"timestamp\")\n",
    "\n",
    "mdfInfo.show(truncate = false)"
   ]
  },
  {
   "cell_type": "code",
   "execution_count": 66,
   "metadata": {},
   "outputs": [
    {
     "name": "stderr",
     "output_type": "stream",
     "text": []
    },
    {
     "data": {
      "text/plain": [
       "null"
      ]
     },
     "execution_count": 66,
     "metadata": {},
     "output_type": "execute_result"
    }
   ],
   "source": [
    "val d = mdfInfo.collect.map(_.mkString(\";\")).mkString(\"\\n\")\n",
    "\n",
    "import java.io._\n",
    "val pw = new PrintWriter(new File(s\"${folder}mdfInfo${prefix}.csv\" ))\n",
    "pw.write(s\"$d\\n\")\n",
    "pw.close"
   ]
  },
  {
   "cell_type": "code",
   "execution_count": null,
   "metadata": {},
   "outputs": [],
   "source": []
  }
 ],
 "metadata": {
  "kernelspec": {
   "display_name": "Scala",
   "language": "scala",
   "name": "scala"
  },
  "language_info": {
   "codemirror_mode": "text/x-scala",
   "file_extension": ".scala",
   "mimetype": "",
   "name": "Scala",
   "nbconverter_exporter": "",
   "version": "2.11.12"
  }
 },
 "nbformat": 4,
 "nbformat_minor": 2
}
