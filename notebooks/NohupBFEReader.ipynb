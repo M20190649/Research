{
 "cells": [
  {
   "cell_type": "code",
   "execution_count": 1,
   "metadata": {},
   "outputs": [
    {
     "data": {
      "application/vnd.jupyter.widget-view+json": {
       "model_id": "f8592f67-38bf-48d4-9c6a-9464a1e3a1f6",
       "version_major": 2,
       "version_minor": 0
      },
      "method": "display_data"
     },
     "metadata": {},
     "output_type": "display_data"
    },
    {
     "data": {
      "application/vnd.jupyter.widget-view+json": {
       "model_id": "94e4e2dc-acfe-43ba-816f-217c476f760e",
       "version_major": 2,
       "version_minor": 0
      },
      "method": "display_data"
     },
     "metadata": {},
     "output_type": "display_data"
    },
    {
     "data": {
      "text/plain": [
       "null"
      ]
     },
     "execution_count": 1,
     "metadata": {},
     "output_type": "execute_result"
    }
   ],
   "source": [
    "%classpath add mvn org.apache.spark spark-sql_2.11 2.1.0\n",
    "org.apache.log4j.Logger.getRootLogger().setLevel(org.apache.log4j.Level.ERROR);\n"
   ]
  },
  {
   "cell_type": "code",
   "execution_count": 2,
   "metadata": {},
   "outputs": [
    {
     "data": {
      "text/plain": [
       "import org.apache.spark._\n",
       "import org.apache.spark.sql._\n",
       "import org.apache.spark.sql.functions._\n"
      ]
     },
     "execution_count": 2,
     "metadata": {},
     "output_type": "execute_result"
    }
   ],
   "source": [
    "import org.apache.spark._\n",
    "import org.apache.spark.sql._\n",
    "import org.apache.spark.sql.functions._ \n"
   ]
  },
  {
   "cell_type": "code",
   "execution_count": 3,
   "metadata": {},
   "outputs": [
    {
     "data": {
      "text/plain": [
       "org.apache.spark.sql.SparkSession@52bbcc44"
      ]
     },
     "execution_count": 3,
     "metadata": {},
     "output_type": "execute_result"
    }
   ],
   "source": [
    "val spark = SparkSession.builder() \n",
    "  .master(\"local[*]\") \n",
    "  .config(\"spark.executor.memory\", \"3g\")\n",
    "  .config(\"spark.sql.warehouse.dir\", \"/tmp/spark-warehouse\")\n",
    "  .appName(\"NohupReader\")\n",
    "  .getOrCreate()\n"
   ]
  },
  {
   "cell_type": "code",
   "execution_count": 4,
   "metadata": {},
   "outputs": [
    {
     "data": {
      "text/plain": [
       "org.apache.spark.sql.SparkSession$implicits$@75f1d812"
      ]
     },
     "execution_count": 4,
     "metadata": {},
     "output_type": "execute_result"
    }
   ],
   "source": [
    "import spark.implicits._\n",
    "\n",
    "val research_home: String = scala.util.Properties.envOrElse(\"RESEARCH_HOME\", \"/home/acald013/Research/\")\n",
    "val folder = s\"${research_home}Scripts/Misc/\"\n",
    "val prefix = \"nohup\"\n",
    "\n",
    "val nohup = spark.read.textFile(s\"${folder}${prefix}.out\")\n"
   ]
  },
  {
   "cell_type": "code",
   "execution_count": 5,
   "metadata": {},
   "outputs": [
    {
     "name": "stdout",
     "output_type": "stream",
     "text": [
      "360\n"
     ]
    },
    {
     "data": {
      "text/plain": [
       "null"
      ]
     },
     "execution_count": 5,
     "metadata": {},
     "output_type": "execute_result"
    }
   ],
   "source": [
    "println(nohup.count)"
   ]
  },
  {
   "cell_type": "code",
   "execution_count": 6,
   "metadata": {},
   "outputs": [
    {
     "data": {
      "text/plain": [
       "defined class Line\n",
       "defined class Run\n",
       "defined class DatasetOps\n"
      ]
     },
     "execution_count": 6,
     "metadata": {},
     "output_type": "execute_result"
    }
   ],
   "source": [
    "org.apache.spark.sql.catalyst.encoders.OuterScopes.addOuterScope(this)\n",
    "case class Line(line: String, n: Long)\n",
    "case class Run(runID: Long, method: String, epsilon: Double, mu: Int, delta: Int)\n",
    "\n",
    "implicit class DatasetOps(ds: org.apache.spark.sql.Dataset[_]) {\n",
    "    def display(rows: Int = 20) = {\n",
    "        import com.twosigma.beakerx.scala.table.TableDisplay\n",
    "        val columns = ds.columns\n",
    "        val rowVals = ds.toDF.take(rows)\n",
    "        val t = new TableDisplay(rowVals map (row => (columns zip row.toSeq).toMap))\n",
    "        t.display()\n",
    "    }\n",
    "}"
   ]
  },
  {
   "cell_type": "code",
   "execution_count": 8,
   "metadata": {},
   "outputs": [
    {
     "name": "stdout",
     "output_type": "stream",
     "text": [
      "+--------------------+---+\n",
      "|                line|  n|\n",
      "+--------------------+---+\n",
      "|FLOCKFINDER=bfe;T...|  0|\n",
      "|                    |  1|\n",
      "|      real\t2m42.358s|  2|\n",
      "|      user\t2m41.969s|  3|\n",
      "|        sys\t0m0.334s|  4|\n",
      "|Closing stream: /...|  5|\n",
      "|totalTime(ms):\t16...|  6|\n",
      "|FLOCKFINDER=bfe;T...|  7|\n",
      "|FLOCKFINDER=bfe;T...|  8|\n",
      "|                    |  9|\n",
      "+--------------------+---+\n",
      "only showing top 10 rows\n",
      "\n"
     ]
    },
    {
     "data": {
      "text/plain": [
       "null"
      ]
     },
     "execution_count": 8,
     "metadata": {},
     "output_type": "execute_result"
    }
   ],
   "source": [
    "val lines = nohup.toDF(\"line\").withColumn(\"n\", monotonicallyIncreasingId).as[Line].cache()\n",
    "val nLines = lines.count()\n",
    "lines.show(10)"
   ]
  },
  {
   "cell_type": "code",
   "execution_count": 9,
   "metadata": {},
   "outputs": [
    {
     "name": "stderr",
     "output_type": "stream",
     "text": []
    },
    {
     "name": "stdout",
     "output_type": "stream",
     "text": [
      "+-----+---+\n",
      "|runID|n  |\n",
      "+-----+---+\n",
      "|0    |0  |\n",
      "|0    |1  |\n",
      "|0    |2  |\n",
      "|0    |3  |\n",
      "|0    |4  |\n",
      "|0    |5  |\n",
      "|0    |6  |\n",
      "|0    |7  |\n",
      "|1    |8  |\n",
      "|1    |9  |\n",
      "|1    |10 |\n",
      "|1    |11 |\n",
      "|1    |12 |\n",
      "|1    |13 |\n",
      "|1    |14 |\n",
      "|1    |15 |\n",
      "|2    |16 |\n",
      "|2    |17 |\n",
      "|2    |18 |\n",
      "|2    |19 |\n",
      "+-----+---+\n",
      "only showing top 20 rows\n",
      "\n"
     ]
    },
    {
     "data": {
      "text/plain": [
       "null"
      ]
     },
     "execution_count": 9,
     "metadata": {},
     "output_type": "execute_result"
    }
   ],
   "source": [
    "val indicesRun = lines.filter{ l => \n",
    "        l.line.contains(\"EVENT=Start\") || l.line.contains(\"EVENT=End\")\n",
    "    }\n",
    "    .orderBy(\"n\")\n",
    "    .select(\"n\")\n",
    "    .collect()\n",
    "    .toList\n",
    "    .map(_.getLong(0))\n",
    "    .grouped(2)\n",
    "    .toList\n",
    "    .map(pair => (pair.head, pair.last))\n",
    "    .filter(r => r._1 != r._2)\n",
    "    .zipWithIndex\n",
    "val indexRun = spark.createDataset(indicesRun)\n",
    "    .flatMap{ pair => \n",
    "        (pair._1._1 to pair._1._2)\n",
    "        .toList.map(v => (pair._2, v))\n",
    "    }\n",
    "    .toDF(\"runID\",\"n\")\n",
    "    .cache\n",
    "indexRun.show(20, truncate = false)"
   ]
  },
  {
   "cell_type": "code",
   "execution_count": 10,
   "metadata": {},
   "outputs": [
    {
     "name": "stderr",
     "output_type": "stream",
     "text": []
    },
    {
     "name": "stdout",
     "output_type": "stream",
     "text": [
      "+-----+------+-------+---+-----+\n",
      "|runID|method|epsilon|mu |delta|\n",
      "+-----+------+-------+---+-----+\n",
      "|0    |bfe   |80.0   |5  |6    |\n",
      "|1    |bfe   |90.0   |5  |6    |\n",
      "|2    |bfe   |100.0  |5  |6    |\n",
      "|3    |bfe   |110.0  |5  |6    |\n",
      "|4    |bfe   |120.0  |5  |6    |\n",
      "|5    |bfe   |100.0  |4  |6    |\n",
      "|6    |bfe   |100.0  |5  |6    |\n",
      "|7    |bfe   |100.0  |6  |6    |\n",
      "|8    |bfe   |100.0  |7  |6    |\n",
      "|9    |bfe   |100.0  |8  |6    |\n",
      "|10   |bfe   |100.0  |5  |3    |\n",
      "|11   |bfe   |100.0  |5  |4    |\n",
      "|12   |bfe   |100.0  |5  |5    |\n",
      "|13   |bfe   |100.0  |5  |6    |\n",
      "|14   |bfe   |100.0  |5  |7    |\n",
      "|15   |bfe   |80.0   |5  |6    |\n",
      "|16   |bfe   |90.0   |5  |6    |\n",
      "|17   |bfe   |100.0  |5  |6    |\n",
      "|18   |bfe   |110.0  |5  |6    |\n",
      "|19   |bfe   |120.0  |5  |6    |\n",
      "|20   |bfe   |100.0  |4  |6    |\n",
      "|21   |bfe   |100.0  |5  |6    |\n",
      "|22   |bfe   |100.0  |6  |6    |\n",
      "|23   |bfe   |100.0  |7  |6    |\n",
      "|24   |bfe   |100.0  |8  |6    |\n",
      "|25   |bfe   |100.0  |5  |3    |\n",
      "|26   |bfe   |100.0  |5  |4    |\n",
      "|27   |bfe   |100.0  |5  |5    |\n",
      "|28   |bfe   |100.0  |5  |6    |\n",
      "|29   |bfe   |100.0  |5  |7    |\n",
      "|30   |bfe   |80.0   |5  |6    |\n",
      "|31   |bfe   |90.0   |5  |6    |\n",
      "|32   |bfe   |100.0  |5  |6    |\n",
      "|33   |bfe   |110.0  |5  |6    |\n",
      "|34   |bfe   |120.0  |5  |6    |\n",
      "|35   |bfe   |100.0  |4  |6    |\n",
      "|36   |bfe   |100.0  |5  |6    |\n",
      "|37   |bfe   |100.0  |6  |6    |\n",
      "|38   |bfe   |100.0  |7  |6    |\n",
      "|39   |bfe   |100.0  |8  |6    |\n",
      "|40   |bfe   |100.0  |5  |3    |\n",
      "|41   |bfe   |100.0  |5  |4    |\n",
      "|42   |bfe   |100.0  |5  |5    |\n",
      "|43   |bfe   |100.0  |5  |6    |\n",
      "|44   |bfe   |100.0  |5  |7    |\n",
      "+-----+------+-------+---+-----+\n",
      "\n"
     ]
    },
    {
     "data": {
      "text/plain": [
       "null"
      ]
     },
     "execution_count": 10,
     "metadata": {},
     "output_type": "execute_result"
    }
   ],
   "source": [
    "val runs = indexRun.join(lines, \"n\").\n",
    "    groupBy(\"runID\").\n",
    "    agg(max($\"n\").alias(\"n\")).\n",
    "    join(lines, \"n\").\n",
    "    select(\"runID\", \"line\").\n",
    "    orderBy(\"runID\").\n",
    "    map{ row =>\n",
    "        val runID = row.getInt(0)\n",
    "        val line  = row.getString(1)\n",
    "        var arr  = line.split(\";\")\n",
    "        val method  = arr(0).split(\"=\")(1)\n",
    "        val epsilon = arr(3).split(\"=\")(1).toDouble\n",
    "        val mu      = arr(4).split(\"=\")(1).toInt\n",
    "        val delta   = arr(5).split(\"=\")(1).toInt\n",
    "        Run(runID, method, epsilon, mu, delta)\n",
    "    }.\n",
    "    cache\n",
    "val nRuns = runs.count()\n",
    "runs.show(nRuns.toInt, truncate = false)"
   ]
  },
  {
   "cell_type": "code",
   "execution_count": 11,
   "metadata": {},
   "outputs": [
    {
     "name": "stdout",
     "output_type": "stream",
     "text": [
      "+-----+-----------+\n",
      "|runID|time       |\n",
      "+-----+-----------+\n",
      "|0    |162080     |\n",
      "|1    |320030     |\n",
      "|2    |696550     |\n",
      "|3    |1.15391e+06|\n",
      "|4    |1.55363e+06|\n",
      "|5    |1.19188e+06|\n",
      "|6    |699980     |\n",
      "|7    |474060     |\n",
      "|8    |342150     |\n",
      "|9    |270160     |\n",
      "|10   |511290     |\n",
      "|11   |558310     |\n",
      "|12   |630360     |\n",
      "|13   |721660     |\n",
      "|14   |792870     |\n",
      "|15   |161510     |\n",
      "|16   |332700     |\n",
      "|17   |697720     |\n",
      "|18   |1.19017e+06|\n",
      "|19   |1.55315e+06|\n",
      "+-----+-----------+\n",
      "only showing top 20 rows\n",
      "\n"
     ]
    },
    {
     "data": {
      "text/plain": [
       "null"
      ]
     },
     "execution_count": 11,
     "metadata": {},
     "output_type": "execute_result"
    }
   ],
   "source": [
    "val times = lines.join(indexRun, \"n\").\n",
    "    filter($\"line\".rlike(\"totalTime\")).\n",
    "    map{ m =>\n",
    "        (m.getInt(2), m.getString(1).split(\"\\t\")(1))\n",
    "    }.\n",
    "    toDF(\"runID\", \"time\")\n",
    "times.show(20, truncate = false)"
   ]
  },
  {
   "cell_type": "code",
   "execution_count": 13,
   "metadata": {},
   "outputs": [
    {
     "name": "stdout",
     "output_type": "stream",
     "text": [
      "+-----+------+-------+---+-----+-----------+\n",
      "|runID|method|epsilon|mu |delta|time       |\n",
      "+-----+------+-------+---+-----+-----------+\n",
      "|0    |bfe   |80.0   |5  |6    |162080     |\n",
      "|1    |bfe   |90.0   |5  |6    |320030     |\n",
      "|2    |bfe   |100.0  |5  |6    |696550     |\n",
      "|3    |bfe   |110.0  |5  |6    |1.15391e+06|\n",
      "|4    |bfe   |120.0  |5  |6    |1.55363e+06|\n",
      "|5    |bfe   |100.0  |4  |6    |1.19188e+06|\n",
      "|6    |bfe   |100.0  |5  |6    |699980     |\n",
      "|7    |bfe   |100.0  |6  |6    |474060     |\n",
      "|8    |bfe   |100.0  |7  |6    |342150     |\n",
      "|9    |bfe   |100.0  |8  |6    |270160     |\n",
      "|10   |bfe   |100.0  |5  |3    |511290     |\n",
      "|11   |bfe   |100.0  |5  |4    |558310     |\n",
      "|12   |bfe   |100.0  |5  |5    |630360     |\n",
      "|13   |bfe   |100.0  |5  |6    |721660     |\n",
      "|14   |bfe   |100.0  |5  |7    |792870     |\n",
      "|15   |bfe   |80.0   |5  |6    |161510     |\n",
      "|16   |bfe   |90.0   |5  |6    |332700     |\n",
      "|17   |bfe   |100.0  |5  |6    |697720     |\n",
      "|18   |bfe   |110.0  |5  |6    |1.19017e+06|\n",
      "|19   |bfe   |120.0  |5  |6    |1.55315e+06|\n",
      "|20   |bfe   |100.0  |4  |6    |1.19523e+06|\n",
      "|21   |bfe   |100.0  |5  |6    |720020     |\n",
      "|22   |bfe   |100.0  |6  |6    |470540     |\n",
      "|23   |bfe   |100.0  |7  |6    |342840     |\n",
      "|24   |bfe   |100.0  |8  |6    |262690     |\n",
      "|25   |bfe   |100.0  |5  |3    |492580     |\n",
      "|26   |bfe   |100.0  |5  |4    |563220     |\n",
      "|27   |bfe   |100.0  |5  |5    |627290     |\n",
      "|28   |bfe   |100.0  |5  |6    |726470     |\n",
      "|29   |bfe   |100.0  |5  |7    |799900     |\n",
      "|30   |bfe   |80.0   |5  |6    |157430     |\n",
      "|31   |bfe   |90.0   |5  |6    |320010     |\n",
      "|32   |bfe   |100.0  |5  |6    |726450     |\n",
      "|33   |bfe   |110.0  |5  |6    |1.15864e+06|\n",
      "|34   |bfe   |120.0  |5  |6    |1.57493e+06|\n",
      "|35   |bfe   |100.0  |4  |6    |1.19788e+06|\n",
      "|36   |bfe   |100.0  |5  |6    |707690     |\n",
      "|37   |bfe   |100.0  |6  |6    |495100     |\n",
      "|38   |bfe   |100.0  |7  |6    |360740     |\n",
      "|39   |bfe   |100.0  |8  |6    |273500     |\n",
      "|40   |bfe   |100.0  |5  |3    |506520     |\n",
      "|41   |bfe   |100.0  |5  |4    |559190     |\n",
      "|42   |bfe   |100.0  |5  |5    |655790     |\n",
      "|43   |bfe   |100.0  |5  |6    |722690     |\n",
      "|44   |bfe   |100.0  |5  |7    |766120     |\n",
      "+-----+------+-------+---+-----+-----------+\n",
      "\n"
     ]
    },
    {
     "data": {
      "text/plain": [
       "null"
      ]
     },
     "execution_count": 13,
     "metadata": {},
     "output_type": "execute_result"
    }
   ],
   "source": [
    "val data = runs.join(times, \"runID\")\n",
    "val nData = data.count\n",
    "data.show(nData.toInt, false)"
   ]
  },
  {
   "cell_type": "code",
   "execution_count": 14,
   "metadata": {},
   "outputs": [
    {
     "data": {
      "text/plain": [
       "null"
      ]
     },
     "execution_count": 14,
     "metadata": {},
     "output_type": "execute_result"
    }
   ],
   "source": [
    "val d = data.collect.map(_.mkString(\";\")).mkString(\"\\n\")\n",
    "\n",
    "import java.io._\n",
    "val pw = new PrintWriter(new File(s\"${folder}bfe_${prefix}.csv\" ))\n",
    "pw.write(s\"$d\\n\")\n",
    "pw.close"
   ]
  },
  {
   "cell_type": "code",
   "execution_count": null,
   "metadata": {},
   "outputs": [],
   "source": []
  }
 ],
 "metadata": {
  "kernelspec": {
   "display_name": "Scala",
   "language": "scala",
   "name": "scala"
  },
  "language_info": {
   "codemirror_mode": "text/x-scala",
   "file_extension": ".scala",
   "mimetype": "",
   "name": "Scala",
   "nbconverter_exporter": "",
   "version": "2.11.12"
  }
 },
 "nbformat": 4,
 "nbformat_minor": 2
}
