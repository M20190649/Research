{
 "cells": [
  {
   "cell_type": "code",
   "execution_count": 1,
   "metadata": {},
   "outputs": [
    {
     "data": {
      "application/vnd.jupyter.widget-view+json": {
       "model_id": "5136967c-f859-4816-a8cc-f2a7ac406dff",
       "version_major": 2,
       "version_minor": 0
      },
      "method": "display_data"
     },
     "metadata": {},
     "output_type": "display_data"
    },
    {
     "data": {
      "application/vnd.jupyter.widget-view+json": {
       "model_id": "da2023c1-f220-47ba-bde0-6426488c5dc3",
       "version_major": 2,
       "version_minor": 0
      },
      "method": "display_data"
     },
     "metadata": {},
     "output_type": "display_data"
    },
    {
     "data": {
      "text/plain": [
       "null"
      ]
     },
     "execution_count": 1,
     "metadata": {},
     "output_type": "execute_result"
    }
   ],
   "source": [
    "%classpath add mvn org.apache.spark spark-sql_2.11 2.1.0\n",
    "org.apache.log4j.Logger.getRootLogger().setLevel(org.apache.log4j.Level.ERROR);\n"
   ]
  },
  {
   "cell_type": "code",
   "execution_count": 2,
   "metadata": {},
   "outputs": [
    {
     "data": {
      "text/plain": [
       "import org.apache.spark._\n",
       "import org.apache.spark.sql._\n",
       "import org.apache.spark.sql.functions._\n"
      ]
     },
     "execution_count": 2,
     "metadata": {},
     "output_type": "execute_result"
    }
   ],
   "source": [
    "import org.apache.spark._\n",
    "import org.apache.spark.sql._\n",
    "import org.apache.spark.sql.functions._ \n"
   ]
  },
  {
   "cell_type": "code",
   "execution_count": 3,
   "metadata": {},
   "outputs": [
    {
     "data": {
      "text/plain": [
       "org.apache.spark.sql.SparkSession@6b35b077"
      ]
     },
     "execution_count": 3,
     "metadata": {},
     "output_type": "execute_result"
    }
   ],
   "source": [
    "val spark = SparkSession.builder() \n",
    "  .master(\"local[*]\") \n",
    "  .config(\"spark.executor.memory\", \"3g\")\n",
    "  .config(\"spark.sql.warehouse.dir\", \"/tmp/spark-warehouse\")\n",
    "  .appName(\"NohupReader\")\n",
    "  .getOrCreate()\n"
   ]
  },
  {
   "cell_type": "code",
   "execution_count": 4,
   "metadata": {},
   "outputs": [
    {
     "data": {
      "text/plain": [
       "org.apache.spark.sql.SparkSession$implicits$@4a56e54b"
      ]
     },
     "execution_count": 4,
     "metadata": {},
     "output_type": "execute_result"
    }
   ],
   "source": [
    "import spark.implicits._\n",
    "\n",
    "val research_home: String = scala.util.Properties.envOrElse(\"RESEARCH_HOME\", \"/home/acald013/Research/\")\n",
    "val folder = s\"${research_home}Scripts/Python/\"\n",
    "val prefix = \"mu\"\n",
    "\n",
    "val nohup = spark.read.textFile(s\"${folder}${prefix}.out\")\n"
   ]
  },
  {
   "cell_type": "code",
   "execution_count": 5,
   "metadata": {},
   "outputs": [
    {
     "name": "stdout",
     "output_type": "stream",
     "text": [
      "6494\n"
     ]
    },
    {
     "data": {
      "text/plain": [
       "null"
      ]
     },
     "execution_count": 5,
     "metadata": {},
     "output_type": "execute_result"
    }
   ],
   "source": [
    "println(nohup.count)"
   ]
  },
  {
   "cell_type": "code",
   "execution_count": 6,
   "metadata": {},
   "outputs": [
    {
     "data": {
      "text/plain": [
       "defined class Line\n",
       "defined class Run\n",
       "defined class Stage\n",
       "defined class MDFrow\n",
       "defined class DatasetOps\n"
      ]
     },
     "execution_count": 6,
     "metadata": {},
     "output_type": "execute_result"
    }
   ],
   "source": [
    "org.apache.spark.sql.catalyst.encoders.OuterScopes.addOuterScope(this)\n",
    "case class Line(line: String, n: Long)\n",
    "case class Run(runID: Long, date: String, method: String, cores: Int, epsilon: Double, mu: Int, delta: Int, methodTime: Double)\n",
    "case class Stage(runID: Long, n: Long, timestamp: String, stage: String, stageTime: Double, load: Int, unit: String)\n",
    "case class MDFrow(mdfID: Long, n: Long, method: String, epsilon: Double, mu: Int, delta: Int, stage: String, time: Double, load: Int, unit: String)\n",
    "\n",
    "implicit class DatasetOps(ds: org.apache.spark.sql.Dataset[_]) {\n",
    "    def display(rows: Int = 20) = {\n",
    "        import com.twosigma.beakerx.scala.table.TableDisplay\n",
    "        val columns = ds.columns\n",
    "        val rowVals = ds.toDF.take(rows)\n",
    "        val t = new TableDisplay(rowVals map (row => (columns zip row.toSeq).toMap))\n",
    "        t.display()\n",
    "    }\n",
    "}"
   ]
  },
  {
   "cell_type": "code",
   "execution_count": 7,
   "metadata": {},
   "outputs": [
    {
     "name": "stdout",
     "output_type": "stream",
     "text": [
      "+--------------------+---+\n",
      "|                line|  n|\n",
      "+--------------------+---+\n",
      "|FLOCKFINDER=Merge...|  0|\n",
      "|WARNING:root:Sett...|  1|\n",
      "|acald013@dblab-ra...|  2|\n",
      "|acald013@dblab-ra...|  3|\n",
      "|acald013@dblab-ra...|  4|\n",
      "|acald013@dblab-ra...|  5|\n",
      "|no org.apache.spa...|  6|\n",
      "|starting org.apac...|  7|\n",
      "|acald013@dblab-ra...|  8|\n",
      "|acald013@dblab-ra...|  9|\n",
      "+--------------------+---+\n",
      "only showing top 10 rows\n",
      "\n"
     ]
    },
    {
     "data": {
      "text/plain": [
       "null"
      ]
     },
     "execution_count": 7,
     "metadata": {},
     "output_type": "execute_result"
    }
   ],
   "source": [
    "val lines = nohup.toDF(\"line\").withColumn(\"n\", monotonicallyIncreasingId).as[Line].cache()\n",
    "val nLines = lines.count()\n",
    "lines.show(10)"
   ]
  },
  {
   "cell_type": "code",
   "execution_count": 8,
   "metadata": {},
   "outputs": [
    {
     "name": "stderr",
     "output_type": "stream",
     "text": []
    },
    {
     "name": "stdout",
     "output_type": "stream",
     "text": [
      "+-----+---+\n",
      "|runID|n  |\n",
      "+-----+---+\n",
      "|0    |18 |\n",
      "|0    |19 |\n",
      "|0    |20 |\n",
      "|0    |21 |\n",
      "|0    |22 |\n",
      "|0    |23 |\n",
      "|0    |24 |\n",
      "|0    |25 |\n",
      "|0    |26 |\n",
      "|0    |27 |\n",
      "+-----+---+\n",
      "only showing top 10 rows\n",
      "\n"
     ]
    },
    {
     "data": {
      "text/plain": [
       "null"
      ]
     },
     "execution_count": 8,
     "metadata": {},
     "output_type": "execute_result"
    }
   ],
   "source": [
    "val indicesRun = lines.filter{ l => \n",
    "        l.line.contains(\"=== MergeLast Start ===\") || l.line.contains(\"method=MergeLast,\") ||\n",
    "        l.line.contains(\"=== SpatialJoin Start ===\") || l.line.contains(\"method=SpatialJoin,\")\n",
    "    }\n",
    "    .orderBy(\"n\")\n",
    "    .select(\"n\")\n",
    "    .collect()\n",
    "    .toList\n",
    "    .map(_.getLong(0))\n",
    "    .grouped(2)\n",
    "    .toList\n",
    "    .map(pair => (pair.head, pair.last))\n",
    "    .filter(r => r._1 != r._2)\n",
    "    .zipWithIndex\n",
    "val indexRun = spark.createDataset(indicesRun)\n",
    "    .flatMap{ pair => \n",
    "        (pair._1._1 to pair._1._2)\n",
    "        .toList.map(v => (pair._2, v))\n",
    "    }\n",
    "    .toDF(\"runID\",\"n\")\n",
    "    .cache\n",
    "indexRun.show(10, truncate = false)"
   ]
  },
  {
   "cell_type": "code",
   "execution_count": 9,
   "metadata": {},
   "outputs": [
    {
     "name": "stderr",
     "output_type": "stream",
     "text": []
    },
    {
     "name": "stdout",
     "output_type": "stream",
     "text": [
      "+-----+-----------------------+---------+-----+-------+---+-----+----------+\n",
      "|runID|date                   |method   |cores|epsilon|mu |delta|methodTime|\n",
      "+-----+-----------------------+---------+-----+-------+---+-----+----------+\n",
      "|0    |2018-06-13 20:41:44,178|MergeLast|28   |100.0  |4  |6    |864.323   |\n",
      "|1    |2018-06-13 20:54:47,264|MergeLast|28   |100.0  |5  |6    |764.412   |\n",
      "|2    |2018-06-13 21:19:29,134|MergeLast|28   |100.0  |6  |6    |1459.496  |\n",
      "|3    |2018-06-13 21:36:35,531|MergeLast|28   |100.0  |7  |6    |997.595   |\n",
      "|4    |2018-06-13 21:54:11,679|MergeLast|28   |100.0  |8  |6    |1038.256  |\n",
      "|5    |2018-06-13 22:12:35,102|MergeLast|28   |100.0  |8  |6    |1080.591  |\n",
      "|6    |2018-06-13 22:30:11,021|MergeLast|28   |100.0  |7  |6    |1033.12   |\n",
      "|7    |2018-06-13 22:55:51,993|MergeLast|28   |100.0  |6  |6    |1523.727  |\n",
      "|8    |2018-06-13 23:09:18,158|MergeLast|28   |100.0  |5  |6    |782.743   |\n",
      "|9    |2018-06-13 23:24:24,550|MergeLast|28   |100.0  |4  |6    |884.229   |\n",
      "|10   |2018-06-13 23:39:11,539|MergeLast|28   |100.0  |4  |6    |862.928   |\n",
      "|11   |2018-06-13 23:51:54,459|MergeLast|28   |100.0  |5  |6    |734.045   |\n",
      "|12   |2018-06-14 00:15:06,857|MergeLast|28   |100.0  |6  |6    |1374.074  |\n",
      "|13   |2018-06-14 00:31:12,325|MergeLast|28   |100.0  |7  |6    |947.094   |\n",
      "|14   |2018-06-14 00:47:50,197|MergeLast|28   |100.0  |8  |6    |980.409   |\n",
      "|15   |2018-06-14 01:03:36,946|MergeLast|28   |100.0  |8  |6    |924.045   |\n",
      "|16   |2018-06-14 01:20:49,844|MergeLast|28   |100.0  |7  |6    |1015.161  |\n",
      "|17   |2018-06-14 01:47:09,437|MergeLast|28   |100.0  |6  |6    |1562.109  |\n",
      "|18   |2018-06-14 02:00:18,964|MergeLast|28   |100.0  |5  |6    |761.712   |\n",
      "|19   |2018-06-14 02:15:25,866|MergeLast|28   |100.0  |4  |6    |889.162   |\n",
      "|20   |2018-06-14 02:30:32,519|MergeLast|28   |100.0  |4  |6    |888.2     |\n",
      "|21   |2018-06-14 02:43:31,965|MergeLast|28   |100.0  |5  |6    |761.391   |\n",
      "|22   |2018-06-14 03:06:26,907|MergeLast|28   |100.0  |6  |6    |1351.847  |\n",
      "|23   |2018-06-14 03:22:40,078|MergeLast|28   |100.0  |7  |6    |955.328   |\n",
      "|24   |2018-06-14 03:38:37,814|MergeLast|28   |100.0  |8  |6    |935.367   |\n",
      "+-----+-----------------------+---------+-----+-------+---+-----+----------+\n",
      "\n"
     ]
    },
    {
     "data": {
      "text/plain": [
       "null"
      ]
     },
     "execution_count": 9,
     "metadata": {},
     "output_type": "execute_result"
    }
   ],
   "source": [
    "val runs = indexRun.join(lines, \"n\").\n",
    "    groupBy(\"runID\").\n",
    "    agg(max($\"n\").alias(\"n\")).\n",
    "    join(lines, \"n\").\n",
    "    select(\"runID\", \"line\").\n",
    "    orderBy(\"runID\").\n",
    "    map{ row =>\n",
    "        val runID = row.getInt(0)\n",
    "        val line  = row.getString(1)\n",
    "        var arr1  = line.split(\" -> \")\n",
    "        val date  = arr1(0)\n",
    "        val arr2  = arr1(1).split(\",\")\n",
    "        val method  = arr2(0).split(\"=\")(1)\n",
    "        val cores   = arr2(1).split(\"=\")(1).toInt\n",
    "        val epsilon = arr2(2).split(\"=\")(1).toDouble\n",
    "        val mu      = arr2(3).split(\"=\")(1).toInt\n",
    "        val delta   = arr2(4).split(\"=\")(1).toInt\n",
    "        val time    = arr2(5).split(\"=\")(1).toDouble\n",
    "        Run(runID, date, method, cores, epsilon, mu, delta, time)\n",
    "    }.\n",
    "    cache\n",
    "val nRuns = runs.count()\n",
    "runs.show(nRuns.toInt, truncate = false)"
   ]
  },
  {
   "cell_type": "code",
   "execution_count": 10,
   "metadata": {},
   "outputs": [
    {
     "name": "stdout",
     "output_type": "stream",
     "text": [
      "+-----+-----------------------+---------+-----+-------+---+-----+----------+\n",
      "|runID|date                   |method   |cores|epsilon|mu |delta|methodTime|\n",
      "+-----+-----------------------+---------+-----+-------+---+-----+----------+\n",
      "|0    |2018-06-13 20:41:44,178|MergeLast|28   |100.0  |4  |6    |864.323   |\n",
      "|1    |2018-06-13 20:54:47,264|MergeLast|28   |100.0  |5  |6    |764.412   |\n",
      "|2    |2018-06-13 21:19:29,134|MergeLast|28   |100.0  |6  |6    |1459.496  |\n",
      "|3    |2018-06-13 21:36:35,531|MergeLast|28   |100.0  |7  |6    |997.595   |\n",
      "|4    |2018-06-13 21:54:11,679|MergeLast|28   |100.0  |8  |6    |1038.256  |\n",
      "|5    |2018-06-13 22:12:35,102|MergeLast|28   |100.0  |8  |6    |1080.591  |\n",
      "|6    |2018-06-13 22:30:11,021|MergeLast|28   |100.0  |7  |6    |1033.12   |\n",
      "|7    |2018-06-13 22:55:51,993|MergeLast|28   |100.0  |6  |6    |1523.727  |\n",
      "|8    |2018-06-13 23:09:18,158|MergeLast|28   |100.0  |5  |6    |782.743   |\n",
      "|9    |2018-06-13 23:24:24,550|MergeLast|28   |100.0  |4  |6    |884.229   |\n",
      "|10   |2018-06-13 23:39:11,539|MergeLast|28   |100.0  |4  |6    |862.928   |\n",
      "|11   |2018-06-13 23:51:54,459|MergeLast|28   |100.0  |5  |6    |734.045   |\n",
      "|12   |2018-06-14 00:15:06,857|MergeLast|28   |100.0  |6  |6    |1374.074  |\n",
      "|13   |2018-06-14 00:31:12,325|MergeLast|28   |100.0  |7  |6    |947.094   |\n",
      "|14   |2018-06-14 00:47:50,197|MergeLast|28   |100.0  |8  |6    |980.409   |\n",
      "|15   |2018-06-14 01:03:36,946|MergeLast|28   |100.0  |8  |6    |924.045   |\n",
      "|16   |2018-06-14 01:20:49,844|MergeLast|28   |100.0  |7  |6    |1015.161  |\n",
      "|17   |2018-06-14 01:47:09,437|MergeLast|28   |100.0  |6  |6    |1562.109  |\n",
      "|18   |2018-06-14 02:00:18,964|MergeLast|28   |100.0  |5  |6    |761.712   |\n",
      "|19   |2018-06-14 02:15:25,866|MergeLast|28   |100.0  |4  |6    |889.162   |\n",
      "|20   |2018-06-14 02:30:32,519|MergeLast|28   |100.0  |4  |6    |888.2     |\n",
      "|21   |2018-06-14 02:43:31,965|MergeLast|28   |100.0  |5  |6    |761.391   |\n",
      "|22   |2018-06-14 03:06:26,907|MergeLast|28   |100.0  |6  |6    |1351.847  |\n",
      "|23   |2018-06-14 03:22:40,078|MergeLast|28   |100.0  |7  |6    |955.328   |\n",
      "|24   |2018-06-14 03:38:37,814|MergeLast|28   |100.0  |8  |6    |935.367   |\n",
      "+-----+-----------------------+---------+-----+-------+---+-----+----------+\n",
      "\n"
     ]
    },
    {
     "data": {
      "text/plain": [
       "null"
      ]
     },
     "execution_count": 10,
     "metadata": {},
     "output_type": "execute_result"
    }
   ],
   "source": [
    "val sampleRuns = runs.filter($\"method\" === \"MergeLast\")\n",
    "val nSampleRuns = sampleRuns.count()\n",
    "sampleRuns.show(nSampleRuns.toInt, truncate = false)"
   ]
  },
  {
   "cell_type": "code",
   "execution_count": 11,
   "metadata": {},
   "outputs": [
    {
     "name": "stdout",
     "output_type": "stream",
     "text": [
      "1525\n",
      "+-----+---+-----------------------+----------------------------------+---------+-----+----------+\n",
      "|runID|n  |timestamp              |stage                             |stageTime|load |unit      |\n",
      "+-----+---+-----------------------+----------------------------------+---------+-----+----------+\n",
      "|0    |19 |2018-06-13 20:27:25,246|Reporting locations at t=0...     |5.19     |18093|points    |\n",
      "|0    |35 |2018-06-13 20:28:12,137|1.Set of disks for t_i...         |46.89    |3329 |disks     |\n",
      "|0    |36 |2018-06-13 20:28:17,720|Reporting locations at t=5...     |5.58     |18548|points    |\n",
      "|0    |52 |2018-06-13 20:30:03,075|2.Set of disks for t_i+delta...   |105.36   |3603 |disks     |\n",
      "|0    |53 |2018-06-13 20:30:24,235|3.Joining timestams               |21.16    |157  |candidates|\n",
      "|0    |54 |2018-06-13 20:30:37,447|Indexing candidates...            |1.22     |157  |candidates|\n",
      "|0    |55 |2018-06-13 20:30:37,672|Getting expansions...             |0.22     |1    |expansions|\n",
      "|0    |56 |2018-06-13 20:30:37,953|Finding local maximals...         |0.28     |150  |local     |\n",
      "|0    |57 |2018-06-13 20:30:40,190|Prunning duplicates and subsets...|2.24     |150  |flocks    |\n",
      "|0    |58 |2018-06-13 20:30:40,936|Checking internal timestamps      |16.7     |150  |flocks    |\n",
      "|0    |59 |2018-06-13 20:30:46,460|Reporting locations at t=1...     |4.84     |18245|points    |\n",
      "|0    |75 |2018-06-13 20:31:14,138|1.Set of disks for t_i...         |27.68    |3391 |disks     |\n",
      "|0    |76 |2018-06-13 20:31:19,024|Reporting locations at t=6...     |4.89     |18546|points    |\n",
      "|0    |92 |2018-06-13 20:32:06,688|2.Set of disks for t_i+delta...   |47.66    |3590 |disks     |\n",
      "|0    |93 |2018-06-13 20:32:27,282|3.Joining timestams               |20.59    |159  |candidates|\n",
      "|0    |94 |2018-06-13 20:32:38,330|Indexing candidates...            |1.0      |239  |candidates|\n",
      "|0    |95 |2018-06-13 20:32:38,538|Getting expansions...             |0.21     |2    |expansions|\n",
      "|0    |96 |2018-06-13 20:32:38,811|Finding local maximals...         |0.27     |156  |local     |\n",
      "|0    |97 |2018-06-13 20:32:40,446|Prunning duplicates and subsets...|1.64     |156  |flocks    |\n",
      "|0    |98 |2018-06-13 20:32:41,166|Checking internal timestamps      |13.88    |156  |flocks    |\n",
      "+-----+---+-----------------------+----------------------------------+---------+-----+----------+\n",
      "only showing top 20 rows\n",
      "\n"
     ]
    },
    {
     "data": {
      "text/plain": [
       "null"
      ]
     },
     "execution_count": 11,
     "metadata": {},
     "output_type": "execute_result"
    }
   ],
   "source": [
    "val stages = lines.filter(_.line.contains(\"| \")).\n",
    "    join(indexRun, \"n\").\n",
    "    map{ m =>\n",
    "        val n         = m.getLong(0)\n",
    "        val line      = m.getString(1)\n",
    "        val runID     = m.getInt(2)\n",
    "        var arr1      = line.split(\" -> \")\n",
    "        val timestamp = arr1(0).trim\n",
    "        val arr2      = arr1(1).split(\"\\\\|\")\n",
    "        val stage     = arr2(0).trim\n",
    "        val time      = arr2(1).trim.dropRight(1).toDouble\n",
    "        val arr3      = arr2(2).trim.split(\" \")\n",
    "        val load      = arr3(0).toInt\n",
    "        val unit      = arr3(1)\n",
    "        Stage(runID, n, timestamp, stage, time, load, unit)\n",
    "    }.\n",
    "    join(sampleRuns.select($\"runID\"), \"runID\").\n",
    "    cache\n",
    "    \n",
    "println(stages.count())\n",
    "stages.show(20, truncate = false)"
   ]
  },
  {
   "cell_type": "code",
   "execution_count": 12,
   "metadata": {},
   "outputs": [
    {
     "name": "stdout",
     "output_type": "stream",
     "text": [
      "+-----+---+---------+-------+---+-----+----------------------------+---------+\n",
      "|runID|n  |method   |epsilon|mu |delta|stage                       |stageTime|\n",
      "+-----+---+---------+-------+---+-----+----------------------------+---------+\n",
      "|0    |19 |MergeLast|100.0  |4  |6    |0.Reporting locations       |5.19     |\n",
      "|0    |35 |MergeLast|100.0  |4  |6    |1.Set of disks for t_i      |46.89    |\n",
      "|0    |36 |MergeLast|100.0  |4  |6    |0.Reporting locations       |5.58     |\n",
      "|0    |52 |MergeLast|100.0  |4  |6    |2.Set of disks for t_i+delta|105.36   |\n",
      "|0    |53 |MergeLast|100.0  |4  |6    |3.Joining timestams         |21.16    |\n",
      "|0    |58 |MergeLast|100.0  |4  |6    |4.Checking internals        |16.7     |\n",
      "|0    |59 |MergeLast|100.0  |4  |6    |0.Reporting locations       |4.84     |\n",
      "|0    |75 |MergeLast|100.0  |4  |6    |1.Set of disks for t_i      |27.68    |\n",
      "|0    |76 |MergeLast|100.0  |4  |6    |0.Reporting locations       |4.89     |\n",
      "|0    |92 |MergeLast|100.0  |4  |6    |2.Set of disks for t_i+delta|47.66    |\n",
      "|0    |93 |MergeLast|100.0  |4  |6    |3.Joining timestams         |20.59    |\n",
      "|0    |98 |MergeLast|100.0  |4  |6    |4.Checking internals        |13.88    |\n",
      "|0    |99 |MergeLast|100.0  |4  |6    |0.Reporting locations       |4.82     |\n",
      "|0    |115|MergeLast|100.0  |4  |6    |1.Set of disks for t_i      |28.55    |\n",
      "|0    |116|MergeLast|100.0  |4  |6    |0.Reporting locations       |4.86     |\n",
      "|0    |132|MergeLast|100.0  |4  |6    |2.Set of disks for t_i+delta|78.68    |\n",
      "|0    |133|MergeLast|100.0  |4  |6    |3.Joining timestams         |20.94    |\n",
      "|0    |138|MergeLast|100.0  |4  |6    |4.Checking internals        |14.01    |\n",
      "|0    |139|MergeLast|100.0  |4  |6    |0.Reporting locations       |4.83     |\n",
      "|0    |155|MergeLast|100.0  |4  |6    |1.Set of disks for t_i      |40.37    |\n",
      "+-----+---+---------+-------+---+-----+----------------------------+---------+\n",
      "only showing top 20 rows\n",
      "\n"
     ]
    },
    {
     "data": {
      "text/plain": [
       "null"
      ]
     },
     "execution_count": 12,
     "metadata": {},
     "output_type": "execute_result"
    }
   ],
   "source": [
    "val ml_stages = stages.join(runs, \"runID\").\n",
    "    filter($\"method\" === \"MergeLast\").\n",
    "    select($\"runID\", $\"n\", $\"method\", $\"epsilon\", $\"mu\", $\"delta\", $\"stage\".alias(\"stage0\"), $\"stageTime\").\n",
    "    withColumn(\"stage1\", regexp_replace($\"stage0\", \"Reporting locations at t=\\\\d+\", \"0.Reporting locations\")).\n",
    "    withColumn(\"stage2\", regexp_replace($\"stage1\", \"Checking internal timestamps\", \"4.Checking internals\")).\n",
    "    withColumn(\"stage3\", regexp_replace($\"stage2\", \"\\\\.\\\\.\\\\.\", \"\")).\n",
    "    select($\"runID\", $\"n\", $\"method\", $\"epsilon\", $\"mu\", $\"delta\", $\"stage3\".alias(\"stage\"), $\"stageTime\").\n",
    "    filter(!$\"stage\".rlike(\"4.Distance Join phase\")).\n",
    "    filter(!$\"stage\".rlike(\"5.Getting candidates\")).\n",
    "    filter(!$\"stage\".rlike(\"Indexing candidates\")).\n",
    "    filter(!$\"stage\".rlike(\"Getting expansions\")).\n",
    "    filter(!$\"stage\".rlike(\"Finding local maximals\")).\n",
    "    filter(!$\"stage\".rlike(\"Prunning duplicates and subsets\"))\n",
    "ml_stages.show(truncate = false)\n"
   ]
  },
  {
   "cell_type": "code",
   "execution_count": 13,
   "metadata": {},
   "outputs": [
    {
     "name": "stdout",
     "output_type": "stream",
     "text": [
      "+-----+---+------+-------+---+-----+-----+---------+\n",
      "|runID|n  |method|epsilon|mu |delta|stage|stageTime|\n",
      "+-----+---+------+-------+---+-----+-----+---------+\n",
      "+-----+---+------+-------+---+-----+-----+---------+\n",
      "\n"
     ]
    },
    {
     "data": {
      "text/plain": [
       "null"
      ]
     },
     "execution_count": 13,
     "metadata": {},
     "output_type": "execute_result"
    }
   ],
   "source": [
    "val sj_stages = stages.join(runs, \"runID\").\n",
    "    filter($\"method\" === \"SpatialJoin\").\n",
    "    select($\"runID\", $\"n\", $\"method\", $\"epsilon\", $\"mu\", $\"delta\", $\"stage\".alias(\"stage0\"), $\"stageTime\").\n",
    "    withColumn(\"stage1\", regexp_replace($\"stage0\", \"\\\\.\\\\.\\\\.\", \"\")).\n",
    "    withColumn(\"stage2\", regexp_replace($\"stage1\", \"Reporting\", \"0.Reporting\")).\n",
    "    select($\"runID\", $\"n\", $\"method\", $\"epsilon\", $\"mu\", $\"delta\", $\"stage2\".alias(\"stage\"), $\"stageTime\").\n",
    "    filter(!$\"stage\".rlike(\"4.Distance Join phase\")).\n",
    "    filter(!$\"stage\".rlike(\"5.Getting candidates\"))\n",
    "sj_stages.show(truncate = false)\n",
    "\n"
   ]
  },
  {
   "cell_type": "code",
   "execution_count": 14,
   "metadata": {},
   "outputs": [
    {
     "name": "stdout",
     "output_type": "stream",
     "text": [
      "25\n",
      "+-----+---------+-------+---+-----+--------+\n",
      "|runID|method   |epsilon|mu |delta|time    |\n",
      "+-----+---------+-------+---+-----+--------+\n",
      "|0    |MergeLast|100.0  |4  |6    |864.323 |\n",
      "|1    |MergeLast|100.0  |5  |6    |764.412 |\n",
      "|2    |MergeLast|100.0  |6  |6    |1459.496|\n",
      "|3    |MergeLast|100.0  |7  |6    |997.595 |\n",
      "|4    |MergeLast|100.0  |8  |6    |1038.256|\n",
      "|5    |MergeLast|100.0  |8  |6    |1080.591|\n",
      "|6    |MergeLast|100.0  |7  |6    |1033.12 |\n",
      "|7    |MergeLast|100.0  |6  |6    |1523.727|\n",
      "|8    |MergeLast|100.0  |5  |6    |782.743 |\n",
      "|9    |MergeLast|100.0  |4  |6    |884.229 |\n",
      "|10   |MergeLast|100.0  |4  |6    |862.928 |\n",
      "|11   |MergeLast|100.0  |5  |6    |734.045 |\n",
      "|12   |MergeLast|100.0  |6  |6    |1374.074|\n",
      "|13   |MergeLast|100.0  |7  |6    |947.094 |\n",
      "|14   |MergeLast|100.0  |8  |6    |980.409 |\n",
      "|15   |MergeLast|100.0  |8  |6    |924.045 |\n",
      "|16   |MergeLast|100.0  |7  |6    |1015.161|\n",
      "|17   |MergeLast|100.0  |6  |6    |1562.109|\n",
      "|18   |MergeLast|100.0  |5  |6    |761.712 |\n",
      "|19   |MergeLast|100.0  |4  |6    |889.162 |\n",
      "|20   |MergeLast|100.0  |4  |6    |888.2   |\n",
      "|21   |MergeLast|100.0  |5  |6    |761.391 |\n",
      "|22   |MergeLast|100.0  |6  |6    |1351.847|\n",
      "|23   |MergeLast|100.0  |7  |6    |955.328 |\n",
      "|24   |MergeLast|100.0  |8  |6    |935.367 |\n",
      "+-----+---------+-------+---+-----+--------+\n",
      "\n"
     ]
    },
    {
     "data": {
      "text/plain": [
       "null"
      ]
     },
     "execution_count": 14,
     "metadata": {},
     "output_type": "execute_result"
    }
   ],
   "source": [
    "val data = runs.select($\"runID\", $\"method\", $\"epsilon\", $\"mu\", $\"delta\", $\"methodTime\".alias(\"time\")).\n",
    "    filter($\"method\" === \"MergeLast\").\n",
    "    orderBy($\"runID\", $\"epsilon\", $\"method\").\n",
    "    cache\n",
    "println(data.count())\n",
    "data.show(data.count().toInt, truncate = false)"
   ]
  },
  {
   "cell_type": "code",
   "execution_count": 15,
   "metadata": {},
   "outputs": [
    {
     "data": {
      "text/plain": [
       "null"
      ]
     },
     "execution_count": 15,
     "metadata": {},
     "output_type": "execute_result"
    }
   ],
   "source": [
    "val d = data.collect.map(_.mkString(\";\")).mkString(\"\\n\")\n",
    "\n",
    "import java.io._\n",
    "val pw = new PrintWriter(new File(s\"${folder}ml_${prefix}.csv\" ))\n",
    "pw.write(s\"$d\\n\")\n",
    "pw.close"
   ]
  },
  {
   "cell_type": "code",
   "execution_count": 16,
   "metadata": {},
   "outputs": [
    {
     "data": {
      "text/plain": [
       "null"
      ]
     },
     "execution_count": 16,
     "metadata": {},
     "output_type": "execute_result"
    }
   ],
   "source": [
    "val d = ml_stages.union(sj_stages).collect.map(_.mkString(\";\")).mkString(\"\\n\")\n",
    "\n",
    "import java.io._\n",
    "val pw = new PrintWriter(new File(s\"${folder}ml_${prefix}_stages.csv\" ))\n",
    "pw.write(s\"$d\\n\")\n",
    "pw.close"
   ]
  },
  {
   "cell_type": "code",
   "execution_count": 17,
   "metadata": {},
   "outputs": [
    {
     "name": "stdout",
     "output_type": "stream",
     "text": [
      "+---+-----+------------------------------------+-------+---+-----+------+-----+\n",
      "|n  |runID|stage                               |epsilon|mu |delta|time  |load |\n",
      "+---+-----+------------------------------------+-------+---+-----+------+-----+\n",
      "|21 |0    |A.Indexing points...                |100.0  |4  |6    |8.325 |18093|\n",
      "|22 |0    |B.Getting pairs...                  |100.0  |4  |6    |7.847 |33957|\n",
      "|23 |0    |C.Computing centers...              |100.0  |4  |6    |2.636 |67914|\n",
      "|24 |0    |D.Indexing centers...               |100.0  |4  |6    |1.849 |67914|\n",
      "|25 |0    |E.Getting disks...                  |100.0  |4  |6    |6.876 |67914|\n",
      "|26 |0    |F.Filtering less-than-mu disks...   |100.0  |4  |6    |0.84  |32499|\n",
      "|27 |0    |G.Prunning duplicate candidates...  |100.0  |4  |6    |4.04  |19046|\n",
      "|28 |0    |H.Indexing candidates...            |100.0  |4  |6    |4.606 |19046|\n",
      "|29 |0    |I.Getting expansions...             |100.0  |4  |6    |0.331 |38041|\n",
      "|30 |0    |J.Finding maximal disks...          |100.0  |4  |6    |10.361|3357 |\n",
      "|31 |0    |K.Prunning duplicates and subsets...|100.0  |4  |6    |2.781 |3329 |\n",
      "|38 |0    |A.Indexing points...                |100.0  |4  |6    |8.032 |18548|\n",
      "|39 |0    |B.Getting pairs...                  |100.0  |4  |6    |10.747|35452|\n",
      "|40 |0    |C.Computing centers...              |100.0  |4  |6    |1.646 |70904|\n",
      "|41 |0    |D.Indexing centers...               |100.0  |4  |6    |1.456 |70904|\n",
      "|42 |0    |E.Getting disks...                  |100.0  |4  |6    |8.43  |70904|\n",
      "|43 |0    |F.Filtering less-than-mu disks...   |100.0  |4  |6    |0.791 |34174|\n",
      "|44 |0    |G.Prunning duplicate candidates...  |100.0  |4  |6    |3.86  |19895|\n",
      "|45 |0    |H.Indexing candidates...            |100.0  |4  |6    |4.397 |19895|\n",
      "|46 |0    |I.Getting expansions...             |100.0  |4  |6    |0.337 |38515|\n",
      "+---+-----+------------------------------------+-------+---+-----+------+-----+\n",
      "only showing top 20 rows\n",
      "\n"
     ]
    },
    {
     "data": {
      "text/plain": [
       "null"
      ]
     },
     "execution_count": 17,
     "metadata": {},
     "output_type": "execute_result"
    }
   ],
   "source": [
    "val mdf = lines.filter($\"line\".rlike(\"-> [A-K]\\\\.\"))\n",
    "    .map{ m =>\n",
    "        val line  = m.line.split(\" -> \")(1)\n",
    "        val arr   = line.split(\"\\\\[\")\n",
    "        val stage = arr(0).trim\n",
    "        val time  = arr(1).trim.split(\"s\")(0).toDouble\n",
    "        val r = arr(2).trim.split(\" \")(0)\n",
    "        \n",
    "        (stage, time, r, m.n)\n",
    "    }\n",
    "    .toDF(\"stage\", \"time\", \"load\", \"n\")\n",
    "    .join(indexRun, \"n\")\n",
    "    .join(runs, \"runID\")\n",
    "    .select(\"n\", \"runID\", \"stage\", \"epsilon\", \"mu\", \"delta\", \"time\", \"load\")\n",
    "mdf.show(false)"
   ]
  },
  {
   "cell_type": "code",
   "execution_count": 18,
   "metadata": {},
   "outputs": [
    {
     "name": "stdout",
     "output_type": "stream",
     "text": [
      "+-----+---+\n",
      "|mdfID|n  |\n",
      "+-----+---+\n",
      "|0    |20 |\n",
      "|0    |21 |\n",
      "|0    |22 |\n",
      "|0    |23 |\n",
      "|0    |24 |\n",
      "|0    |25 |\n",
      "|0    |26 |\n",
      "|0    |27 |\n",
      "|0    |28 |\n",
      "|0    |29 |\n",
      "|0    |30 |\n",
      "|0    |31 |\n",
      "|0    |32 |\n",
      "|0    |33 |\n",
      "|1    |37 |\n",
      "+-----+---+\n",
      "only showing top 15 rows\n",
      "\n"
     ]
    },
    {
     "data": {
      "text/plain": [
       "null"
      ]
     },
     "execution_count": 18,
     "metadata": {},
     "output_type": "execute_result"
    }
   ],
   "source": [
    "val indicesMdf = lines.filter{ l => \n",
    "        l.line.contains(\" -> Setting mu=\") || l.line.contains(\" ->   berlin0-10,\") \n",
    "    }\n",
    "    .orderBy(\"n\")\n",
    "    .select(\"n\")\n",
    "    .collect()\n",
    "    .toList\n",
    "    .map(_.getLong(0))\n",
    "    .grouped(2)\n",
    "    .toList\n",
    "    .map(pair => (pair.head, pair.last))\n",
    "    .filter(r => r._1 != r._2)\n",
    "    .zipWithIndex\n",
    "val indexMdf = spark.createDataset(indicesMdf)\n",
    "    .flatMap{ pair => \n",
    "        (pair._1._1 to pair._1._2)\n",
    "        .toList.map(v => (pair._2, v))\n",
    "    }\n",
    "    .toDF(\"mdfID\",\"n\")\n",
    "    .cache\n",
    "indexMdf.show(15, truncate = false)"
   ]
  },
  {
   "cell_type": "code",
   "execution_count": 19,
   "metadata": {},
   "outputs": [
    {
     "name": "stderr",
     "output_type": "stream",
     "text": []
    },
    {
     "name": "stdout",
     "output_type": "stream",
     "text": [
      "+-----+---------+\n",
      "|mdfID|timestamp|\n",
      "+-----+---------+\n",
      "|0    |  0      |\n",
      "|1    |  5      |\n",
      "|2    |  1      |\n",
      "|3    |  6      |\n",
      "|4    |  2      |\n",
      "|5    |  7      |\n",
      "|6    |  3      |\n",
      "|7    |  8      |\n",
      "|8    |  4      |\n",
      "|9    |  9      |\n",
      "|10   | 10      |\n",
      "|11   |  0      |\n",
      "|12   |  5      |\n",
      "|13   |  1      |\n",
      "|14   |  6      |\n",
      "|15   |  2      |\n",
      "|16   |  7      |\n",
      "|17   |  3      |\n",
      "|18   |  8      |\n",
      "|19   |  4      |\n",
      "+-----+---------+\n",
      "only showing top 20 rows\n",
      "\n"
     ]
    },
    {
     "data": {
      "text/plain": [
       "null"
      ]
     },
     "execution_count": 19,
     "metadata": {},
     "output_type": "execute_result"
    }
   ],
   "source": [
    "val mdfInfo = indexMdf.groupBy($\"mdfID\").agg(max($\"n\").alias(\"n\")).orderBy($\"n\").\n",
    "    join(lines, \"n\").\n",
    "    withColumn(\"timestamp\", substring($\"line\", 122, 124)).\n",
    "    select($\"mdfID\", $\"timestamp\")\n",
    "mdfInfo.show(truncate = false)"
   ]
  },
  {
   "cell_type": "code",
   "execution_count": 20,
   "metadata": {},
   "outputs": [
    {
     "name": "stderr",
     "output_type": "stream",
     "text": []
    },
    {
     "name": "stdout",
     "output_type": "stream",
     "text": [
      "+-----+---+-----+------------------------------------+-------+---+-----+------+-----+---------+\n",
      "|mdfID|n  |runID|stage                               |epsilon|mu |delta|time  |load |timestamp|\n",
      "+-----+---+-----+------------------------------------+-------+---+-----+------+-----+---------+\n",
      "|0    |21 |0    |A.Indexing points...                |100.0  |4  |6    |8.325 |18093|  0      |\n",
      "|0    |22 |0    |B.Getting pairs...                  |100.0  |4  |6    |7.847 |33957|  0      |\n",
      "|0    |23 |0    |C.Computing centers...              |100.0  |4  |6    |2.636 |67914|  0      |\n",
      "|0    |24 |0    |D.Indexing centers...               |100.0  |4  |6    |1.849 |67914|  0      |\n",
      "|0    |25 |0    |E.Getting disks...                  |100.0  |4  |6    |6.876 |67914|  0      |\n",
      "|0    |26 |0    |F.Filtering less-than-mu disks...   |100.0  |4  |6    |0.84  |32499|  0      |\n",
      "|0    |27 |0    |G.Prunning duplicate candidates...  |100.0  |4  |6    |4.04  |19046|  0      |\n",
      "|0    |28 |0    |H.Indexing candidates...            |100.0  |4  |6    |4.606 |19046|  0      |\n",
      "|0    |29 |0    |I.Getting expansions...             |100.0  |4  |6    |0.331 |38041|  0      |\n",
      "|0    |30 |0    |J.Finding maximal disks...          |100.0  |4  |6    |10.361|3357 |  0      |\n",
      "|0    |31 |0    |K.Prunning duplicates and subsets...|100.0  |4  |6    |2.781 |3329 |  0      |\n",
      "|1    |38 |0    |A.Indexing points...                |100.0  |4  |6    |8.032 |18548|  5      |\n",
      "|1    |39 |0    |B.Getting pairs...                  |100.0  |4  |6    |10.747|35452|  5      |\n",
      "|1    |40 |0    |C.Computing centers...              |100.0  |4  |6    |1.646 |70904|  5      |\n",
      "|1    |41 |0    |D.Indexing centers...               |100.0  |4  |6    |1.456 |70904|  5      |\n",
      "|1    |42 |0    |E.Getting disks...                  |100.0  |4  |6    |8.43  |70904|  5      |\n",
      "|1    |43 |0    |F.Filtering less-than-mu disks...   |100.0  |4  |6    |0.791 |34174|  5      |\n",
      "|1    |44 |0    |G.Prunning duplicate candidates...  |100.0  |4  |6    |3.86  |19895|  5      |\n",
      "|1    |45 |0    |H.Indexing candidates...            |100.0  |4  |6    |4.397 |19895|  5      |\n",
      "|1    |46 |0    |I.Getting expansions...             |100.0  |4  |6    |0.337 |38515|  5      |\n",
      "+-----+---+-----+------------------------------------+-------+---+-----+------+-----+---------+\n",
      "only showing top 20 rows\n",
      "\n"
     ]
    },
    {
     "data": {
      "text/plain": [
       "null"
      ]
     },
     "execution_count": 20,
     "metadata": {},
     "output_type": "execute_result"
    }
   ],
   "source": [
    "val mdf2 = mdf.join(indexMdf, \"n\")\n",
    "    .join(mdfInfo, \"mdfID\")\n",
    "    .orderBy(\"n\")\n",
    "\n",
    "mdf2.show(false)"
   ]
  },
  {
   "cell_type": "code",
   "execution_count": 21,
   "metadata": {},
   "outputs": [
    {
     "name": "stderr",
     "output_type": "stream",
     "text": []
    },
    {
     "data": {
      "text/plain": [
       "null"
      ]
     },
     "execution_count": 21,
     "metadata": {},
     "output_type": "execute_result"
    }
   ],
   "source": [
    "val d = mdf2.collect.map(_.mkString(\";\")).mkString(\"\\n\")\n",
    "\n",
    "import java.io._\n",
    "val pw = new PrintWriter(new File(s\"${folder}ml_${prefix}_mdf.csv\" ))\n",
    "pw.write(s\"$d\\n\")\n",
    "pw.close"
   ]
  }
 ],
 "metadata": {
  "kernelspec": {
   "display_name": "Scala",
   "language": "scala",
   "name": "scala"
  },
  "language_info": {
   "codemirror_mode": "text/x-scala",
   "file_extension": ".scala",
   "mimetype": "",
   "name": "Scala",
   "nbconverter_exporter": "",
   "version": "2.11.12"
  }
 },
 "nbformat": 4,
 "nbformat_minor": 2
}
