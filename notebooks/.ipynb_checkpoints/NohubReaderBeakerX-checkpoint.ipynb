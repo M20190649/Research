{
 "cells": [
  {
   "cell_type": "code",
   "execution_count": 48,
   "metadata": {},
   "outputs": [
    {
     "data": {
      "application/vnd.jupyter.widget-view+json": {
       "model_id": "44da60f8-944e-4c32-a5e8-3bbcdc8e5bb5",
       "version_major": 2,
       "version_minor": 0
      },
      "method": "display_data"
     },
     "metadata": {},
     "output_type": "display_data"
    },
    {
     "data": {
      "text/plain": [
       "null"
      ]
     },
     "execution_count": 48,
     "metadata": {},
     "output_type": "execute_result"
    }
   ],
   "source": [
    "%classpath add mvn org.apache.spark spark-sql_2.11 2.1.0\n",
    "org.apache.log4j.Logger.getRootLogger().setLevel(org.apache.log4j.Level.ERROR);\n"
   ]
  },
  {
   "cell_type": "code",
   "execution_count": 49,
   "metadata": {},
   "outputs": [
    {
     "data": {
      "text/plain": [
       "import org.apache.spark._\n",
       "import org.apache.spark.sql._\n",
       "import org.apache.spark.sql.functions._\n"
      ]
     },
     "execution_count": 49,
     "metadata": {},
     "output_type": "execute_result"
    }
   ],
   "source": [
    "import org.apache.spark._\n",
    "import org.apache.spark.sql._\n",
    "import org.apache.spark.sql.functions._ \n"
   ]
  },
  {
   "cell_type": "code",
   "execution_count": 50,
   "metadata": {},
   "outputs": [
    {
     "data": {
      "text/plain": [
       "org.apache.spark.sql.SparkSession@45240991"
      ]
     },
     "execution_count": 50,
     "metadata": {},
     "output_type": "execute_result"
    }
   ],
   "source": [
    "val spark = SparkSession.builder() \n",
    "  .master(\"local[*]\") \n",
    "  .config(\"spark.executor.memory\", \"3g\")\n",
    "  .config(\"spark.sql.warehouse.dir\", \"/tmp/spark-warehouse\")\n",
    "  .appName(\"NohupReader\")\n",
    "  .getOrCreate()\n"
   ]
  },
  {
   "cell_type": "code",
   "execution_count": 67,
   "metadata": {},
   "outputs": [
    {
     "data": {
      "text/plain": [
       "org.apache.spark.sql.SparkSession$implicits$@46e2b92a"
      ]
     },
     "execution_count": 67,
     "metadata": {},
     "output_type": "execute_result"
    }
   ],
   "source": [
    "import spark.implicits._\n",
    "\n",
    "val research_home: String = scala.util.Properties.envOrElse(\"RESEARCH_HOME\", \"/home/acald013/Research/\")\n",
    "val folder = s\"${research_home}Scripts/Python/\"\n",
    "val prefix = \"epsilon\"\n",
    "\n",
    "val nohup = spark.read.textFile(s\"${folder}${prefix}.out\")\n"
   ]
  },
  {
   "cell_type": "code",
   "execution_count": 68,
   "metadata": {},
   "outputs": [
    {
     "name": "stderr",
     "output_type": "stream",
     "text": []
    },
    {
     "name": "stdout",
     "output_type": "stream",
     "text": [
      "14670\n"
     ]
    },
    {
     "data": {
      "text/plain": [
       "null"
      ]
     },
     "execution_count": 68,
     "metadata": {},
     "output_type": "execute_result"
    }
   ],
   "source": [
    "println(nohup.count)"
   ]
  },
  {
   "cell_type": "code",
   "execution_count": 69,
   "metadata": {},
   "outputs": [
    {
     "data": {
      "text/plain": [
       "defined class Line\n",
       "defined class Run\n",
       "defined class Stage\n",
       "defined class MDFrow\n",
       "defined class DatasetOps\n"
      ]
     },
     "execution_count": 69,
     "metadata": {},
     "output_type": "execute_result"
    }
   ],
   "source": [
    "org.apache.spark.sql.catalyst.encoders.OuterScopes.addOuterScope(this)\n",
    "case class Line(line: String, n: Long)\n",
    "case class Run(runID: Long, date: String, method: String, cores: Int, epsilon: Double, mu: Int, delta: Int, methodTime: Double)\n",
    "case class Stage(runID: Long, n: Long, timestamp: String, stage: String, stageTime: Double, load: Int, unit: String)\n",
    "case class MDFrow(mdfID: Long, n: Long, method: String, epsilon: Double, mu: Int, delta: Int, stage: String, time: Double, load: Int, unit: String)\n",
    "\n",
    "implicit class DatasetOps(ds: org.apache.spark.sql.Dataset[_]) {\n",
    "    def display(rows: Int = 20) = {\n",
    "        import com.twosigma.beakerx.scala.table.TableDisplay\n",
    "        val columns = ds.columns\n",
    "        val rowVals = ds.toDF.take(rows)\n",
    "        val t = new TableDisplay(rowVals map (row => (columns zip row.toSeq).toMap))\n",
    "        t.display()\n",
    "    }\n",
    "}"
   ]
  },
  {
   "cell_type": "code",
   "execution_count": 70,
   "metadata": {},
   "outputs": [
    {
     "name": "stderr",
     "output_type": "stream",
     "text": []
    },
    {
     "name": "stdout",
     "output_type": "stream",
     "text": [
      "+--------------------+---+\n",
      "|                line|  n|\n",
      "+--------------------+---+\n",
      "|FLOCKFINDER=Spati...|  0|\n",
      "|WARNING:root:Sett...|  1|\n",
      "|acald013@dblab-ra...|  2|\n",
      "|acald013@dblab-ra...|  3|\n",
      "|acald013@dblab-ra...|  4|\n",
      "|acald013@dblab-ra...|  5|\n",
      "|no org.apache.spa...|  6|\n",
      "|starting org.apac...|  7|\n",
      "|acald013@dblab-ra...|  8|\n",
      "|acald013@dblab-ra...|  9|\n",
      "+--------------------+---+\n",
      "only showing top 10 rows\n",
      "\n"
     ]
    },
    {
     "data": {
      "text/plain": [
       "null"
      ]
     },
     "execution_count": 70,
     "metadata": {},
     "output_type": "execute_result"
    }
   ],
   "source": [
    "val lines = nohup.toDF(\"line\").withColumn(\"n\", monotonicallyIncreasingId).as[Line].cache()\n",
    "val nLines = lines.count()\n",
    "lines.show(10)"
   ]
  },
  {
   "cell_type": "code",
   "execution_count": 71,
   "metadata": {},
   "outputs": [
    {
     "name": "stderr",
     "output_type": "stream",
     "text": []
    },
    {
     "name": "stdout",
     "output_type": "stream",
     "text": [
      "+-----+---+\n",
      "|runID|n  |\n",
      "+-----+---+\n",
      "|0    |18 |\n",
      "|0    |19 |\n",
      "|0    |20 |\n",
      "|0    |21 |\n",
      "|0    |22 |\n",
      "|0    |23 |\n",
      "|0    |24 |\n",
      "|0    |25 |\n",
      "|0    |26 |\n",
      "|0    |27 |\n",
      "+-----+---+\n",
      "only showing top 10 rows\n",
      "\n"
     ]
    },
    {
     "data": {
      "text/plain": [
       "null"
      ]
     },
     "execution_count": 71,
     "metadata": {},
     "output_type": "execute_result"
    }
   ],
   "source": [
    "val indicesRun = lines.filter{ l => \n",
    "        l.line.contains(\"=== MergeLast Start ===\") || l.line.contains(\"method=MergeLast,\") ||\n",
    "        l.line.contains(\"=== SpatialJoin Start ===\") || l.line.contains(\"method=SpatialJoin,\")\n",
    "    }\n",
    "    .orderBy(\"n\")\n",
    "    .select(\"n\")\n",
    "    .collect()\n",
    "    .toList\n",
    "    .map(_.getLong(0))\n",
    "    .grouped(2)\n",
    "    .toList\n",
    "    .map(pair => (pair.head, pair.last))\n",
    "    .filter(r => r._1 != r._2)\n",
    "    .zipWithIndex\n",
    "val indexRun = spark.createDataset(indicesRun)\n",
    "    .flatMap{ pair => \n",
    "        (pair._1._1 to pair._1._2)\n",
    "        .toList.map(v => (pair._2, v))\n",
    "    }\n",
    "    .toDF(\"runID\",\"n\")\n",
    "    .cache\n",
    "indexRun.show(10, truncate = false)"
   ]
  },
  {
   "cell_type": "code",
   "execution_count": 72,
   "metadata": {},
   "outputs": [
    {
     "name": "stderr",
     "output_type": "stream",
     "text": []
    },
    {
     "name": "stdout",
     "output_type": "stream",
     "text": [
      "+-----+-----------------------+-----------+-----+-------+---+-----+----------+\n",
      "|runID|date                   |method     |cores|epsilon|mu |delta|methodTime|\n",
      "+-----+-----------------------+-----------+-----+-------+---+-----+----------+\n",
      "|0    |2018-05-30 17:46:24,214|SpatialJoin|28   |10.0   |4  |5    |462.226   |\n",
      "|1    |2018-05-30 17:54:09,650|SpatialJoin|28   |10.0   |4  |5    |444.708   |\n",
      "|2    |2018-05-30 18:02:04,986|SpatialJoin|28   |10.0   |4  |5    |446.822   |\n",
      "|3    |2018-05-30 18:09:58,122|SpatialJoin|28   |10.0   |4  |5    |455.671   |\n",
      "|4    |2018-05-30 18:17:55,236|SpatialJoin|28   |10.0   |4  |5    |453.472   |\n",
      "|5    |2018-05-28 23:04:39,247|MergeLast  |28   |10.0   |4  |5    |484.132   |\n",
      "|6    |2018-05-28 23:13:14,393|MergeLast  |28   |15.0   |4  |5    |490.705   |\n",
      "|7    |2018-05-28 23:22:08,165|MergeLast  |28   |20.0   |4  |5    |511.015   |\n",
      "|8    |2018-05-28 23:31:03,008|MergeLast  |28   |25.0   |4  |5    |517.179   |\n",
      "|9    |2018-05-28 23:40:04,185|MergeLast  |28   |30.0   |4  |5    |523.342   |\n",
      "+-----+-----------------------+-----------+-----+-------+---+-----+----------+\n",
      "only showing top 10 rows\n",
      "\n"
     ]
    },
    {
     "data": {
      "text/plain": [
       "null"
      ]
     },
     "execution_count": 72,
     "metadata": {},
     "output_type": "execute_result"
    }
   ],
   "source": [
    "val runs = indexRun.join(lines, \"n\").\n",
    "    groupBy(\"runID\").\n",
    "    agg(max($\"n\").alias(\"n\")).\n",
    "    join(lines, \"n\").\n",
    "    select(\"runID\", \"line\").\n",
    "    orderBy(\"runID\").\n",
    "    map{ row =>\n",
    "        val runID = row.getInt(0)\n",
    "        val line  = row.getString(1)\n",
    "        var arr1  = line.split(\" -> \")\n",
    "        val date  = arr1(0)\n",
    "        val arr2  = arr1(1).split(\",\")\n",
    "        val method  = arr2(0).split(\"=\")(1)\n",
    "        val cores   = arr2(1).split(\"=\")(1).toInt\n",
    "        val epsilon = arr2(2).split(\"=\")(1).toDouble\n",
    "        val mu      = arr2(3).split(\"=\")(1).toInt\n",
    "        val delta   = arr2(4).split(\"=\")(1).toInt\n",
    "        val time    = arr2(5).split(\"=\")(1).toDouble\n",
    "        Run(runID, date, method, cores, epsilon, mu, delta, time)\n",
    "    }.\n",
    "    cache\n",
    "runs.show(10, truncate = false)"
   ]
  },
  {
   "cell_type": "code",
   "execution_count": 73,
   "metadata": {},
   "outputs": [
    {
     "name": "stdout",
     "output_type": "stream",
     "text": [
      "+-----+---+-----------------------+-------------------------+---------+-----+------------+\n",
      "|runID|n  |timestamp              |stage                    |stageTime|load |unit        |\n",
      "+-----+---+-----------------------+-------------------------+---------+-----+------------+\n",
      "|0    |19 |2018-05-30 17:38:47,960|Reporting locations...   |5.76     |18093|points      |\n",
      "|0    |35 |2018-05-30 17:39:19,169|1.Set of disks for t_i...|31.21    |11   |disks       |\n",
      "|0    |36 |2018-05-30 17:39:19,579|4.Found flocks...        |0.41     |0    |flocks      |\n",
      "|0    |37 |2018-05-30 17:39:20,372|5.Updating times...      |0.52     |11   |flocks      |\n",
      "|0    |38 |2018-05-30 17:39:21,269|6.Filter phase...        |0.9      |11   |flocks      |\n",
      "|0    |39 |2018-05-30 17:39:26,160|Reporting locations...   |4.89     |18245|points      |\n",
      "|0    |55 |2018-05-30 17:39:46,505|1.Set of disks for t_i...|20.35    |13   |disks       |\n",
      "|0    |56 |2018-05-30 17:39:49,439|2.Distance Join phase... |2.93     |14   |combinations|\n",
      "|0    |57 |2018-05-30 17:39:51,052|3.Getting candidates...  |1.61     |10   |candidates  |\n",
      "|0    |58 |2018-05-30 17:39:51,254|4.Found flocks...        |0.2      |0    |flocks      |\n",
      "+-----+---+-----------------------+-------------------------+---------+-----+------------+\n",
      "only showing top 10 rows\n",
      "\n"
     ]
    },
    {
     "data": {
      "text/plain": [
       "null"
      ]
     },
     "execution_count": 73,
     "metadata": {},
     "output_type": "execute_result"
    }
   ],
   "source": [
    "val stages = lines.filter(_.line.contains(\"|\")).\n",
    "    join(indexRun, \"n\").\n",
    "    map{ m =>\n",
    "        val n         = m.getLong(0)\n",
    "        val line      = m.getString(1)\n",
    "        val runID     = m.getInt(2)\n",
    "        var arr1      = line.split(\" -> \")\n",
    "        val timestamp = arr1(0).trim\n",
    "        val arr2      = arr1(1).split(\"\\\\|\")\n",
    "        val stage     = arr2(0).trim\n",
    "        val time      = arr2(1).trim.dropRight(1).toDouble\n",
    "        val arr3      = arr2(2).trim.split(\" \")\n",
    "        val load      = arr3(0).toInt\n",
    "        val unit      = arr3(1)\n",
    "        Stage(runID, n, timestamp, stage, time, load, unit)\n",
    "    }.cache\n",
    "    \n",
    "stages.count()\n",
    "stages.show(10, truncate = false)"
   ]
  },
  {
   "cell_type": "code",
   "execution_count": 74,
   "metadata": {},
   "outputs": [
    {
     "name": "stdout",
     "output_type": "stream",
     "text": [
      "+-----+----+---------+-------+---+-----+----------------------------+---------+\n",
      "|runID|n   |method   |epsilon|mu |delta|stage                       |stageTime|\n",
      "+-----+----+---------+-------+---+-----+----------------------------+---------+\n",
      "|5    |1379|MergeLast|10.0   |4  |5    |0.Reporting locations       |5.39     |\n",
      "|5    |1395|MergeLast|10.0   |4  |5    |1.Set of disks for t_i      |29.35    |\n",
      "|5    |1396|MergeLast|10.0   |4  |5    |0.Reporting locations       |5.59     |\n",
      "|5    |1412|MergeLast|10.0   |4  |5    |2.Set of disks for t_i+delta|33.35    |\n",
      "|5    |1413|MergeLast|10.0   |4  |5    |3.Joining timestams         |3.83     |\n",
      "|5    |1414|MergeLast|10.0   |4  |5    |4.Checking internals        |11.14    |\n",
      "|5    |1415|MergeLast|10.0   |4  |5    |0.Reporting locations       |5.0      |\n",
      "|5    |1431|MergeLast|10.0   |4  |5    |1.Set of disks for t_i      |18.88    |\n",
      "|5    |1432|MergeLast|10.0   |4  |5    |0.Reporting locations       |5.03     |\n",
      "|5    |1448|MergeLast|10.0   |4  |5    |2.Set of disks for t_i+delta|30.94    |\n",
      "|5    |1449|MergeLast|10.0   |4  |5    |3.Joining timestams         |3.44     |\n",
      "|5    |1450|MergeLast|10.0   |4  |5    |4.Checking internals        |9.18     |\n",
      "|5    |1451|MergeLast|10.0   |4  |5    |0.Reporting locations       |5.05     |\n",
      "|5    |1467|MergeLast|10.0   |4  |5    |1.Set of disks for t_i      |18.35    |\n",
      "|5    |1468|MergeLast|10.0   |4  |5    |0.Reporting locations       |5.04     |\n",
      "|5    |1484|MergeLast|10.0   |4  |5    |2.Set of disks for t_i+delta|31.48    |\n",
      "|5    |1485|MergeLast|10.0   |4  |5    |3.Joining timestams         |3.86     |\n",
      "|5    |1486|MergeLast|10.0   |4  |5    |4.Checking internals        |9.77     |\n",
      "|5    |1487|MergeLast|10.0   |4  |5    |0.Reporting locations       |5.02     |\n",
      "|5    |1503|MergeLast|10.0   |4  |5    |1.Set of disks for t_i      |29.81    |\n",
      "+-----+----+---------+-------+---+-----+----------------------------+---------+\n",
      "only showing top 20 rows\n",
      "\n"
     ]
    },
    {
     "data": {
      "text/plain": [
       "null"
      ]
     },
     "execution_count": 74,
     "metadata": {},
     "output_type": "execute_result"
    }
   ],
   "source": [
    "val ml_stages = stages.join(runs, \"runID\").\n",
    "    filter($\"method\" === \"MergeLast\").\n",
    "    select($\"runID\", $\"n\", $\"method\", $\"epsilon\", $\"mu\", $\"delta\", $\"stage\".alias(\"stage0\"), $\"stageTime\").\n",
    "    withColumn(\"stage1\", regexp_replace($\"stage0\", \"Reporting locations at t=\\\\d+\", \"0.Reporting locations\")).\n",
    "    withColumn(\"stage2\", regexp_replace($\"stage1\", \"Checking internal timestamps\", \"4.Checking internals\")).\n",
    "    withColumn(\"stage3\", regexp_replace($\"stage2\", \"\\\\.\\\\.\\\\.\", \"\")).\n",
    "    select($\"runID\", $\"n\", $\"method\", $\"epsilon\", $\"mu\", $\"delta\", $\"stage3\".alias(\"stage\"), $\"stageTime\").\n",
    "    filter(!$\"stage\".rlike(\"4.Distance Join phase\")).\n",
    "    filter(!$\"stage\".rlike(\"5.Getting candidates\"))\n",
    "ml_stages.show(truncate = false)\n"
   ]
  },
  {
   "cell_type": "code",
   "execution_count": 75,
   "metadata": {},
   "outputs": [
    {
     "name": "stdout",
     "output_type": "stream",
     "text": [
      "+-----+---+-----------+-------+---+-----+----------------------+---------+\n",
      "|runID|n  |method     |epsilon|mu |delta|stage                 |stageTime|\n",
      "+-----+---+-----------+-------+---+-----+----------------------+---------+\n",
      "|0    |19 |SpatialJoin|10.0   |4  |5    |0.Reporting locations |5.76     |\n",
      "|0    |35 |SpatialJoin|10.0   |4  |5    |1.Set of disks for t_i|31.21    |\n",
      "|0    |36 |SpatialJoin|10.0   |4  |5    |4.Found flocks        |0.41     |\n",
      "|0    |37 |SpatialJoin|10.0   |4  |5    |5.Updating times      |0.52     |\n",
      "|0    |38 |SpatialJoin|10.0   |4  |5    |6.Filter phase        |0.9      |\n",
      "|0    |39 |SpatialJoin|10.0   |4  |5    |0.Reporting locations |4.89     |\n",
      "|0    |55 |SpatialJoin|10.0   |4  |5    |1.Set of disks for t_i|20.35    |\n",
      "|0    |56 |SpatialJoin|10.0   |4  |5    |2.Distance Join phase |2.93     |\n",
      "|0    |57 |SpatialJoin|10.0   |4  |5    |3.Getting candidates  |1.61     |\n",
      "|0    |58 |SpatialJoin|10.0   |4  |5    |4.Found flocks        |0.2      |\n",
      "|0    |59 |SpatialJoin|10.0   |4  |5    |5.Updating times      |0.25     |\n",
      "|0    |60 |SpatialJoin|10.0   |4  |5    |6.Filter phase        |0.49     |\n",
      "|0    |61 |SpatialJoin|10.0   |4  |5    |0.Reporting locations |4.75     |\n",
      "|0    |77 |SpatialJoin|10.0   |4  |5    |1.Set of disks for t_i|19.85    |\n",
      "|0    |78 |SpatialJoin|10.0   |4  |5    |2.Distance Join phase |2.45     |\n",
      "|0    |79 |SpatialJoin|10.0   |4  |5    |3.Getting candidates  |1.38     |\n",
      "|0    |80 |SpatialJoin|10.0   |4  |5    |4.Found flocks        |0.26     |\n",
      "|0    |81 |SpatialJoin|10.0   |4  |5    |5.Updating times      |0.31     |\n",
      "|0    |82 |SpatialJoin|10.0   |4  |5    |6.Filter phase        |0.55     |\n",
      "|0    |83 |SpatialJoin|10.0   |4  |5    |0.Reporting locations |4.73     |\n",
      "+-----+---+-----------+-------+---+-----+----------------------+---------+\n",
      "only showing top 20 rows\n",
      "\n"
     ]
    },
    {
     "data": {
      "text/plain": [
       "null"
      ]
     },
     "execution_count": 75,
     "metadata": {},
     "output_type": "execute_result"
    }
   ],
   "source": [
    "val sj_stages = stages.join(runs, \"runID\").\n",
    "    filter($\"method\" === \"SpatialJoin\").\n",
    "    select($\"runID\", $\"n\", $\"method\", $\"epsilon\", $\"mu\", $\"delta\", $\"stage\".alias(\"stage0\"), $\"stageTime\").\n",
    "    withColumn(\"stage1\", regexp_replace($\"stage0\", \"\\\\.\\\\.\\\\.\", \"\")).\n",
    "    withColumn(\"stage2\", regexp_replace($\"stage1\", \"Reporting\", \"0.Reporting\")).\n",
    "    select($\"runID\", $\"n\", $\"method\", $\"epsilon\", $\"mu\", $\"delta\", $\"stage2\".alias(\"stage\"), $\"stageTime\").\n",
    "    filter(!$\"stage\".rlike(\"4.Distance Join phase\")).\n",
    "    filter(!$\"stage\".rlike(\"5.Getting candidates\"))\n",
    "sj_stages.show(truncate = false)\n",
    "\n"
   ]
  },
  {
   "cell_type": "code",
   "execution_count": 76,
   "metadata": {},
   "outputs": [
    {
     "name": "stdout",
     "output_type": "stream",
     "text": [
      "+-----+-----------+-------+---+-----+-------+\n",
      "|runID|method     |epsilon|mu |delta|time   |\n",
      "+-----+-----------+-------+---+-----+-------+\n",
      "|0    |SpatialJoin|10.0   |4  |5    |462.226|\n",
      "|1    |SpatialJoin|10.0   |4  |5    |444.708|\n",
      "|2    |SpatialJoin|10.0   |4  |5    |446.822|\n",
      "|3    |SpatialJoin|10.0   |4  |5    |455.671|\n",
      "|4    |SpatialJoin|10.0   |4  |5    |453.472|\n",
      "|5    |MergeLast  |10.0   |4  |5    |484.132|\n",
      "|6    |MergeLast  |15.0   |4  |5    |490.705|\n",
      "|7    |MergeLast  |20.0   |4  |5    |511.015|\n",
      "|8    |MergeLast  |25.0   |4  |5    |517.179|\n",
      "|9    |MergeLast  |30.0   |4  |5    |523.342|\n",
      "+-----+-----------+-------+---+-----+-------+\n",
      "only showing top 10 rows\n",
      "\n"
     ]
    },
    {
     "data": {
      "text/plain": [
       "null"
      ]
     },
     "execution_count": 76,
     "metadata": {},
     "output_type": "execute_result"
    }
   ],
   "source": [
    "val data = runs.select($\"runID\", $\"method\", $\"epsilon\", $\"mu\", $\"delta\", $\"methodTime\".alias(\"time\")).\n",
    "    orderBy($\"runID\", $\"epsilon\", $\"method\").\n",
    "    cache\n",
    "data.count()\n",
    "data.show(10, truncate = false)"
   ]
  },
  {
   "cell_type": "code",
   "execution_count": 77,
   "metadata": {},
   "outputs": [
    {
     "data": {
      "text/plain": [
       "null"
      ]
     },
     "execution_count": 77,
     "metadata": {},
     "output_type": "execute_result"
    }
   ],
   "source": [
    "val d = data.collect.map(_.mkString(\";\")).mkString(\"\\n\")\n",
    "\n",
    "import java.io._\n",
    "val pw = new PrintWriter(new File(s\"${folder}methods_${prefix}.csv\" ))\n",
    "pw.write(s\"$d\\n\")\n",
    "pw.close"
   ]
  },
  {
   "cell_type": "code",
   "execution_count": 78,
   "metadata": {},
   "outputs": [
    {
     "name": "stderr",
     "output_type": "stream",
     "text": []
    },
    {
     "data": {
      "text/plain": [
       "null"
      ]
     },
     "execution_count": 78,
     "metadata": {},
     "output_type": "execute_result"
    }
   ],
   "source": [
    "val d = ml_stages.union(sj_stages).collect.map(_.mkString(\";\")).mkString(\"\\n\")\n",
    "\n",
    "import java.io._\n",
    "val pw = new PrintWriter(new File(s\"${folder}stages_${prefix}.csv\" ))\n",
    "pw.write(s\"$d\\n\")\n",
    "pw.close"
   ]
  },
  {
   "cell_type": "code",
   "execution_count": 79,
   "metadata": {},
   "outputs": [
    {
     "name": "stdout",
     "output_type": "stream",
     "text": [
      "+-----+---+\n",
      "|mdfID|n  |\n",
      "+-----+---+\n",
      "|0    |20 |\n",
      "|0    |21 |\n",
      "|0    |22 |\n",
      "|0    |23 |\n",
      "|0    |24 |\n",
      "|0    |25 |\n",
      "|0    |26 |\n",
      "|0    |27 |\n",
      "|0    |28 |\n",
      "|0    |29 |\n",
      "|0    |30 |\n",
      "|0    |31 |\n",
      "|0    |32 |\n",
      "|0    |33 |\n",
      "|1    |40 |\n",
      "+-----+---+\n",
      "only showing top 15 rows\n",
      "\n"
     ]
    },
    {
     "data": {
      "text/plain": [
       "null"
      ]
     },
     "execution_count": 79,
     "metadata": {},
     "output_type": "execute_result"
    }
   ],
   "source": [
    "val indicesMdf = lines.filter{ l => \n",
    "        l.line.contains(\" -> Setting mu=\") || l.line.contains(\" ->   berlin0-10,\") \n",
    "    }\n",
    "    .orderBy(\"n\")\n",
    "    .select(\"n\")\n",
    "    .collect()\n",
    "    .toList\n",
    "    .map(_.getLong(0))\n",
    "    .grouped(2)\n",
    "    .toList\n",
    "    .map(pair => (pair.head, pair.last))\n",
    "    .filter(r => r._1 != r._2)\n",
    "    .zipWithIndex\n",
    "val indexMdf = spark.createDataset(indicesMdf)\n",
    "    .flatMap{ pair => \n",
    "        (pair._1._1 to pair._1._2)\n",
    "        .toList.map(v => (pair._2, v))\n",
    "    }\n",
    "    .toDF(\"mdfID\",\"n\")\n",
    "    .cache\n",
    "indexMdf.show(15, truncate = false)"
   ]
  },
  {
   "cell_type": "code",
   "execution_count": 80,
   "metadata": {},
   "outputs": [
    {
     "name": "stderr",
     "output_type": "stream",
     "text": []
    },
    {
     "name": "stdout",
     "output_type": "stream",
     "text": [
      "+-----+---+\n",
      "|mdfID|m  |\n",
      "+-----+---+\n",
      "|0    |33 |\n",
      "|1    |53 |\n",
      "|2    |75 |\n",
      "|3    |97 |\n",
      "|4    |119|\n",
      "|5    |141|\n",
      "|6    |163|\n",
      "|7    |185|\n",
      "|8    |207|\n",
      "|9    |229|\n",
      "+-----+---+\n",
      "only showing top 10 rows\n",
      "\n"
     ]
    },
    {
     "data": {
      "text/plain": [
       "null"
      ]
     },
     "execution_count": 80,
     "metadata": {},
     "output_type": "execute_result"
    }
   ],
   "source": [
    "val mdfInfo = indexMdf.groupBy($\"mdfID\").agg(max($\"n\").alias(\"m\")).orderBy($\"m\")\n",
    "mdfInfo.show(10, truncate = false)"
   ]
  },
  {
   "cell_type": "code",
   "execution_count": 81,
   "metadata": {
    "scrolled": true
   },
   "outputs": [
    {
     "name": "stderr",
     "output_type": "stream",
     "text": []
    },
    {
     "name": "stdout",
     "output_type": "stream",
     "text": [
      "+-----------+-------+---+-----+---------+\n",
      "|method     |epsilon|mu |delta|timestamp|\n",
      "+-----------+-------+---+-----+---------+\n",
      "|SpatialJoin|10.0   |4  |5    |  0      |\n",
      "|SpatialJoin|10.0   |4  |5    |  1      |\n",
      "|SpatialJoin|10.0   |4  |5    |  2      |\n",
      "|SpatialJoin|10.0   |4  |5    |  3      |\n",
      "|SpatialJoin|10.0   |4  |5    |  4      |\n",
      "|SpatialJoin|10.0   |4  |5    |  5      |\n",
      "|SpatialJoin|10.0   |4  |5    |  6      |\n",
      "|SpatialJoin|10.0   |4  |5    |  7      |\n",
      "|SpatialJoin|10.0   |4  |5    |  8      |\n",
      "|SpatialJoin|10.0   |4  |5    |  9      |\n",
      "|SpatialJoin|10.0   |4  |5    | 10      |\n",
      "|SpatialJoin|10.0   |4  |5    |  0      |\n",
      "|SpatialJoin|10.0   |4  |5    |  1      |\n",
      "|SpatialJoin|10.0   |4  |5    |  2      |\n",
      "|SpatialJoin|10.0   |4  |5    |  3      |\n",
      "|SpatialJoin|10.0   |4  |5    |  4      |\n",
      "|SpatialJoin|10.0   |4  |5    |  5      |\n",
      "|SpatialJoin|10.0   |4  |5    |  6      |\n",
      "|SpatialJoin|10.0   |4  |5    |  7      |\n",
      "|SpatialJoin|10.0   |4  |5    |  8      |\n",
      "+-----------+-------+---+-----+---------+\n",
      "only showing top 20 rows\n",
      "\n"
     ]
    },
    {
     "data": {
      "text/plain": [
       "null"
      ]
     },
     "execution_count": 81,
     "metadata": {},
     "output_type": "execute_result"
    }
   ],
   "source": [
    "val mdfInfo = indexMdf.groupBy($\"mdfID\").agg(max($\"n\").alias(\"n\")).orderBy($\"n\").\n",
    "    join(indexRun, \"n\").\n",
    "    join(runs, \"runID\").\n",
    "    join(lines, \"n\").\n",
    "    select($\"method\", $\"epsilon\", $\"mu\", $\"delta\", $\"line\").\n",
    "    withColumn(\"timestamp\", substring($\"line\", 122, 124)).\n",
    "    select($\"method\", $\"epsilon\", $\"mu\", $\"delta\", $\"timestamp\")\n",
    "\n",
    "mdfInfo.show(truncate = false)"
   ]
  },
  {
   "cell_type": "code",
   "execution_count": 82,
   "metadata": {},
   "outputs": [
    {
     "data": {
      "text/plain": [
       "null"
      ]
     },
     "execution_count": 82,
     "metadata": {},
     "output_type": "execute_result"
    }
   ],
   "source": [
    "val d = mdfInfo.collect.map(_.mkString(\";\")).mkString(\"\\n\")\n",
    "\n",
    "import java.io._\n",
    "val pw = new PrintWriter(new File(s\"${folder}mdfInfo_${prefix}.csv\" ))\n",
    "pw.write(s\"$d\\n\")\n",
    "pw.close"
   ]
  },
  {
   "cell_type": "code",
   "execution_count": null,
   "metadata": {},
   "outputs": [],
   "source": []
  }
 ],
 "metadata": {
  "kernelspec": {
   "display_name": "Scala",
   "language": "scala",
   "name": "scala"
  },
  "language_info": {
   "codemirror_mode": "text/x-scala",
   "file_extension": ".scala",
   "mimetype": "",
   "name": "Scala",
   "nbconverter_exporter": "",
   "version": "2.11.12"
  }
 },
 "nbformat": 4,
 "nbformat_minor": 2
}
