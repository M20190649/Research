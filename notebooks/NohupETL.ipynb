{
 "cells": [
  {
   "cell_type": "code",
   "execution_count": 25,
   "metadata": {},
   "outputs": [],
   "source": [
    "#!/usr/bin/Rscript\n",
    "\n",
    "if (!require(\"pacman\")) install.packages(\"pacman\")\n",
    "pacman::p_load(ggplot2, sqldf, tidyr, stringr, dplyr, doBy, plyr)\n",
    "RESEARCH_HOME = Sys.getenv(c(\"RESEARCH_HOME\"))\n",
    "PATH = \"Scripts/Python/\"\n",
    "SAVE_PDF = F\n",
    "W = 6\n",
    "H = 6\n",
    "muDefault      = 4\n",
    "deltaDefault   = 5\n",
    "epsilonDefault = 30\n",
    "\n",
    "stages_mu = read.csv(paste0(RESEARCH_HOME, PATH, 'data/stages_mu.csv'), header = F, sep = \";\")\n",
    "stages_delta = read.csv(paste0(RESEARCH_HOME, PATH, 'data/stages_delta.csv'), header = F, sep = \";\")\n",
    "\n",
    "stages2 = read.csv(paste0(RESEARCH_HOME, PATH, 'stages_nohup_draft.csv'), header = F, sep = \";\")\n"
   ]
  },
  {
   "cell_type": "code",
   "execution_count": 26,
   "metadata": {},
   "outputs": [
    {
     "data": {
      "text/html": [
       "<table>\n",
       "<thead><tr><th scope=col>runID</th><th scope=col>n</th><th scope=col>Method</th><th scope=col>Epsilon</th><th scope=col>Mu</th><th scope=col>Delta</th><th scope=col>Stages</th><th scope=col>Time</th></tr></thead>\n",
       "<tbody>\n",
       "\t<tr><td>11                          </td><td>2975                        </td><td>MergeLast                   </td><td>30                          </td><td>3                           </td><td>5                           </td><td>0.Reporting locations       </td><td> 5.45                       </td></tr>\n",
       "\t<tr><td>11                          </td><td>2991                        </td><td>MergeLast                   </td><td>30                          </td><td>3                           </td><td>5                           </td><td>1.Set of disks for t_i      </td><td>32.76                       </td></tr>\n",
       "\t<tr><td>11                          </td><td>2992                        </td><td>MergeLast                   </td><td>30                          </td><td>3                           </td><td>5                           </td><td>0.Reporting locations       </td><td> 5.18                       </td></tr>\n",
       "\t<tr><td>11                          </td><td>3008                        </td><td>MergeLast                   </td><td>30                          </td><td>3                           </td><td>5                           </td><td>2.Set of disks for t_i+delta</td><td>36.79                       </td></tr>\n",
       "\t<tr><td>11                          </td><td>3009                        </td><td>MergeLast                   </td><td>30                          </td><td>3                           </td><td>5                           </td><td>3.Joining timestams         </td><td>18.50                       </td></tr>\n",
       "\t<tr><td>11                          </td><td>3010                        </td><td>MergeLast                   </td><td>30                          </td><td>3                           </td><td>5                           </td><td>4.Checking internals        </td><td>21.41                       </td></tr>\n",
       "</tbody>\n",
       "</table>\n"
      ],
      "text/latex": [
       "\\begin{tabular}{r|llllllll}\n",
       " runID & n & Method & Epsilon & Mu & Delta & Stages & Time\\\\\n",
       "\\hline\n",
       "\t 11                           & 2975                         & MergeLast                    & 30                           & 3                            & 5                            & 0.Reporting locations        &  5.45                       \\\\\n",
       "\t 11                             & 2991                           & MergeLast                      & 30                             & 3                              & 5                              & 1.Set of disks for t\\_i       & 32.76                         \\\\\n",
       "\t 11                           & 2992                         & MergeLast                    & 30                           & 3                            & 5                            & 0.Reporting locations        &  5.18                       \\\\\n",
       "\t 11                             & 3008                           & MergeLast                      & 30                             & 3                              & 5                              & 2.Set of disks for t\\_i+delta & 36.79                         \\\\\n",
       "\t 11                           & 3009                         & MergeLast                    & 30                           & 3                            & 5                            & 3.Joining timestams          & 18.50                       \\\\\n",
       "\t 11                           & 3010                         & MergeLast                    & 30                           & 3                            & 5                            & 4.Checking internals         & 21.41                       \\\\\n",
       "\\end{tabular}\n"
      ],
      "text/markdown": [
       "\n",
       "runID | n | Method | Epsilon | Mu | Delta | Stages | Time | \n",
       "|---|---|---|---|---|---|\n",
       "| 11                           | 2975                         | MergeLast                    | 30                           | 3                            | 5                            | 0.Reporting locations        |  5.45                        | \n",
       "| 11                           | 2991                         | MergeLast                    | 30                           | 3                            | 5                            | 1.Set of disks for t_i       | 32.76                        | \n",
       "| 11                           | 2992                         | MergeLast                    | 30                           | 3                            | 5                            | 0.Reporting locations        |  5.18                        | \n",
       "| 11                           | 3008                         | MergeLast                    | 30                           | 3                            | 5                            | 2.Set of disks for t_i+delta | 36.79                        | \n",
       "| 11                           | 3009                         | MergeLast                    | 30                           | 3                            | 5                            | 3.Joining timestams          | 18.50                        | \n",
       "| 11                           | 3010                         | MergeLast                    | 30                           | 3                            | 5                            | 4.Checking internals         | 21.41                        | \n",
       "\n",
       "\n"
      ],
      "text/plain": [
       "  runID n    Method    Epsilon Mu Delta Stages                       Time \n",
       "1 11    2975 MergeLast 30      3  5     0.Reporting locations         5.45\n",
       "2 11    2991 MergeLast 30      3  5     1.Set of disks for t_i       32.76\n",
       "3 11    2992 MergeLast 30      3  5     0.Reporting locations         5.18\n",
       "4 11    3008 MergeLast 30      3  5     2.Set of disks for t_i+delta 36.79\n",
       "5 11    3009 MergeLast 30      3  5     3.Joining timestams          18.50\n",
       "6 11    3010 MergeLast 30      3  5     4.Checking internals         21.41"
      ]
     },
     "metadata": {},
     "output_type": "display_data"
    },
    {
     "data": {
      "text/html": [
       "2380"
      ],
      "text/latex": [
       "2380"
      ],
      "text/markdown": [
       "2380"
      ],
      "text/plain": [
       "[1] 2380"
      ]
     },
     "metadata": {},
     "output_type": "display_data"
    },
    {
     "data": {
      "text/html": [
       "<table>\n",
       "<thead><tr><th scope=col>runID</th><th scope=col>n</th><th scope=col>Method</th><th scope=col>Epsilon</th><th scope=col>Mu</th><th scope=col>Delta</th><th scope=col>Stages</th><th scope=col>Time</th></tr></thead>\n",
       "<tbody>\n",
       "\t<tr><td>1                           </td><td>291                         </td><td>MergeLast                   </td><td>30                          </td><td>4                           </td><td>3                           </td><td>0.Reporting locations       </td><td> 5.63                       </td></tr>\n",
       "\t<tr><td>1                           </td><td>307                         </td><td>MergeLast                   </td><td>30                          </td><td>4                           </td><td>3                           </td><td>1.Set of disks for t_i      </td><td>31.31                       </td></tr>\n",
       "\t<tr><td>1                           </td><td>308                         </td><td>MergeLast                   </td><td>30                          </td><td>4                           </td><td>3                           </td><td>0.Reporting locations       </td><td> 4.98                       </td></tr>\n",
       "\t<tr><td>1                           </td><td>324                         </td><td>MergeLast                   </td><td>30                          </td><td>4                           </td><td>3                           </td><td>2.Set of disks for t_i+delta</td><td>20.51                       </td></tr>\n",
       "\t<tr><td>1                           </td><td>325                         </td><td>MergeLast                   </td><td>30                          </td><td>4                           </td><td>3                           </td><td>3.Joining timestams         </td><td> 8.55                       </td></tr>\n",
       "\t<tr><td>1                           </td><td>326                         </td><td>MergeLast                   </td><td>30                          </td><td>4                           </td><td>3                           </td><td>4.Checking internals        </td><td>11.68                       </td></tr>\n",
       "</tbody>\n",
       "</table>\n"
      ],
      "text/latex": [
       "\\begin{tabular}{r|llllllll}\n",
       " runID & n & Method & Epsilon & Mu & Delta & Stages & Time\\\\\n",
       "\\hline\n",
       "\t 1                            & 291                          & MergeLast                    & 30                           & 4                            & 3                            & 0.Reporting locations        &  5.63                       \\\\\n",
       "\t 1                              & 307                            & MergeLast                      & 30                             & 4                              & 3                              & 1.Set of disks for t\\_i       & 31.31                         \\\\\n",
       "\t 1                            & 308                          & MergeLast                    & 30                           & 4                            & 3                            & 0.Reporting locations        &  4.98                       \\\\\n",
       "\t 1                              & 324                            & MergeLast                      & 30                             & 4                              & 3                              & 2.Set of disks for t\\_i+delta & 20.51                         \\\\\n",
       "\t 1                            & 325                          & MergeLast                    & 30                           & 4                            & 3                            & 3.Joining timestams          &  8.55                       \\\\\n",
       "\t 1                            & 326                          & MergeLast                    & 30                           & 4                            & 3                            & 4.Checking internals         & 11.68                       \\\\\n",
       "\\end{tabular}\n"
      ],
      "text/markdown": [
       "\n",
       "runID | n | Method | Epsilon | Mu | Delta | Stages | Time | \n",
       "|---|---|---|---|---|---|\n",
       "| 1                            | 291                          | MergeLast                    | 30                           | 4                            | 3                            | 0.Reporting locations        |  5.63                        | \n",
       "| 1                            | 307                          | MergeLast                    | 30                           | 4                            | 3                            | 1.Set of disks for t_i       | 31.31                        | \n",
       "| 1                            | 308                          | MergeLast                    | 30                           | 4                            | 3                            | 0.Reporting locations        |  4.98                        | \n",
       "| 1                            | 324                          | MergeLast                    | 30                           | 4                            | 3                            | 2.Set of disks for t_i+delta | 20.51                        | \n",
       "| 1                            | 325                          | MergeLast                    | 30                           | 4                            | 3                            | 3.Joining timestams          |  8.55                        | \n",
       "| 1                            | 326                          | MergeLast                    | 30                           | 4                            | 3                            | 4.Checking internals         | 11.68                        | \n",
       "\n",
       "\n"
      ],
      "text/plain": [
       "  runID n   Method    Epsilon Mu Delta Stages                       Time \n",
       "1 1     291 MergeLast 30      4  3     0.Reporting locations         5.63\n",
       "2 1     307 MergeLast 30      4  3     1.Set of disks for t_i       31.31\n",
       "3 1     308 MergeLast 30      4  3     0.Reporting locations         4.98\n",
       "4 1     324 MergeLast 30      4  3     2.Set of disks for t_i+delta 20.51\n",
       "5 1     325 MergeLast 30      4  3     3.Joining timestams           8.55\n",
       "6 1     326 MergeLast 30      4  3     4.Checking internals         11.68"
      ]
     },
     "metadata": {},
     "output_type": "display_data"
    },
    {
     "data": {
      "text/html": [
       "2440"
      ],
      "text/latex": [
       "2440"
      ],
      "text/markdown": [
       "2440"
      ],
      "text/plain": [
       "[1] 2440"
      ]
     },
     "metadata": {},
     "output_type": "display_data"
    },
    {
     "data": {
      "text/html": [
       "<table>\n",
       "<thead><tr><th scope=col>runID</th><th scope=col>n</th><th scope=col>Method</th><th scope=col>Epsilon</th><th scope=col>Mu</th><th scope=col>Delta</th><th scope=col>Stages</th><th scope=col>Time</th></tr></thead>\n",
       "<tbody>\n",
       "\t<tr><td>1                           </td><td>291                         </td><td>MergeLast                   </td><td>30                          </td><td>4                           </td><td>3                           </td><td>0.Reporting locations       </td><td> 5.63                       </td></tr>\n",
       "\t<tr><td>1                           </td><td>307                         </td><td>MergeLast                   </td><td>30                          </td><td>4                           </td><td>3                           </td><td>1.Set of disks for t_i      </td><td>31.31                       </td></tr>\n",
       "\t<tr><td>1                           </td><td>308                         </td><td>MergeLast                   </td><td>30                          </td><td>4                           </td><td>3                           </td><td>0.Reporting locations       </td><td> 4.98                       </td></tr>\n",
       "\t<tr><td>1                           </td><td>324                         </td><td>MergeLast                   </td><td>30                          </td><td>4                           </td><td>3                           </td><td>2.Set of disks for t_i+delta</td><td>20.51                       </td></tr>\n",
       "\t<tr><td>1                           </td><td>325                         </td><td>MergeLast                   </td><td>30                          </td><td>4                           </td><td>3                           </td><td>3.Joining timestams         </td><td> 8.55                       </td></tr>\n",
       "\t<tr><td>1                           </td><td>326                         </td><td>MergeLast                   </td><td>30                          </td><td>4                           </td><td>3                           </td><td>4.Checking internals        </td><td>11.68                       </td></tr>\n",
       "</tbody>\n",
       "</table>\n"
      ],
      "text/latex": [
       "\\begin{tabular}{r|llllllll}\n",
       " runID & n & Method & Epsilon & Mu & Delta & Stages & Time\\\\\n",
       "\\hline\n",
       "\t 1                            & 291                          & MergeLast                    & 30                           & 4                            & 3                            & 0.Reporting locations        &  5.63                       \\\\\n",
       "\t 1                              & 307                            & MergeLast                      & 30                             & 4                              & 3                              & 1.Set of disks for t\\_i       & 31.31                         \\\\\n",
       "\t 1                            & 308                          & MergeLast                    & 30                           & 4                            & 3                            & 0.Reporting locations        &  4.98                       \\\\\n",
       "\t 1                              & 324                            & MergeLast                      & 30                             & 4                              & 3                              & 2.Set of disks for t\\_i+delta & 20.51                         \\\\\n",
       "\t 1                            & 325                          & MergeLast                    & 30                           & 4                            & 3                            & 3.Joining timestams          &  8.55                       \\\\\n",
       "\t 1                            & 326                          & MergeLast                    & 30                           & 4                            & 3                            & 4.Checking internals         & 11.68                       \\\\\n",
       "\\end{tabular}\n"
      ],
      "text/markdown": [
       "\n",
       "runID | n | Method | Epsilon | Mu | Delta | Stages | Time | \n",
       "|---|---|---|---|---|---|\n",
       "| 1                            | 291                          | MergeLast                    | 30                           | 4                            | 3                            | 0.Reporting locations        |  5.63                        | \n",
       "| 1                            | 307                          | MergeLast                    | 30                           | 4                            | 3                            | 1.Set of disks for t_i       | 31.31                        | \n",
       "| 1                            | 308                          | MergeLast                    | 30                           | 4                            | 3                            | 0.Reporting locations        |  4.98                        | \n",
       "| 1                            | 324                          | MergeLast                    | 30                           | 4                            | 3                            | 2.Set of disks for t_i+delta | 20.51                        | \n",
       "| 1                            | 325                          | MergeLast                    | 30                           | 4                            | 3                            | 3.Joining timestams          |  8.55                        | \n",
       "| 1                            | 326                          | MergeLast                    | 30                           | 4                            | 3                            | 4.Checking internals         | 11.68                        | \n",
       "\n",
       "\n"
      ],
      "text/plain": [
       "  runID n   Method    Epsilon Mu Delta Stages                       Time \n",
       "1 1     291 MergeLast 30      4  3     0.Reporting locations         5.63\n",
       "2 1     307 MergeLast 30      4  3     1.Set of disks for t_i       31.31\n",
       "3 1     308 MergeLast 30      4  3     0.Reporting locations         4.98\n",
       "4 1     324 MergeLast 30      4  3     2.Set of disks for t_i+delta 20.51\n",
       "5 1     325 MergeLast 30      4  3     3.Joining timestams           8.55\n",
       "6 1     326 MergeLast 30      4  3     4.Checking internals         11.68"
      ]
     },
     "metadata": {},
     "output_type": "display_data"
    },
    {
     "data": {
      "text/html": [
       "490"
      ],
      "text/latex": [
       "490"
      ],
      "text/markdown": [
       "490"
      ],
      "text/plain": [
       "[1] 490"
      ]
     },
     "metadata": {},
     "output_type": "display_data"
    }
   ],
   "source": [
    "header = c(\"runID\", \"n\", \"Method\", \"Epsilon\", \"Mu\", \"Delta\", \"Stages\", \"Time\")\n",
    "names(stages_mu) = header \n",
    "head(stages_mu)\n",
    "nrow(stages_mu)\n",
    "names(stages_delta) = header \n",
    "head(stages_delta)\n",
    "nrow(stages_delta)\n",
    "names(stages2) = header \n",
    "head(stages2)\n",
    "nrow(stages2)"
   ]
  },
  {
   "cell_type": "code",
   "execution_count": 27,
   "metadata": {},
   "outputs": [
    {
     "data": {
      "text/html": [
       "<table>\n",
       "<thead><tr><th scope=col>runID</th><th scope=col>n</th><th scope=col>Method</th><th scope=col>Epsilon</th><th scope=col>Mu</th><th scope=col>Delta</th><th scope=col>Stages</th><th scope=col>Time</th></tr></thead>\n",
       "<tbody>\n",
       "\t<tr><td>11                          </td><td>2975                        </td><td>MergeLast                   </td><td>30                          </td><td>3                           </td><td>5                           </td><td>0.Reporting locations       </td><td> 5.45                       </td></tr>\n",
       "\t<tr><td>11                          </td><td>2991                        </td><td>MergeLast                   </td><td>30                          </td><td>3                           </td><td>5                           </td><td>1.Set of disks for t_i      </td><td>32.76                       </td></tr>\n",
       "\t<tr><td>11                          </td><td>2992                        </td><td>MergeLast                   </td><td>30                          </td><td>3                           </td><td>5                           </td><td>0.Reporting locations       </td><td> 5.18                       </td></tr>\n",
       "\t<tr><td>11                          </td><td>3008                        </td><td>MergeLast                   </td><td>30                          </td><td>3                           </td><td>5                           </td><td>2.Set of disks for t_i+delta</td><td>36.79                       </td></tr>\n",
       "\t<tr><td>11                          </td><td>3009                        </td><td>MergeLast                   </td><td>30                          </td><td>3                           </td><td>5                           </td><td>3.Joining timestams         </td><td>18.50                       </td></tr>\n",
       "\t<tr><td>11                          </td><td>3010                        </td><td>MergeLast                   </td><td>30                          </td><td>3                           </td><td>5                           </td><td>4.Checking internals        </td><td>21.41                       </td></tr>\n",
       "</tbody>\n",
       "</table>\n"
      ],
      "text/latex": [
       "\\begin{tabular}{r|llllllll}\n",
       " runID & n & Method & Epsilon & Mu & Delta & Stages & Time\\\\\n",
       "\\hline\n",
       "\t 11                           & 2975                         & MergeLast                    & 30                           & 3                            & 5                            & 0.Reporting locations        &  5.45                       \\\\\n",
       "\t 11                             & 2991                           & MergeLast                      & 30                             & 3                              & 5                              & 1.Set of disks for t\\_i       & 32.76                         \\\\\n",
       "\t 11                           & 2992                         & MergeLast                    & 30                           & 3                            & 5                            & 0.Reporting locations        &  5.18                       \\\\\n",
       "\t 11                             & 3008                           & MergeLast                      & 30                             & 3                              & 5                              & 2.Set of disks for t\\_i+delta & 36.79                         \\\\\n",
       "\t 11                           & 3009                         & MergeLast                    & 30                           & 3                            & 5                            & 3.Joining timestams          & 18.50                       \\\\\n",
       "\t 11                           & 3010                         & MergeLast                    & 30                           & 3                            & 5                            & 4.Checking internals         & 21.41                       \\\\\n",
       "\\end{tabular}\n"
      ],
      "text/markdown": [
       "\n",
       "runID | n | Method | Epsilon | Mu | Delta | Stages | Time | \n",
       "|---|---|---|---|---|---|\n",
       "| 11                           | 2975                         | MergeLast                    | 30                           | 3                            | 5                            | 0.Reporting locations        |  5.45                        | \n",
       "| 11                           | 2991                         | MergeLast                    | 30                           | 3                            | 5                            | 1.Set of disks for t_i       | 32.76                        | \n",
       "| 11                           | 2992                         | MergeLast                    | 30                           | 3                            | 5                            | 0.Reporting locations        |  5.18                        | \n",
       "| 11                           | 3008                         | MergeLast                    | 30                           | 3                            | 5                            | 2.Set of disks for t_i+delta | 36.79                        | \n",
       "| 11                           | 3009                         | MergeLast                    | 30                           | 3                            | 5                            | 3.Joining timestams          | 18.50                        | \n",
       "| 11                           | 3010                         | MergeLast                    | 30                           | 3                            | 5                            | 4.Checking internals         | 21.41                        | \n",
       "\n",
       "\n"
      ],
      "text/plain": [
       "  runID n    Method    Epsilon Mu Delta Stages                       Time \n",
       "1 11    2975 MergeLast 30      3  5     0.Reporting locations         5.45\n",
       "2 11    2991 MergeLast 30      3  5     1.Set of disks for t_i       32.76\n",
       "3 11    2992 MergeLast 30      3  5     0.Reporting locations         5.18\n",
       "4 11    3008 MergeLast 30      3  5     2.Set of disks for t_i+delta 36.79\n",
       "5 11    3009 MergeLast 30      3  5     3.Joining timestams          18.50\n",
       "6 11    3010 MergeLast 30      3  5     4.Checking internals         21.41"
      ]
     },
     "metadata": {},
     "output_type": "display_data"
    },
    {
     "data": {
      "text/html": [
       "215"
      ],
      "text/latex": [
       "215"
      ],
      "text/markdown": [
       "215"
      ],
      "text/plain": [
       "[1] 215"
      ]
     },
     "metadata": {},
     "output_type": "display_data"
    },
    {
     "data": {
      "text/html": [
       "<table>\n",
       "<thead><tr><th></th><th scope=col>runID</th><th scope=col>n</th><th scope=col>Method</th><th scope=col>Epsilon</th><th scope=col>Mu</th><th scope=col>Delta</th><th scope=col>Stages</th><th scope=col>Time</th></tr></thead>\n",
       "<tbody>\n",
       "\t<tr><th scope=row>216</th><td>3                           </td><td>802                         </td><td>MergeLast                   </td><td>30                          </td><td>4                           </td><td>5                           </td><td>0.Reporting locations       </td><td> 5.67                       </td></tr>\n",
       "\t<tr><th scope=row>217</th><td>3                           </td><td>818                         </td><td>MergeLast                   </td><td>30                          </td><td>4                           </td><td>5                           </td><td>1.Set of disks for t_i      </td><td>32.08                       </td></tr>\n",
       "\t<tr><th scope=row>218</th><td>3                           </td><td>819                         </td><td>MergeLast                   </td><td>30                          </td><td>4                           </td><td>5                           </td><td>0.Reporting locations       </td><td> 5.24                       </td></tr>\n",
       "\t<tr><th scope=row>219</th><td>3                           </td><td>835                         </td><td>MergeLast                   </td><td>30                          </td><td>4                           </td><td>5                           </td><td>2.Set of disks for t_i+delta</td><td>36.07                       </td></tr>\n",
       "\t<tr><th scope=row>220</th><td>3                           </td><td>836                         </td><td>MergeLast                   </td><td>30                          </td><td>4                           </td><td>5                           </td><td>3.Joining timestams         </td><td> 9.18                       </td></tr>\n",
       "\t<tr><th scope=row>221</th><td>3                           </td><td>837                         </td><td>MergeLast                   </td><td>30                          </td><td>4                           </td><td>5                           </td><td>4.Checking internals        </td><td>11.68                       </td></tr>\n",
       "</tbody>\n",
       "</table>\n"
      ],
      "text/latex": [
       "\\begin{tabular}{r|llllllll}\n",
       "  & runID & n & Method & Epsilon & Mu & Delta & Stages & Time\\\\\n",
       "\\hline\n",
       "\t216 & 3                            & 802                          & MergeLast                    & 30                           & 4                            & 5                            & 0.Reporting locations        &  5.67                       \\\\\n",
       "\t217 & 3                              & 818                            & MergeLast                      & 30                             & 4                              & 5                              & 1.Set of disks for t\\_i       & 32.08                         \\\\\n",
       "\t218 & 3                            & 819                          & MergeLast                    & 30                           & 4                            & 5                            & 0.Reporting locations        &  5.24                       \\\\\n",
       "\t219 & 3                              & 835                            & MergeLast                      & 30                             & 4                              & 5                              & 2.Set of disks for t\\_i+delta & 36.07                         \\\\\n",
       "\t220 & 3                            & 836                          & MergeLast                    & 30                           & 4                            & 5                            & 3.Joining timestams          &  9.18                       \\\\\n",
       "\t221 & 3                            & 837                          & MergeLast                    & 30                           & 4                            & 5                            & 4.Checking internals         & 11.68                       \\\\\n",
       "\\end{tabular}\n"
      ],
      "text/markdown": [
       "\n",
       "| <!--/--> | runID | n | Method | Epsilon | Mu | Delta | Stages | Time | \n",
       "|---|---|---|---|---|---|\n",
       "| 216 | 3                            | 802                          | MergeLast                    | 30                           | 4                            | 5                            | 0.Reporting locations        |  5.67                        | \n",
       "| 217 | 3                            | 818                          | MergeLast                    | 30                           | 4                            | 5                            | 1.Set of disks for t_i       | 32.08                        | \n",
       "| 218 | 3                            | 819                          | MergeLast                    | 30                           | 4                            | 5                            | 0.Reporting locations        |  5.24                        | \n",
       "| 219 | 3                            | 835                          | MergeLast                    | 30                           | 4                            | 5                            | 2.Set of disks for t_i+delta | 36.07                        | \n",
       "| 220 | 3                            | 836                          | MergeLast                    | 30                           | 4                            | 5                            | 3.Joining timestams          |  9.18                        | \n",
       "| 221 | 3                            | 837                          | MergeLast                    | 30                           | 4                            | 5                            | 4.Checking internals         | 11.68                        | \n",
       "\n",
       "\n"
      ],
      "text/plain": [
       "    runID n   Method    Epsilon Mu Delta Stages                       Time \n",
       "216 3     802 MergeLast 30      4  5     0.Reporting locations         5.67\n",
       "217 3     818 MergeLast 30      4  5     1.Set of disks for t_i       32.08\n",
       "218 3     819 MergeLast 30      4  5     0.Reporting locations         5.24\n",
       "219 3     835 MergeLast 30      4  5     2.Set of disks for t_i+delta 36.07\n",
       "220 3     836 MergeLast 30      4  5     3.Joining timestams           9.18\n",
       "221 3     837 MergeLast 30      4  5     4.Checking internals         11.68"
      ]
     },
     "metadata": {},
     "output_type": "display_data"
    },
    {
     "data": {
      "text/html": [
       "2165"
      ],
      "text/latex": [
       "2165"
      ],
      "text/markdown": [
       "2165"
      ],
      "text/plain": [
       "[1] 2165"
      ]
     },
     "metadata": {},
     "output_type": "display_data"
    }
   ],
   "source": [
    "stages_mu2 = stages_mu[stages_mu$Method == \"MergeLast\" & stages_mu$Epsilon == '30' & stages_mu$Mu == '3' & stages_mu$Delta == '5', ]\n",
    "head(stages_mu2)\n",
    "nrow(stages_mu2)\n",
    "\n",
    "stages_mu4_6 = stages_mu[!(stages_mu$Method == \"MergeLast\" & stages_mu$Epsilon == '30' & stages_mu$Mu == '3' & stages_mu$Delta == '5'), ]\n",
    "head(stages_mu4_6)\n",
    "nrow(stages_mu4_6)"
   ]
  },
  {
   "cell_type": "code",
   "execution_count": 28,
   "metadata": {},
   "outputs": [
    {
     "data": {
      "text/html": [
       "<table>\n",
       "<thead><tr><th></th><th scope=col>runID</th><th scope=col>n</th><th scope=col>Method</th><th scope=col>Epsilon</th><th scope=col>Mu</th><th scope=col>Delta</th><th scope=col>Stages</th><th scope=col>Time</th></tr></thead>\n",
       "<tbody>\n",
       "\t<tr><th scope=row>276</th><td>11                          </td><td>2975                        </td><td>MergeLast                   </td><td>30                          </td><td>3                           </td><td>5                           </td><td>0.Reporting locations       </td><td> 5.45                       </td></tr>\n",
       "\t<tr><th scope=row>277</th><td>11                          </td><td>2991                        </td><td>MergeLast                   </td><td>30                          </td><td>3                           </td><td>5                           </td><td>1.Set of disks for t_i      </td><td>32.76                       </td></tr>\n",
       "\t<tr><th scope=row>278</th><td>11                          </td><td>2992                        </td><td>MergeLast                   </td><td>30                          </td><td>3                           </td><td>5                           </td><td>0.Reporting locations       </td><td> 5.18                       </td></tr>\n",
       "\t<tr><th scope=row>279</th><td>11                          </td><td>3008                        </td><td>MergeLast                   </td><td>30                          </td><td>3                           </td><td>5                           </td><td>2.Set of disks for t_i+delta</td><td>36.79                       </td></tr>\n",
       "\t<tr><th scope=row>280</th><td>11                          </td><td>3009                        </td><td>MergeLast                   </td><td>30                          </td><td>3                           </td><td>5                           </td><td>3.Joining timestams         </td><td>18.50                       </td></tr>\n",
       "\t<tr><th scope=row>281</th><td>11                          </td><td>3010                        </td><td>MergeLast                   </td><td>30                          </td><td>3                           </td><td>5                           </td><td>4.Checking internals        </td><td>21.41                       </td></tr>\n",
       "</tbody>\n",
       "</table>\n"
      ],
      "text/latex": [
       "\\begin{tabular}{r|llllllll}\n",
       "  & runID & n & Method & Epsilon & Mu & Delta & Stages & Time\\\\\n",
       "\\hline\n",
       "\t276 & 11                           & 2975                         & MergeLast                    & 30                           & 3                            & 5                            & 0.Reporting locations        &  5.45                       \\\\\n",
       "\t277 & 11                             & 2991                           & MergeLast                      & 30                             & 3                              & 5                              & 1.Set of disks for t\\_i       & 32.76                         \\\\\n",
       "\t278 & 11                           & 2992                         & MergeLast                    & 30                           & 3                            & 5                            & 0.Reporting locations        &  5.18                       \\\\\n",
       "\t279 & 11                             & 3008                           & MergeLast                      & 30                             & 3                              & 5                              & 2.Set of disks for t\\_i+delta & 36.79                         \\\\\n",
       "\t280 & 11                           & 3009                         & MergeLast                    & 30                           & 3                            & 5                            & 3.Joining timestams          & 18.50                       \\\\\n",
       "\t281 & 11                           & 3010                         & MergeLast                    & 30                           & 3                            & 5                            & 4.Checking internals         & 21.41                       \\\\\n",
       "\\end{tabular}\n"
      ],
      "text/markdown": [
       "\n",
       "| <!--/--> | runID | n | Method | Epsilon | Mu | Delta | Stages | Time | \n",
       "|---|---|---|---|---|---|\n",
       "| 276 | 11                           | 2975                         | MergeLast                    | 30                           | 3                            | 5                            | 0.Reporting locations        |  5.45                        | \n",
       "| 277 | 11                           | 2991                         | MergeLast                    | 30                           | 3                            | 5                            | 1.Set of disks for t_i       | 32.76                        | \n",
       "| 278 | 11                           | 2992                         | MergeLast                    | 30                           | 3                            | 5                            | 0.Reporting locations        |  5.18                        | \n",
       "| 279 | 11                           | 3008                         | MergeLast                    | 30                           | 3                            | 5                            | 2.Set of disks for t_i+delta | 36.79                        | \n",
       "| 280 | 11                           | 3009                         | MergeLast                    | 30                           | 3                            | 5                            | 3.Joining timestams          | 18.50                        | \n",
       "| 281 | 11                           | 3010                         | MergeLast                    | 30                           | 3                            | 5                            | 4.Checking internals         | 21.41                        | \n",
       "\n",
       "\n"
      ],
      "text/plain": [
       "    runID n    Method    Epsilon Mu Delta Stages                       Time \n",
       "276 11    2975 MergeLast 30      3  5     0.Reporting locations         5.45\n",
       "277 11    2991 MergeLast 30      3  5     1.Set of disks for t_i       32.76\n",
       "278 11    2992 MergeLast 30      3  5     0.Reporting locations         5.18\n",
       "279 11    3008 MergeLast 30      3  5     2.Set of disks for t_i+delta 36.79\n",
       "280 11    3009 MergeLast 30      3  5     3.Joining timestams          18.50\n",
       "281 11    3010 MergeLast 30      3  5     4.Checking internals         21.41"
      ]
     },
     "metadata": {},
     "output_type": "display_data"
    },
    {
     "data": {
      "text/html": [
       "215"
      ],
      "text/latex": [
       "215"
      ],
      "text/markdown": [
       "215"
      ],
      "text/plain": [
       "[1] 215"
      ]
     },
     "metadata": {},
     "output_type": "display_data"
    }
   ],
   "source": [
    "stages_mu3 = stages2[stages2$Mu == '3', ]\n",
    "head(stages_mu3)\n",
    "nrow(stages_mu3)"
   ]
  },
  {
   "cell_type": "code",
   "execution_count": 29,
   "metadata": {},
   "outputs": [
    {
     "data": {
      "text/html": [
       "<table>\n",
       "<thead><tr><th></th><th scope=col>runID</th><th scope=col>n</th><th scope=col>Method</th><th scope=col>Epsilon</th><th scope=col>Mu</th><th scope=col>Delta</th><th scope=col>Stages</th><th scope=col>Time</th></tr></thead>\n",
       "<tbody>\n",
       "\t<tr><th scope=row>276</th><td>11                          </td><td>2975                        </td><td>MergeLast                   </td><td>30                          </td><td>3                           </td><td>5                           </td><td>0.Reporting locations       </td><td> 5.45                       </td></tr>\n",
       "\t<tr><th scope=row>277</th><td>11                          </td><td>2991                        </td><td>MergeLast                   </td><td>30                          </td><td>3                           </td><td>5                           </td><td>1.Set of disks for t_i      </td><td>32.76                       </td></tr>\n",
       "\t<tr><th scope=row>278</th><td>11                          </td><td>2992                        </td><td>MergeLast                   </td><td>30                          </td><td>3                           </td><td>5                           </td><td>0.Reporting locations       </td><td> 5.18                       </td></tr>\n",
       "\t<tr><th scope=row>279</th><td>11                          </td><td>3008                        </td><td>MergeLast                   </td><td>30                          </td><td>3                           </td><td>5                           </td><td>2.Set of disks for t_i+delta</td><td>36.79                       </td></tr>\n",
       "\t<tr><th scope=row>280</th><td>11                          </td><td>3009                        </td><td>MergeLast                   </td><td>30                          </td><td>3                           </td><td>5                           </td><td>3.Joining timestams         </td><td>18.50                       </td></tr>\n",
       "\t<tr><th scope=row>281</th><td>11                          </td><td>3010                        </td><td>MergeLast                   </td><td>30                          </td><td>3                           </td><td>5                           </td><td>4.Checking internals        </td><td>21.41                       </td></tr>\n",
       "</tbody>\n",
       "</table>\n"
      ],
      "text/latex": [
       "\\begin{tabular}{r|llllllll}\n",
       "  & runID & n & Method & Epsilon & Mu & Delta & Stages & Time\\\\\n",
       "\\hline\n",
       "\t276 & 11                           & 2975                         & MergeLast                    & 30                           & 3                            & 5                            & 0.Reporting locations        &  5.45                       \\\\\n",
       "\t277 & 11                             & 2991                           & MergeLast                      & 30                             & 3                              & 5                              & 1.Set of disks for t\\_i       & 32.76                         \\\\\n",
       "\t278 & 11                           & 2992                         & MergeLast                    & 30                           & 3                            & 5                            & 0.Reporting locations        &  5.18                       \\\\\n",
       "\t279 & 11                             & 3008                           & MergeLast                      & 30                             & 3                              & 5                              & 2.Set of disks for t\\_i+delta & 36.79                         \\\\\n",
       "\t280 & 11                           & 3009                         & MergeLast                    & 30                           & 3                            & 5                            & 3.Joining timestams          & 18.50                       \\\\\n",
       "\t281 & 11                           & 3010                         & MergeLast                    & 30                           & 3                            & 5                            & 4.Checking internals         & 21.41                       \\\\\n",
       "\\end{tabular}\n"
      ],
      "text/markdown": [
       "\n",
       "| <!--/--> | runID | n | Method | Epsilon | Mu | Delta | Stages | Time | \n",
       "|---|---|---|---|---|---|\n",
       "| 276 | 11                           | 2975                         | MergeLast                    | 30                           | 3                            | 5                            | 0.Reporting locations        |  5.45                        | \n",
       "| 277 | 11                           | 2991                         | MergeLast                    | 30                           | 3                            | 5                            | 1.Set of disks for t_i       | 32.76                        | \n",
       "| 278 | 11                           | 2992                         | MergeLast                    | 30                           | 3                            | 5                            | 0.Reporting locations        |  5.18                        | \n",
       "| 279 | 11                           | 3008                         | MergeLast                    | 30                           | 3                            | 5                            | 2.Set of disks for t_i+delta | 36.79                        | \n",
       "| 280 | 11                           | 3009                         | MergeLast                    | 30                           | 3                            | 5                            | 3.Joining timestams          | 18.50                        | \n",
       "| 281 | 11                           | 3010                         | MergeLast                    | 30                           | 3                            | 5                            | 4.Checking internals         | 21.41                        | \n",
       "\n",
       "\n"
      ],
      "text/plain": [
       "    runID n    Method    Epsilon Mu Delta Stages                       Time \n",
       "276 11    2975 MergeLast 30      3  5     0.Reporting locations         5.45\n",
       "277 11    2991 MergeLast 30      3  5     1.Set of disks for t_i       32.76\n",
       "278 11    2992 MergeLast 30      3  5     0.Reporting locations         5.18\n",
       "279 11    3008 MergeLast 30      3  5     2.Set of disks for t_i+delta 36.79\n",
       "280 11    3009 MergeLast 30      3  5     3.Joining timestams          18.50\n",
       "281 11    3010 MergeLast 30      3  5     4.Checking internals         21.41"
      ]
     },
     "metadata": {},
     "output_type": "display_data"
    },
    {
     "data": {
      "text/html": [
       "2380"
      ],
      "text/latex": [
       "2380"
      ],
      "text/markdown": [
       "2380"
      ],
      "text/plain": [
       "[1] 2380"
      ]
     },
     "metadata": {},
     "output_type": "display_data"
    }
   ],
   "source": [
    "stages_mu = rbind(stages_mu3, stages_mu4_6)\n",
    "head(stages_mu)\n",
    "nrow(stages_mu)"
   ]
  },
  {
   "cell_type": "code",
   "execution_count": 30,
   "metadata": {},
   "outputs": [
    {
     "data": {
      "text/html": [
       "<table>\n",
       "<thead><tr><th scope=col>runID</th><th scope=col>n</th><th scope=col>Method</th><th scope=col>Epsilon</th><th scope=col>Mu</th><th scope=col>Delta</th><th scope=col>Stages</th><th scope=col>Time</th></tr></thead>\n",
       "<tbody>\n",
       "\t<tr><td>1                           </td><td>291                         </td><td>MergeLast                   </td><td>30                          </td><td>4                           </td><td>3                           </td><td>0.Reporting locations       </td><td> 5.63                       </td></tr>\n",
       "\t<tr><td>1                           </td><td>307                         </td><td>MergeLast                   </td><td>30                          </td><td>4                           </td><td>3                           </td><td>1.Set of disks for t_i      </td><td>31.31                       </td></tr>\n",
       "\t<tr><td>1                           </td><td>308                         </td><td>MergeLast                   </td><td>30                          </td><td>4                           </td><td>3                           </td><td>0.Reporting locations       </td><td> 4.98                       </td></tr>\n",
       "\t<tr><td>1                           </td><td>324                         </td><td>MergeLast                   </td><td>30                          </td><td>4                           </td><td>3                           </td><td>2.Set of disks for t_i+delta</td><td>20.51                       </td></tr>\n",
       "\t<tr><td>1                           </td><td>325                         </td><td>MergeLast                   </td><td>30                          </td><td>4                           </td><td>3                           </td><td>3.Joining timestams         </td><td> 8.55                       </td></tr>\n",
       "\t<tr><td>1                           </td><td>326                         </td><td>MergeLast                   </td><td>30                          </td><td>4                           </td><td>3                           </td><td>4.Checking internals        </td><td>11.68                       </td></tr>\n",
       "</tbody>\n",
       "</table>\n"
      ],
      "text/latex": [
       "\\begin{tabular}{r|llllllll}\n",
       " runID & n & Method & Epsilon & Mu & Delta & Stages & Time\\\\\n",
       "\\hline\n",
       "\t 1                            & 291                          & MergeLast                    & 30                           & 4                            & 3                            & 0.Reporting locations        &  5.63                       \\\\\n",
       "\t 1                              & 307                            & MergeLast                      & 30                             & 4                              & 3                              & 1.Set of disks for t\\_i       & 31.31                         \\\\\n",
       "\t 1                            & 308                          & MergeLast                    & 30                           & 4                            & 3                            & 0.Reporting locations        &  4.98                       \\\\\n",
       "\t 1                              & 324                            & MergeLast                      & 30                             & 4                              & 3                              & 2.Set of disks for t\\_i+delta & 20.51                         \\\\\n",
       "\t 1                            & 325                          & MergeLast                    & 30                           & 4                            & 3                            & 3.Joining timestams          &  8.55                       \\\\\n",
       "\t 1                            & 326                          & MergeLast                    & 30                           & 4                            & 3                            & 4.Checking internals         & 11.68                       \\\\\n",
       "\\end{tabular}\n"
      ],
      "text/markdown": [
       "\n",
       "runID | n | Method | Epsilon | Mu | Delta | Stages | Time | \n",
       "|---|---|---|---|---|---|\n",
       "| 1                            | 291                          | MergeLast                    | 30                           | 4                            | 3                            | 0.Reporting locations        |  5.63                        | \n",
       "| 1                            | 307                          | MergeLast                    | 30                           | 4                            | 3                            | 1.Set of disks for t_i       | 31.31                        | \n",
       "| 1                            | 308                          | MergeLast                    | 30                           | 4                            | 3                            | 0.Reporting locations        |  4.98                        | \n",
       "| 1                            | 324                          | MergeLast                    | 30                           | 4                            | 3                            | 2.Set of disks for t_i+delta | 20.51                        | \n",
       "| 1                            | 325                          | MergeLast                    | 30                           | 4                            | 3                            | 3.Joining timestams          |  8.55                        | \n",
       "| 1                            | 326                          | MergeLast                    | 30                           | 4                            | 3                            | 4.Checking internals         | 11.68                        | \n",
       "\n",
       "\n"
      ],
      "text/plain": [
       "  runID n   Method    Epsilon Mu Delta Stages                       Time \n",
       "1 1     291 MergeLast 30      4  3     0.Reporting locations         5.63\n",
       "2 1     307 MergeLast 30      4  3     1.Set of disks for t_i       31.31\n",
       "3 1     308 MergeLast 30      4  3     0.Reporting locations         4.98\n",
       "4 1     324 MergeLast 30      4  3     2.Set of disks for t_i+delta 20.51\n",
       "5 1     325 MergeLast 30      4  3     3.Joining timestams           8.55\n",
       "6 1     326 MergeLast 30      4  3     4.Checking internals         11.68"
      ]
     },
     "metadata": {},
     "output_type": "display_data"
    },
    {
     "data": {
      "text/html": [
       "275"
      ],
      "text/latex": [
       "275"
      ],
      "text/markdown": [
       "275"
      ],
      "text/plain": [
       "[1] 275"
      ]
     },
     "metadata": {},
     "output_type": "display_data"
    },
    {
     "data": {
      "text/html": [
       "<table>\n",
       "<thead><tr><th></th><th scope=col>runID</th><th scope=col>n</th><th scope=col>Method</th><th scope=col>Epsilon</th><th scope=col>Mu</th><th scope=col>Delta</th><th scope=col>Stages</th><th scope=col>Time</th></tr></thead>\n",
       "<tbody>\n",
       "\t<tr><th scope=row>276</th><td>3                           </td><td>814                         </td><td>MergeLast                   </td><td>30                          </td><td>4                           </td><td>4                           </td><td>0.Reporting locations       </td><td> 5.17                       </td></tr>\n",
       "\t<tr><th scope=row>277</th><td>3                           </td><td>830                         </td><td>MergeLast                   </td><td>30                          </td><td>4                           </td><td>4                           </td><td>1.Set of disks for t_i      </td><td>30.31                       </td></tr>\n",
       "\t<tr><th scope=row>278</th><td>3                           </td><td>831                         </td><td>MergeLast                   </td><td>30                          </td><td>4                           </td><td>4                           </td><td>0.Reporting locations       </td><td> 5.27                       </td></tr>\n",
       "\t<tr><th scope=row>279</th><td>3                           </td><td>847                         </td><td>MergeLast                   </td><td>30                          </td><td>4                           </td><td>4                           </td><td>2.Set of disks for t_i+delta</td><td>35.73                       </td></tr>\n",
       "\t<tr><th scope=row>280</th><td>3                           </td><td>848                         </td><td>MergeLast                   </td><td>30                          </td><td>4                           </td><td>4                           </td><td>3.Joining timestams         </td><td> 8.56                       </td></tr>\n",
       "\t<tr><th scope=row>281</th><td>3                           </td><td>849                         </td><td>MergeLast                   </td><td>30                          </td><td>4                           </td><td>4                           </td><td>4.Checking internals        </td><td>12.11                       </td></tr>\n",
       "</tbody>\n",
       "</table>\n"
      ],
      "text/latex": [
       "\\begin{tabular}{r|llllllll}\n",
       "  & runID & n & Method & Epsilon & Mu & Delta & Stages & Time\\\\\n",
       "\\hline\n",
       "\t276 & 3                            & 814                          & MergeLast                    & 30                           & 4                            & 4                            & 0.Reporting locations        &  5.17                       \\\\\n",
       "\t277 & 3                              & 830                            & MergeLast                      & 30                             & 4                              & 4                              & 1.Set of disks for t\\_i       & 30.31                         \\\\\n",
       "\t278 & 3                            & 831                          & MergeLast                    & 30                           & 4                            & 4                            & 0.Reporting locations        &  5.27                       \\\\\n",
       "\t279 & 3                              & 847                            & MergeLast                      & 30                             & 4                              & 4                              & 2.Set of disks for t\\_i+delta & 35.73                         \\\\\n",
       "\t280 & 3                            & 848                          & MergeLast                    & 30                           & 4                            & 4                            & 3.Joining timestams          &  8.56                       \\\\\n",
       "\t281 & 3                            & 849                          & MergeLast                    & 30                           & 4                            & 4                            & 4.Checking internals         & 12.11                       \\\\\n",
       "\\end{tabular}\n"
      ],
      "text/markdown": [
       "\n",
       "| <!--/--> | runID | n | Method | Epsilon | Mu | Delta | Stages | Time | \n",
       "|---|---|---|---|---|---|\n",
       "| 276 | 3                            | 814                          | MergeLast                    | 30                           | 4                            | 4                            | 0.Reporting locations        |  5.17                        | \n",
       "| 277 | 3                            | 830                          | MergeLast                    | 30                           | 4                            | 4                            | 1.Set of disks for t_i       | 30.31                        | \n",
       "| 278 | 3                            | 831                          | MergeLast                    | 30                           | 4                            | 4                            | 0.Reporting locations        |  5.27                        | \n",
       "| 279 | 3                            | 847                          | MergeLast                    | 30                           | 4                            | 4                            | 2.Set of disks for t_i+delta | 35.73                        | \n",
       "| 280 | 3                            | 848                          | MergeLast                    | 30                           | 4                            | 4                            | 3.Joining timestams          |  8.56                        | \n",
       "| 281 | 3                            | 849                          | MergeLast                    | 30                           | 4                            | 4                            | 4.Checking internals         | 12.11                        | \n",
       "\n",
       "\n"
      ],
      "text/plain": [
       "    runID n   Method    Epsilon Mu Delta Stages                       Time \n",
       "276 3     814 MergeLast 30      4  4     0.Reporting locations         5.17\n",
       "277 3     830 MergeLast 30      4  4     1.Set of disks for t_i       30.31\n",
       "278 3     831 MergeLast 30      4  4     0.Reporting locations         5.27\n",
       "279 3     847 MergeLast 30      4  4     2.Set of disks for t_i+delta 35.73\n",
       "280 3     848 MergeLast 30      4  4     3.Joining timestams           8.56\n",
       "281 3     849 MergeLast 30      4  4     4.Checking internals         12.11"
      ]
     },
     "metadata": {},
     "output_type": "display_data"
    },
    {
     "data": {
      "text/html": [
       "2165"
      ],
      "text/latex": [
       "2165"
      ],
      "text/markdown": [
       "2165"
      ],
      "text/plain": [
       "[1] 2165"
      ]
     },
     "metadata": {},
     "output_type": "display_data"
    }
   ],
   "source": [
    "stages_delta2 = stages_delta[stages_delta$Method == \"MergeLast\" & stages_delta$Epsilon == '30' & stages_delta$Mu == '4' & stages_delta$Delta == '3', ]\n",
    "head(stages_delta2)\n",
    "nrow(stages_delta2)\n",
    "\n",
    "stages_delta4_6 = stages_delta[!(stages_delta$Method == \"MergeLast\" & stages_delta$Epsilon == '30' & stages_delta$Mu == '4' & stages_delta$Delta == '3'), ]\n",
    "head(stages_delta4_6)\n",
    "nrow(stages_delta4_6)\n"
   ]
  },
  {
   "cell_type": "code",
   "execution_count": 31,
   "metadata": {},
   "outputs": [
    {
     "data": {
      "text/html": [
       "<table>\n",
       "<thead><tr><th scope=col>runID</th><th scope=col>n</th><th scope=col>Method</th><th scope=col>Epsilon</th><th scope=col>Mu</th><th scope=col>Delta</th><th scope=col>Stages</th><th scope=col>Time</th></tr></thead>\n",
       "<tbody>\n",
       "\t<tr><td>1                           </td><td>291                         </td><td>MergeLast                   </td><td>30                          </td><td>4                           </td><td>3                           </td><td>0.Reporting locations       </td><td> 5.63                       </td></tr>\n",
       "\t<tr><td>1                           </td><td>307                         </td><td>MergeLast                   </td><td>30                          </td><td>4                           </td><td>3                           </td><td>1.Set of disks for t_i      </td><td>31.31                       </td></tr>\n",
       "\t<tr><td>1                           </td><td>308                         </td><td>MergeLast                   </td><td>30                          </td><td>4                           </td><td>3                           </td><td>0.Reporting locations       </td><td> 4.98                       </td></tr>\n",
       "\t<tr><td>1                           </td><td>324                         </td><td>MergeLast                   </td><td>30                          </td><td>4                           </td><td>3                           </td><td>2.Set of disks for t_i+delta</td><td>20.51                       </td></tr>\n",
       "\t<tr><td>1                           </td><td>325                         </td><td>MergeLast                   </td><td>30                          </td><td>4                           </td><td>3                           </td><td>3.Joining timestams         </td><td> 8.55                       </td></tr>\n",
       "\t<tr><td>1                           </td><td>326                         </td><td>MergeLast                   </td><td>30                          </td><td>4                           </td><td>3                           </td><td>4.Checking internals        </td><td>11.68                       </td></tr>\n",
       "</tbody>\n",
       "</table>\n"
      ],
      "text/latex": [
       "\\begin{tabular}{r|llllllll}\n",
       " runID & n & Method & Epsilon & Mu & Delta & Stages & Time\\\\\n",
       "\\hline\n",
       "\t 1                            & 291                          & MergeLast                    & 30                           & 4                            & 3                            & 0.Reporting locations        &  5.63                       \\\\\n",
       "\t 1                              & 307                            & MergeLast                      & 30                             & 4                              & 3                              & 1.Set of disks for t\\_i       & 31.31                         \\\\\n",
       "\t 1                            & 308                          & MergeLast                    & 30                           & 4                            & 3                            & 0.Reporting locations        &  4.98                       \\\\\n",
       "\t 1                              & 324                            & MergeLast                      & 30                             & 4                              & 3                              & 2.Set of disks for t\\_i+delta & 20.51                         \\\\\n",
       "\t 1                            & 325                          & MergeLast                    & 30                           & 4                            & 3                            & 3.Joining timestams          &  8.55                       \\\\\n",
       "\t 1                            & 326                          & MergeLast                    & 30                           & 4                            & 3                            & 4.Checking internals         & 11.68                       \\\\\n",
       "\\end{tabular}\n"
      ],
      "text/markdown": [
       "\n",
       "runID | n | Method | Epsilon | Mu | Delta | Stages | Time | \n",
       "|---|---|---|---|---|---|\n",
       "| 1                            | 291                          | MergeLast                    | 30                           | 4                            | 3                            | 0.Reporting locations        |  5.63                        | \n",
       "| 1                            | 307                          | MergeLast                    | 30                           | 4                            | 3                            | 1.Set of disks for t_i       | 31.31                        | \n",
       "| 1                            | 308                          | MergeLast                    | 30                           | 4                            | 3                            | 0.Reporting locations        |  4.98                        | \n",
       "| 1                            | 324                          | MergeLast                    | 30                           | 4                            | 3                            | 2.Set of disks for t_i+delta | 20.51                        | \n",
       "| 1                            | 325                          | MergeLast                    | 30                           | 4                            | 3                            | 3.Joining timestams          |  8.55                        | \n",
       "| 1                            | 326                          | MergeLast                    | 30                           | 4                            | 3                            | 4.Checking internals         | 11.68                        | \n",
       "\n",
       "\n"
      ],
      "text/plain": [
       "  runID n   Method    Epsilon Mu Delta Stages                       Time \n",
       "1 1     291 MergeLast 30      4  3     0.Reporting locations         5.63\n",
       "2 1     307 MergeLast 30      4  3     1.Set of disks for t_i       31.31\n",
       "3 1     308 MergeLast 30      4  3     0.Reporting locations         4.98\n",
       "4 1     324 MergeLast 30      4  3     2.Set of disks for t_i+delta 20.51\n",
       "5 1     325 MergeLast 30      4  3     3.Joining timestams           8.55\n",
       "6 1     326 MergeLast 30      4  3     4.Checking internals         11.68"
      ]
     },
     "metadata": {},
     "output_type": "display_data"
    },
    {
     "data": {
      "text/html": [
       "275"
      ],
      "text/latex": [
       "275"
      ],
      "text/markdown": [
       "275"
      ],
      "text/plain": [
       "[1] 275"
      ]
     },
     "metadata": {},
     "output_type": "display_data"
    }
   ],
   "source": [
    "stages_delta3 = stages2[stages2$Delta == '3', ]\n",
    "head(stages_delta3)\n",
    "nrow(stages_delta3)"
   ]
  },
  {
   "cell_type": "code",
   "execution_count": 32,
   "metadata": {},
   "outputs": [
    {
     "data": {
      "text/html": [
       "<table>\n",
       "<thead><tr><th scope=col>runID</th><th scope=col>n</th><th scope=col>Method</th><th scope=col>Epsilon</th><th scope=col>Mu</th><th scope=col>Delta</th><th scope=col>Stages</th><th scope=col>Time</th></tr></thead>\n",
       "<tbody>\n",
       "\t<tr><td>1                           </td><td>291                         </td><td>MergeLast                   </td><td>30                          </td><td>4                           </td><td>3                           </td><td>0.Reporting locations       </td><td> 5.63                       </td></tr>\n",
       "\t<tr><td>1                           </td><td>307                         </td><td>MergeLast                   </td><td>30                          </td><td>4                           </td><td>3                           </td><td>1.Set of disks for t_i      </td><td>31.31                       </td></tr>\n",
       "\t<tr><td>1                           </td><td>308                         </td><td>MergeLast                   </td><td>30                          </td><td>4                           </td><td>3                           </td><td>0.Reporting locations       </td><td> 4.98                       </td></tr>\n",
       "\t<tr><td>1                           </td><td>324                         </td><td>MergeLast                   </td><td>30                          </td><td>4                           </td><td>3                           </td><td>2.Set of disks for t_i+delta</td><td>20.51                       </td></tr>\n",
       "\t<tr><td>1                           </td><td>325                         </td><td>MergeLast                   </td><td>30                          </td><td>4                           </td><td>3                           </td><td>3.Joining timestams         </td><td> 8.55                       </td></tr>\n",
       "\t<tr><td>1                           </td><td>326                         </td><td>MergeLast                   </td><td>30                          </td><td>4                           </td><td>3                           </td><td>4.Checking internals        </td><td>11.68                       </td></tr>\n",
       "</tbody>\n",
       "</table>\n"
      ],
      "text/latex": [
       "\\begin{tabular}{r|llllllll}\n",
       " runID & n & Method & Epsilon & Mu & Delta & Stages & Time\\\\\n",
       "\\hline\n",
       "\t 1                            & 291                          & MergeLast                    & 30                           & 4                            & 3                            & 0.Reporting locations        &  5.63                       \\\\\n",
       "\t 1                              & 307                            & MergeLast                      & 30                             & 4                              & 3                              & 1.Set of disks for t\\_i       & 31.31                         \\\\\n",
       "\t 1                            & 308                          & MergeLast                    & 30                           & 4                            & 3                            & 0.Reporting locations        &  4.98                       \\\\\n",
       "\t 1                              & 324                            & MergeLast                      & 30                             & 4                              & 3                              & 2.Set of disks for t\\_i+delta & 20.51                         \\\\\n",
       "\t 1                            & 325                          & MergeLast                    & 30                           & 4                            & 3                            & 3.Joining timestams          &  8.55                       \\\\\n",
       "\t 1                            & 326                          & MergeLast                    & 30                           & 4                            & 3                            & 4.Checking internals         & 11.68                       \\\\\n",
       "\\end{tabular}\n"
      ],
      "text/markdown": [
       "\n",
       "runID | n | Method | Epsilon | Mu | Delta | Stages | Time | \n",
       "|---|---|---|---|---|---|\n",
       "| 1                            | 291                          | MergeLast                    | 30                           | 4                            | 3                            | 0.Reporting locations        |  5.63                        | \n",
       "| 1                            | 307                          | MergeLast                    | 30                           | 4                            | 3                            | 1.Set of disks for t_i       | 31.31                        | \n",
       "| 1                            | 308                          | MergeLast                    | 30                           | 4                            | 3                            | 0.Reporting locations        |  4.98                        | \n",
       "| 1                            | 324                          | MergeLast                    | 30                           | 4                            | 3                            | 2.Set of disks for t_i+delta | 20.51                        | \n",
       "| 1                            | 325                          | MergeLast                    | 30                           | 4                            | 3                            | 3.Joining timestams          |  8.55                        | \n",
       "| 1                            | 326                          | MergeLast                    | 30                           | 4                            | 3                            | 4.Checking internals         | 11.68                        | \n",
       "\n",
       "\n"
      ],
      "text/plain": [
       "  runID n   Method    Epsilon Mu Delta Stages                       Time \n",
       "1 1     291 MergeLast 30      4  3     0.Reporting locations         5.63\n",
       "2 1     307 MergeLast 30      4  3     1.Set of disks for t_i       31.31\n",
       "3 1     308 MergeLast 30      4  3     0.Reporting locations         4.98\n",
       "4 1     324 MergeLast 30      4  3     2.Set of disks for t_i+delta 20.51\n",
       "5 1     325 MergeLast 30      4  3     3.Joining timestams           8.55\n",
       "6 1     326 MergeLast 30      4  3     4.Checking internals         11.68"
      ]
     },
     "metadata": {},
     "output_type": "display_data"
    },
    {
     "data": {
      "text/html": [
       "2440"
      ],
      "text/latex": [
       "2440"
      ],
      "text/markdown": [
       "2440"
      ],
      "text/plain": [
       "[1] 2440"
      ]
     },
     "metadata": {},
     "output_type": "display_data"
    }
   ],
   "source": [
    "stages_delta = rbind(stages_delta3, stages_delta4_6)\n",
    "head(stages_delta)\n",
    "nrow(stages_delta)"
   ]
  },
  {
   "cell_type": "code",
   "execution_count": 33,
   "metadata": {},
   "outputs": [],
   "source": [
    "write.table(stages_mu, \"/tmp/stages_mu.csv\", row.names = F, col.names = F, sep = \";\", quote = F)\n",
    "write.table(stages_delta, \"/tmp/stages_delta.csv\", row.names = F, col.names = F, sep = \";\", quote = F)\n"
   ]
  },
  {
   "cell_type": "code",
   "execution_count": null,
   "metadata": {},
   "outputs": [],
   "source": []
  }
 ],
 "metadata": {
  "kernelspec": {
   "display_name": "R",
   "language": "R",
   "name": "ir"
  },
  "language_info": {
   "codemirror_mode": "r",
   "file_extension": ".r",
   "mimetype": "text/x-r-source",
   "name": "R",
   "pygments_lexer": "r",
   "version": "3.4.4"
  },
  "widgets": {
   "application/vnd.jupyter.widget-state+json": {
    "state": {},
    "version_major": 2,
    "version_minor": 0
   }
  }
 },
 "nbformat": 4,
 "nbformat_minor": 2
}
