{
 "cells": [
  {
   "cell_type": "code",
   "execution_count": 1,
   "metadata": {},
   "outputs": [
    {
     "data": {
      "text/plain": [
       "\u001b[32mimport \u001b[39m\u001b[36m$exclude.$                        , $ivy.$                            // for cleaner logs\n",
       "\u001b[39m\n",
       "\u001b[32mimport \u001b[39m\u001b[36m$ivy.$                                   // adjust spark version - spark >= 2.0\n",
       "\u001b[39m\n",
       "\u001b[32mimport \u001b[39m\u001b[36m$ivy.$                                // for JupyterSparkSession (SparkSession aware of the jupyter-scala kernel)\n",
       "\u001b[39m"
      ]
     },
     "execution_count": 1,
     "metadata": {},
     "output_type": "execute_result"
    }
   ],
   "source": [
    "import $exclude.`org.slf4j:slf4j-log4j12`, $ivy.`org.slf4j:slf4j-nop:1.7.21` // for cleaner logs\n",
    "import $ivy.`org.apache.spark::spark-sql:2.1.0` // adjust spark version - spark >= 2.0\n",
    "import $ivy.`org.jupyter-scala::spark:0.4.2` // for JupyterSparkSession (SparkSession aware of the jupyter-scala kernel)\n"
   ]
  },
  {
   "cell_type": "code",
   "execution_count": 2,
   "metadata": {},
   "outputs": [
    {
     "data": {
      "text/plain": [
       "\u001b[32mimport \u001b[39m\u001b[36morg.apache.spark._\n",
       "\u001b[39m\n",
       "\u001b[32mimport \u001b[39m\u001b[36morg.apache.spark.sql._\n",
       "\u001b[39m\n",
       "\u001b[32mimport \u001b[39m\u001b[36morg.apache.spark.sql.functions._ \n",
       "\u001b[39m\n",
       "\u001b[32mimport \u001b[39m\u001b[36mjupyter.spark.session._\n",
       "\u001b[39m"
      ]
     },
     "execution_count": 2,
     "metadata": {},
     "output_type": "execute_result"
    }
   ],
   "source": [
    "import org.apache.spark._\n",
    "import org.apache.spark.sql._\n",
    "import org.apache.spark.sql.functions._ \n",
    "import jupyter.spark.session._\n"
   ]
  },
  {
   "cell_type": "code",
   "execution_count": 3,
   "metadata": {},
   "outputs": [
    {
     "name": "stderr",
     "output_type": "stream",
     "text": [
      "log4j:WARN No appenders could be found for logger (io.netty.util.internal.logging.InternalLoggerFactory).\n",
      "log4j:WARN Please initialize the log4j system properly.\n",
      "log4j:WARN See http://logging.apache.org/log4j/1.2/faq.html#noconfig for more info.\n"
     ]
    },
    {
     "data": {
      "text/plain": [
       "\u001b[36mspark\u001b[39m: \u001b[32mSparkSession\u001b[39m = org.apache.spark.sql.SparkSession@224bc9fd"
      ]
     },
     "execution_count": 3,
     "metadata": {},
     "output_type": "execute_result"
    }
   ],
   "source": [
    "val spark = JupyterSparkSession.builder() // important - call this rather than SparkSession.builder()\n",
    "  .jupyter() // this method must be called straightaway after builder()\n",
    "  .master(\"local[*]\") // change to \"yarn-client\" on YARN\n",
    "  .config(\"spark.executor.memory\", \"4g\")\n",
    "  .config(\"spark.sql.warehouse.dir\", \"/tmp/spark-warehouse\")\n",
    "  .appName(\"NohupReader\")\n",
    "  .getOrCreate()\n"
   ]
  },
  {
   "cell_type": "code",
   "execution_count": 4,
   "metadata": {},
   "outputs": [
    {
     "name": "stderr",
     "output_type": "stream",
     "text": [
      "                                                                                \r"
     ]
    },
    {
     "data": {
      "text/plain": [
       "\u001b[32mimport \u001b[39m\u001b[36mspark.implicits._\n",
       "\n",
       "\u001b[39m\n",
       "\u001b[36mresearch_home\u001b[39m: \u001b[32mString\u001b[39m = \u001b[32m\"/home/and/Documents/PhD/Research/\"\u001b[39m\n",
       "\u001b[36mfolder\u001b[39m: \u001b[32mString\u001b[39m = \u001b[32m\"/home/and/Documents/PhD/Research/Scripts/Python/data/\"\u001b[39m\n",
       "\u001b[36mprefix\u001b[39m: \u001b[32mString\u001b[39m = \u001b[32m\"FF\"\u001b[39m\n",
       "\u001b[36mnohup\u001b[39m: \u001b[32mDataset\u001b[39m[\u001b[32mString\u001b[39m] = [value: string]\n",
       "\u001b[36mres3_5\u001b[39m: \u001b[32mLong\u001b[39m = \u001b[32m23595L\u001b[39m"
      ]
     },
     "execution_count": 4,
     "metadata": {},
     "output_type": "execute_result"
    }
   ],
   "source": [
    "import spark.implicits._\n",
    "\n",
    "val research_home: String = scala.util.Properties.envOrElse(\"RESEARCH_HOME\", \"/home/acald013/Research/\")\n",
    "val folder = s\"${research_home}Scripts/Python/data/\"\n",
    "val prefix = \"FF\"\n",
    "\n",
    "val nohup = spark.read.textFile(s\"${folder}${prefix}*\")\n",
    "nohup.count"
   ]
  },
  {
   "cell_type": "code",
   "execution_count": 5,
   "metadata": {},
   "outputs": [
    {
     "data": {
      "text/plain": [
       "defined \u001b[32mclass\u001b[39m \u001b[36mLine\u001b[39m\n",
       "defined \u001b[32mclass\u001b[39m \u001b[36mParam\u001b[39m\n",
       "defined \u001b[32mclass\u001b[39m \u001b[36mStat\u001b[39m\n",
       "defined \u001b[32mclass\u001b[39m \u001b[36mRecord\u001b[39m"
      ]
     },
     "execution_count": 5,
     "metadata": {},
     "output_type": "execute_result"
    }
   ],
   "source": [
    "org.apache.spark.sql.catalyst.encoders.OuterScopes.addOuterScope(this)\n",
    "case class Line(line: String, n: Long)\n",
    "case class Param(runID: Long, date: String, method: String, cores: Int, epsilon: Double, mu: Int, delta: Int, methodTime: Double)\n",
    "case class Stat(runID: Long, n: Long, timestamp: String, stage: String, stageTime: Double, load: Int, unit: String)\n",
    "case class Record(runID: Long, date: String, method: String, cores: Int, epsilon: Double, mu: Int, delta: Int, methodTime: Double, n: Long, timestamp: String, stage: String, stageTime: Double, load: Int, unit: String)\n"
   ]
  },
  {
   "cell_type": "code",
   "execution_count": 6,
   "metadata": {},
   "outputs": [
    {
     "data": {
      "text/plain": [
       "\u001b[36mlines\u001b[39m: \u001b[32mDataset\u001b[39m[\u001b[32mLine\u001b[39m] = [line: string, n: bigint]\n",
       "\u001b[36mnLines\u001b[39m: \u001b[32mLong\u001b[39m = \u001b[32m23595L\u001b[39m"
      ]
     },
     "execution_count": 6,
     "metadata": {},
     "output_type": "execute_result"
    }
   ],
   "source": [
    "val lines = nohup.toDF(\"line\").withColumn(\"n\", monotonicallyIncreasingId).as[Line].cache()\n",
    "val nLines = lines.count()"
   ]
  },
  {
   "cell_type": "code",
   "execution_count": 7,
   "metadata": {},
   "outputs": [
    {
     "name": "stderr",
     "output_type": "stream",
     "text": [
      "                                                                                \r"
     ]
    },
    {
     "data": {
      "text/plain": [
       "\u001b[36mindices\u001b[39m: \u001b[32mList\u001b[39m[((\u001b[32mLong\u001b[39m, \u001b[32mLong\u001b[39m), \u001b[32mInt\u001b[39m)] = \u001b[33mList\u001b[39m(\n",
       "  ((\u001b[32m28L\u001b[39m, \u001b[32m661L\u001b[39m), \u001b[32m0\u001b[39m),\n",
       "  ((\u001b[32m662L\u001b[39m, \u001b[32m908L\u001b[39m), \u001b[32m1\u001b[39m),\n",
       "  ((\u001b[32m909L\u001b[39m, \u001b[32m1542L\u001b[39m), \u001b[32m2\u001b[39m),\n",
       "  ((\u001b[32m1543L\u001b[39m, \u001b[32m1789L\u001b[39m), \u001b[32m3\u001b[39m),\n",
       "  ((\u001b[32m1790L\u001b[39m, \u001b[32m2423L\u001b[39m), \u001b[32m4\u001b[39m),\n",
       "  ((\u001b[32m2424L\u001b[39m, \u001b[32m2670L\u001b[39m), \u001b[32m5\u001b[39m),\n",
       "  ((\u001b[32m2710L\u001b[39m, \u001b[32m3343L\u001b[39m), \u001b[32m6\u001b[39m),\n",
       "  ((\u001b[32m3344L\u001b[39m, \u001b[32m3590L\u001b[39m), \u001b[32m7\u001b[39m),\n",
       "  ((\u001b[32m3591L\u001b[39m, \u001b[32m4224L\u001b[39m), \u001b[32m8\u001b[39m),\n",
       "  ((\u001b[32m4225L\u001b[39m, \u001b[32m4471L\u001b[39m), \u001b[32m9\u001b[39m),\n",
       "  ((\u001b[32m4472L\u001b[39m, \u001b[32m5105L\u001b[39m), \u001b[32m10\u001b[39m),\n",
       "\u001b[33m...\u001b[39m\n",
       "\u001b[36mindex\u001b[39m: \u001b[32mDataset\u001b[39m[\u001b[32mRow\u001b[39m] = [runID: int, n: bigint]"
      ]
     },
     "execution_count": 7,
     "metadata": {},
     "output_type": "execute_result"
    }
   ],
   "source": [
    "val indices = lines.filter{ l => \n",
    "        l.line.contains(\"=== MergeLast Start ===\") || l.line.contains(\"method=MergeLast,\") ||\n",
    "        l.line.contains(\"=== SpatialJoin Start ===\") || l.line.contains(\"method=SpatialJoin,\")\n",
    "    }\n",
    "    .orderBy(\"n\")\n",
    "    .select(\"n\")\n",
    "    .collect()\n",
    "    .toList\n",
    "    .map(_.getLong(0))\n",
    "    .grouped(2)\n",
    "    .toList\n",
    "    .map(pair => (pair.head, pair.last))\n",
    "    .filter(r => r._1 != r._2)\n",
    "    .zipWithIndex\n",
    "val index = spark.createDataset(indices)\n",
    "    .flatMap{ pair => \n",
    "        (pair._1._1 to pair._1._2)\n",
    "        .toList.map(v => (pair._2, v))\n",
    "    }\n",
    "    .toDF(\"runID\",\"n\")\n",
    "    .cache"
   ]
  },
  {
   "cell_type": "code",
   "execution_count": 8,
   "metadata": {},
   "outputs": [
    {
     "data": {
      "text/plain": [
       "\u001b[36mruns\u001b[39m: \u001b[32mDataset\u001b[39m[\u001b[32mRow\u001b[39m] = [n: bigint, runID: int ... 1 more field]"
      ]
     },
     "execution_count": 8,
     "metadata": {},
     "output_type": "execute_result"
    }
   ],
   "source": [
    "val runs = index.join(lines, \"n\").cache"
   ]
  },
  {
   "cell_type": "code",
   "execution_count": 9,
   "metadata": {},
   "outputs": [
    {
     "name": "stderr",
     "output_type": "stream",
     "text": [
      "                                                                                \r"
     ]
    },
    {
     "name": "stdout",
     "output_type": "stream",
     "text": [
      "+-----+-----------------------+-----------+-----+-------+---+-----+----------+\n",
      "|runID|date                   |method     |cores|epsilon|mu |delta|methodTime|\n",
      "+-----+-----------------------+-----------+-----+-------+---+-----+----------+\n",
      "|0    |2018-05-14 18:52:24,917|MergeLast  |28   |30.0   |3  |5    |3511.535  |\n",
      "|1    |2018-05-14 19:08:39,550|SpatialJoin|28   |30.0   |3  |5    |974.633   |\n",
      "|2    |2018-05-14 20:06:39,522|MergeLast  |28   |30.0   |4  |5    |3479.972  |\n",
      "|3    |2018-05-14 20:25:08,105|SpatialJoin|28   |30.0   |4  |5    |1108.583  |\n",
      "|4    |2018-05-14 21:37:24,290|MergeLast  |28   |30.0   |5  |5    |4336.184  |\n",
      "|5    |2018-05-14 22:20:42,740|SpatialJoin|28   |30.0   |5  |5    |2598.404  |\n",
      "|6    |2018-05-12 17:58:53,773|MergeLast  |28   |30.0   |3  |5    |3744.331  |\n",
      "|7    |2018-05-12 18:15:41,920|SpatialJoin|28   |30.0   |3  |5    |1008.146  |\n",
      "|8    |2018-05-12 19:17:48,814|MergeLast  |28   |30.0   |4  |5    |3726.893  |\n",
      "|9    |2018-05-12 19:35:58,603|SpatialJoin|28   |30.0   |4  |5    |1089.789  |\n",
      "+-----+-----------------------+-----------+-----+-------+---+-----+----------+\n",
      "only showing top 10 rows\n",
      "\n"
     ]
    },
    {
     "data": {
      "text/plain": [
       "\u001b[36mparams\u001b[39m: \u001b[32mDataset\u001b[39m[\u001b[32mParam\u001b[39m] = [runID: bigint, date: string ... 6 more fields]"
      ]
     },
     "execution_count": 9,
     "metadata": {},
     "output_type": "execute_result"
    }
   ],
   "source": [
    "val params = runs.groupBy(\"runID\")\n",
    "    .agg(max($\"n\").alias(\"n\"))\n",
    "    .join(lines, \"n\")\n",
    "    .select(\"runID\", \"line\")\n",
    "    .orderBy(\"runID\")\n",
    "    .map{ row =>\n",
    "        val runID = row.getInt(0)\n",
    "        val line  = row.getString(1)\n",
    "        var arr1  = line.split(\" -> \")\n",
    "        val date  = arr1(0)\n",
    "        val arr2  = arr1(1).split(\",\")\n",
    "        val method  = arr2(0).split(\"=\")(1)\n",
    "        val cores   = arr2(1).split(\"=\")(1).toInt\n",
    "        val epsilon = arr2(2).split(\"=\")(1).toDouble\n",
    "        val mu      = arr2(3).split(\"=\")(1).toInt\n",
    "        val delta   = arr2(4).split(\"=\")(1).toInt\n",
    "        val time    = arr2(5).split(\"=\")(1).toDouble\n",
    "        Param(runID, date, method, cores, epsilon, mu, delta, time)\n",
    "    }\n",
    "    .cache\n",
    "params.show(10, truncate = false)"
   ]
  },
  {
   "cell_type": "code",
   "execution_count": 10,
   "metadata": {},
   "outputs": [
    {
     "name": "stdout",
     "output_type": "stream",
     "text": [
      "+-----+---+-----------------------+------------------------------+---------+----+------------+\n",
      "|runID|n  |timestamp              |stage                         |stageTime|load|unit        |\n",
      "+-----+---+-----------------------+------------------------------+---------+----+------------+\n",
      "|0    |59 |2018-05-14 17:59:40,065|1.Getting disks               |346.49   |1537|disks       |\n",
      "|0    |60 |2018-05-14 17:59:59,741|2.Joining timestams           |19.68    |916 |candidates  |\n",
      "|0    |79 |2018-05-14 18:00:43,354|3.Distance Join phase...      |10.96    |4189|combinations|\n",
      "|0    |80 |2018-05-14 18:00:57,985|4.Getting candidates...       |14.63    |661 |candidates  |\n",
      "|0    |100|2018-05-14 18:01:40,221|3.Distance Join phase...      |10.1     |1953|combinations|\n",
      "|0    |101|2018-05-14 18:01:52,285|4.Getting candidates...       |12.06    |661 |candidates  |\n",
      "|0    |121|2018-05-14 18:02:53,315|3.Distance Join phase...      |13.44    |1933|combinations|\n",
      "|0    |122|2018-05-14 18:03:06,276|4.Getting candidates...       |12.96    |661 |candidates  |\n",
      "|0    |124|2018-05-14 18:03:08,345|5.Checking internal timestamps|15.03    |661 |flocks      |\n",
      "|0    |155|2018-05-14 18:08:30,015|1.Getting disks               |320.5    |1552|disks       |\n",
      "+-----+---+-----------------------+------------------------------+---------+----+------------+\n",
      "only showing top 10 rows\n",
      "\n"
     ]
    },
    {
     "data": {
      "text/plain": [
       "\u001b[36mstats\u001b[39m: \u001b[32mDataset\u001b[39m[\u001b[32mStat\u001b[39m] = [runID: bigint, n: bigint ... 5 more fields]\n",
       "\u001b[36mres9_1\u001b[39m: \u001b[32mLong\u001b[39m = \u001b[32m3732L\u001b[39m"
      ]
     },
     "execution_count": 10,
     "metadata": {},
     "output_type": "execute_result"
    }
   ],
   "source": [
    "val stats = runs.filter(_.getString(2).contains(\"|\"))\n",
    "    .map{ row =>\n",
    "        val n     = row.getLong(0)\n",
    "        val runID = row.getInt(1)\n",
    "        val line  = row.getString(2)\n",
    "        var arr1  = line.split(\" -> \")\n",
    "        val timestamp  = arr1(0).trim\n",
    "        val arr2  = arr1(1).split(\"\\\\|\")\n",
    "        val stage = arr2(0).trim\n",
    "        val time  = arr2(1).trim.dropRight(1).toDouble\n",
    "        val arr3  = arr2(2).trim.split(\" \")\n",
    "        val load  = arr3(0).toInt\n",
    "        val unit  = arr3(1)\n",
    "        Stat(runID, n, timestamp, stage, time, load, unit)\n",
    "    }.cache\n",
    "stats.count()\n",
    "stats.show(10, truncate=false)"
   ]
  },
  {
   "cell_type": "code",
   "execution_count": 11,
   "metadata": {},
   "outputs": [
    {
     "name": "stderr",
     "output_type": "stream",
     "text": [
      "                                                                                \r"
     ]
    },
    {
     "name": "stdout",
     "output_type": "stream",
     "text": [
      "+-----+--------------------+---------+-----+-------+---+-----+----------+----------+--------------------+--------------------+---------+----+------------+\n",
      "|runID|                date|   method|cores|epsilon| mu|delta|methodTime|         n|           timestamp|               stage|stageTime|load|        unit|\n",
      "+-----+--------------------+---------+-----+-------+---+-----+----------+----------+--------------------+--------------------+---------+----+------------+\n",
      "|   18|2018-05-13 21:07:...|MergeLast|   28|   10.0|  4|    5|  2623.391|8589935250|2018-05-13 21:07:...|Running MergeLast...|  2623.39|  62|      flocks|\n",
      "|   18|2018-05-13 21:07:...|MergeLast|   28|   10.0|  4|    5|  2623.391|8589935245|2018-05-13 21:07:...|5.Checking intern...|     3.47|   7|      flocks|\n",
      "|   18|2018-05-13 21:07:...|MergeLast|   28|   10.0|  4|    5|  2623.391|8589935243|2018-05-13 21:07:...|4.Getting candida...|     2.95|   7|  candidates|\n",
      "|   18|2018-05-13 21:07:...|MergeLast|   28|   10.0|  4|    5|  2623.391|8589935242|2018-05-13 21:07:...|3.Distance Join p...|     4.37|  11|combinations|\n",
      "|   18|2018-05-13 21:07:...|MergeLast|   28|   10.0|  4|    5|  2623.391|8589935222|2018-05-13 21:07:...|4.Getting candida...|     2.35|   7|  candidates|\n",
      "|   18|2018-05-13 21:07:...|MergeLast|   28|   10.0|  4|    5|  2623.391|8589935221|2018-05-13 21:07:...|3.Distance Join p...|     4.37|  11|combinations|\n",
      "|   18|2018-05-13 21:07:...|MergeLast|   28|   10.0|  4|    5|  2623.391|8589935201|2018-05-13 21:07:...|4.Getting candida...|     2.32|   7|  candidates|\n",
      "|   18|2018-05-13 21:07:...|MergeLast|   28|   10.0|  4|    5|  2623.391|8589935200|2018-05-13 21:07:...|3.Distance Join p...|     4.01|  11|combinations|\n",
      "|   18|2018-05-13 21:07:...|MergeLast|   28|   10.0|  4|    5|  2623.391|8589935181|2018-05-13 21:06:...| 2.Joining timestams|     4.25|   7|  candidates|\n",
      "|   18|2018-05-13 21:07:...|MergeLast|   28|   10.0|  4|    5|  2623.391|8589935180|2018-05-13 21:06:...|     1.Getting disks|    246.5|  28|       disks|\n",
      "+-----+--------------------+---------+-----+-------+---+-----+----------+----------+--------------------+--------------------+---------+----+------------+\n",
      "only showing top 10 rows\n",
      "\n"
     ]
    },
    {
     "data": {
      "text/plain": [
       "\u001b[36mdata\u001b[39m: \u001b[32mDataset\u001b[39m[\u001b[32mRow\u001b[39m] = [runID: bigint, date: string ... 12 more fields]\n",
       "\u001b[36mres10_1\u001b[39m: \u001b[32mLong\u001b[39m = \u001b[32m3732L\u001b[39m"
      ]
     },
     "execution_count": 11,
     "metadata": {},
     "output_type": "execute_result"
    }
   ],
   "source": [
    "val data = params.join(stats, \"runID\").orderBy(\"epsilon\", \"method\").cache\n",
    "data.count()\n",
    "data.show(10)"
   ]
  },
  {
   "cell_type": "code",
   "execution_count": 12,
   "metadata": {},
   "outputs": [
    {
     "data": {
      "text/plain": [
       "\u001b[36md\u001b[39m: \u001b[32mString\u001b[39m = \u001b[32m\"\"\"\n",
       "0;2018-05-14 18:52:24,917;MergeLast;28;30.0;3;5;3511.535;59;2018-05-14 17:59:40,065;1.Getting disks;346.49;1537;disks\n",
       "0;2018-05-14 18:52:24,917;MergeLast;28;30.0;3;5;3511.535;60;2018-05-14 17:59:59,741;2.Joining timestams;19.68;916;candidates\n",
       "0;2018-05-14 18:52:24,917;MergeLast;28;30.0;3;5;3511.535;79;2018-05-14 18:00:43,354;3.Distance Join phase...;10.96;4189;combinations\n",
       "0;2018-05-14 18:52:24,917;MergeLast;28;30.0;3;5;3511.535;80;2018-05-14 18:00:57,985;4.Getting candidates...;14.63;661;candidates\n",
       "0;2018-05-14 18:52:24,917;MergeLast;28;30.0;3;5;3511.535;100;2018-05-14 18:01:40,221;3.Distance Join phase...;10.1;1953;combinations\n",
       "0;2018-05-14 18:52:24,917;MergeLast;28;30.0;3;5;3511.535;101;2018-05-14 18:01:52\u001b[33m...\u001b[39m\n",
       "\u001b[32mimport \u001b[39m\u001b[36mjava.io._\n",
       "\u001b[39m\n",
       "\u001b[36mpw\u001b[39m: \u001b[32mjava\u001b[39m.\u001b[32mio\u001b[39m.\u001b[32mPrintWriter\u001b[39m = java.io.PrintWriter@71415fb2"
      ]
     },
     "execution_count": 12,
     "metadata": {},
     "output_type": "execute_result"
    }
   ],
   "source": [
    "val d = data.collect.sortBy(_.getLong(8)).map(_.mkString(\";\")).mkString(\"\\n\")\n",
    "\n",
    "import java.io._\n",
    "val pw = new PrintWriter(new File(s\"${folder}output.csv\" ))\n",
    "pw.write(s\"$d\\n\")\n",
    "pw.close"
   ]
  },
  {
   "cell_type": "code",
   "execution_count": 13,
   "metadata": {},
   "outputs": [
    {
     "name": "stderr",
     "output_type": "stream",
     "text": [
      "                                                                                \r"
     ]
    },
    {
     "data": {
      "text/plain": [
       "\u001b[36mmdfIndices\u001b[39m: \u001b[32mList\u001b[39m[((\u001b[32mLong\u001b[39m, \u001b[32mLong\u001b[39m), \u001b[32mInt\u001b[39m)] = \u001b[33mList\u001b[39m(\n",
       "  ((\u001b[32m663L\u001b[39m, \u001b[32m678L\u001b[39m), \u001b[32m0\u001b[39m),\n",
       "  ((\u001b[32m683L\u001b[39m, \u001b[32m698L\u001b[39m), \u001b[32m1\u001b[39m),\n",
       "  ((\u001b[32m705L\u001b[39m, \u001b[32m720L\u001b[39m), \u001b[32m2\u001b[39m),\n",
       "  ((\u001b[32m727L\u001b[39m, \u001b[32m742L\u001b[39m), \u001b[32m3\u001b[39m),\n",
       "  ((\u001b[32m749L\u001b[39m, \u001b[32m764L\u001b[39m), \u001b[32m4\u001b[39m),\n",
       "  ((\u001b[32m771L\u001b[39m, \u001b[32m786L\u001b[39m), \u001b[32m5\u001b[39m),\n",
       "  ((\u001b[32m793L\u001b[39m, \u001b[32m808L\u001b[39m), \u001b[32m6\u001b[39m),\n",
       "  ((\u001b[32m815L\u001b[39m, \u001b[32m830L\u001b[39m), \u001b[32m7\u001b[39m),\n",
       "  ((\u001b[32m837L\u001b[39m, \u001b[32m852L\u001b[39m), \u001b[32m8\u001b[39m),\n",
       "  ((\u001b[32m859L\u001b[39m, \u001b[32m874L\u001b[39m), \u001b[32m9\u001b[39m),\n",
       "  ((\u001b[32m881L\u001b[39m, \u001b[32m896L\u001b[39m), \u001b[32m10\u001b[39m),\n",
       "\u001b[33m...\u001b[39m\n",
       "\u001b[36mmdfIndex\u001b[39m: \u001b[32mDataset\u001b[39m[(\u001b[32mInt\u001b[39m, \u001b[32mLong\u001b[39m)] = [_1: int, _2: bigint]\n",
       "\u001b[36mres12_2\u001b[39m: \u001b[32mLong\u001b[39m = \u001b[32m4752L\u001b[39m"
      ]
     },
     "execution_count": 13,
     "metadata": {},
     "output_type": "execute_result"
    }
   ],
   "source": [
    "val mdfIndices = runs.toDF(\"n\", \"runID\", \"line\").join(params, \"runID\")\n",
    "    .filter(_.getString(4) == \"SpatialJoin\")\n",
    "    .filter(f => f.getString(2).contains(\"Reporting locations\") || f.getString(2).contains(\"Dropping indices\"))\n",
    "    .map(_.getLong(1))\n",
    "    .orderBy(\"value\")\n",
    "    .collect()\n",
    "    .toList\n",
    "    .grouped(2)\n",
    "    .toList\n",
    "    .map(pair => (pair.head, pair.last))\n",
    "    .filter(r => r._1 != r._2)\n",
    "    .zipWithIndex\n",
    "val mdfIndex = spark.createDataset(mdfIndices)\n",
    "    .flatMap{ pair => \n",
    "        (pair._1._1 to pair._1._2)\n",
    "        .toList.map(v => (pair._2, v))\n",
    "    }\n",
    "    .cache\n",
    "mdfIndex.count\n"
   ]
  },
  {
   "cell_type": "code",
   "execution_count": 28,
   "metadata": {},
   "outputs": [
    {
     "name": "stdout",
     "output_type": "stream",
     "text": [
      "+----+---+----+---+----+----+---+-----+\n",
      "|  _1| _2|  _3| _4|  _5|  _6| _7|   _8|\n",
      "+----+---+----+---+----+----+---+-----+\n",
      "| 677|  0|30.0|  3|5511|1700|749|24.31|\n",
      "| 697|  1|30.0|  3|5629|1778|767|25.87|\n",
      "| 719|  2|30.0|  3|5701|1807|774|24.28|\n",
      "| 741|  3|30.0|  3|5768|1848|785|38.91|\n",
      "| 763|  4|30.0|  3|5775|1867|788|42.26|\n",
      "| 785|  5|30.0|  3|5765|1858|785|38.13|\n",
      "| 807|  6|30.0|  3|5758|1861|776|36.36|\n",
      "| 829|  7|30.0|  3|5788|1872|782|38.49|\n",
      "| 851|  8|30.0|  3|5791|1848|785|27.52|\n",
      "| 873|  9|30.0|  3|5802|1856|789|36.12|\n",
      "| 895| 10|30.0|  3|5797|1845|776|36.76|\n",
      "|1558| 11|30.0|  4|5511| 599|205| 31.5|\n",
      "|1578| 12|30.0|  4|5629| 640|216| 34.7|\n",
      "|1600| 13|30.0|  4|5701| 658|227|28.27|\n",
      "|1622| 14|30.0|  4|5768| 675|225|41.92|\n",
      "|1644| 15|30.0|  4|5775| 694|238|39.86|\n",
      "|1666| 16|30.0|  4|5765| 686|234|40.43|\n",
      "|1688| 17|30.0|  4|5758| 681|222|41.33|\n",
      "|1710| 18|30.0|  4|5788| 688|231|42.47|\n",
      "|1732| 19|30.0|  4|5791| 670|219|37.26|\n",
      "+----+---+----+---+----+----+---+-----+\n",
      "only showing top 20 rows\n",
      "\n"
     ]
    },
    {
     "data": {
      "text/plain": [
       "\u001b[36mmdf_sj\u001b[39m: \u001b[32mDataset\u001b[39m[\u001b[32mRow\u001b[39m] = [runID: int, mdfID: int ... 2 more fields]\n",
       "\u001b[36mtimestamp_points\u001b[39m: \u001b[32mDataset\u001b[39m[(\u001b[32mInt\u001b[39m, \u001b[32mString\u001b[39m)] = [_1: int, _2: string]\n",
       "\u001b[36mdisks_info\u001b[39m: \u001b[32mDataset\u001b[39m[(\u001b[32mLong\u001b[39m, \u001b[32mInt\u001b[39m, \u001b[32mDouble\u001b[39m, \u001b[32mInt\u001b[39m, \u001b[32mLong\u001b[39m, \u001b[32mInt\u001b[39m, \u001b[32mInt\u001b[39m, \u001b[32mDouble\u001b[39m)] = [_1: bigint, _2: int ... 6 more fields]"
      ]
     },
     "execution_count": 28,
     "metadata": {},
     "output_type": "execute_result"
    }
   ],
   "source": [
    "val mdf_sj = mdfIndex.toDF(\"mdfID\", \"n\").join(runs, \"n\")\n",
    "    .map{m => \n",
    "        val n = m.getLong(0)\n",
    "        val mdfID = m.getInt(1)\n",
    "        val runID = m.getInt(2)\n",
    "        val line = m.getString(3).split(\" -> \")(1)\n",
    "        (runID, mdfID, n, line)\n",
    "    }\n",
    "    .toDF(\"runID\", \"mdfID\", \"n\", \"line\")\n",
    "    .cache\n",
    "val timestamp_points = mdf_sj.filter(_.getString(3).contains(\"Reporting\"))\n",
    "    .map{ m => \n",
    "        (m.getInt(1), m.getString(3).split(\"\\\\|\")(2).trim.split(\" \")(0))\n",
    "    }.cache\n",
    "val disks_info = mdf_sj.filter(_.getString(3).contains(\"berlin0-10,\"))\n",
    "    .map{ m => \n",
    "        val arr        = m.getString(3).split(\",\")\n",
    "        val epsilon    = arr(1).trim.toDouble\n",
    "        val mu         = arr(3).trim.toInt\n",
    "        val time       = arr(4).trim.toDouble\n",
    "        val pairs      = arr(5).trim.toLong\n",
    "        val candidates = arr(7).trim.toInt\n",
    "        val maximals   = arr(8).trim.toInt\n",
    "        (m.getLong(2), m.getInt(1), epsilon, mu, pairs, candidates, maximals, time)\n",
    "    }.cache\n",
    "disks_info.show"
   ]
  },
  {
   "cell_type": "code",
   "execution_count": 30,
   "metadata": {},
   "outputs": [
    {
     "name": "stdout",
     "output_type": "stream",
     "text": [
      "+-----+------+-----+--------+-------+\n",
      "|mdfID|points|pairs|maximals|mdfTime|\n",
      "+-----+------+-----+--------+-------+\n",
      "|    0| 18093| 5511|     749|  24.31|\n",
      "|    1| 18245| 5629|     767|  25.87|\n",
      "|    2| 18394| 5701|     774|  24.28|\n",
      "|    3| 18548| 5768|     785|  38.91|\n",
      "|    4| 18548| 5775|     788|  42.26|\n",
      "|    5| 18548| 5765|     785|  38.13|\n",
      "|    6| 18546| 5758|     776|  36.36|\n",
      "|    7| 18546| 5788|     782|  38.49|\n",
      "|    8| 18546| 5791|     785|  27.52|\n",
      "|    9| 18546| 5802|     789|  36.12|\n",
      "|   10| 18546| 5797|     776|  36.76|\n",
      "|   11| 18093| 5511|     205|   31.5|\n",
      "|   12| 18245| 5629|     216|   34.7|\n",
      "|   13| 18394| 5701|     227|  28.27|\n",
      "|   14| 18548| 5768|     225|  41.92|\n",
      "|   15| 18548| 5775|     238|  39.86|\n",
      "|   16| 18548| 5765|     234|  40.43|\n",
      "|   17| 18546| 5758|     222|  41.33|\n",
      "|   18| 18546| 5788|     231|  42.47|\n",
      "|   19| 18546| 5791|     219|  37.26|\n",
      "+-----+------+-----+--------+-------+\n",
      "only showing top 20 rows\n",
      "\n"
     ]
    },
    {
     "data": {
      "text/plain": [
       "\u001b[36mp\u001b[39m: \u001b[32mDataset\u001b[39m[\u001b[32mRow\u001b[39m] = [mdfID: int, n: bigint ... 7 more fields]\n",
       "\u001b[36msj_disk_info\u001b[39m: \u001b[32mDataFrame\u001b[39m = [mdfID: int, points: string ... 3 more fields]"
      ]
     },
     "execution_count": 30,
     "metadata": {},
     "output_type": "execute_result"
    }
   ],
   "source": [
    "\n",
    "val p = disks_info.toDF(\"n\",\"mdfID\",\"a\",\"b\",\"c\",\"d\",\"e\",\"t\").join(timestamp_points.toDF(\"mdfID\", \"p\"), \"mdfID\").cache\n",
    "val sj_disk_info = p.select(\"mdfID\", \"p\", \"c\", \"e\", \"t\")\n",
    "    .toDF(\"mdfID\", \"points\", \"pairs\", \"maximals\", \"mdfTime\")\n",
    "sj_disk_info.show\n"
   ]
  },
  {
   "cell_type": "code",
   "execution_count": 32,
   "metadata": {},
   "outputs": [
    {
     "name": "stdout",
     "output_type": "stream",
     "text": [
      "+-----+-----+---+------------------------------------+---------+-----+------+-----+--------+-------+\n",
      "|runID|mdfID|n  |Stage                               |stageTime|Load |Points|Pairs|Maximals|mdfTime|\n",
      "+-----+-----+---+------------------------------------+---------+-----+------+-----+--------+-------+\n",
      "|1    |0    |665|B.Indexing points...                |5.149    |0    |18093 |5511 |749     |24.31  |\n",
      "|1    |0    |666|C.Getting pairs...                  |5.688    |5511 |18093 |5511 |749     |24.31  |\n",
      "|1    |0    |667|D.Computing centers...              |1.455    |11022|18093 |5511 |749     |24.31  |\n",
      "|1    |0    |668|E.Indexing centers...               |1.019    |11022|18093 |5511 |749     |24.31  |\n",
      "|1    |0    |669|F.Getting disks...                  |5.524    |11022|18093 |5511 |749     |24.31  |\n",
      "|1    |0    |670|G.Filtering less-than-mu disks...   |0.242    |3372 |18093 |5511 |749     |24.31  |\n",
      "|1    |0    |671|H.Prunning duplicate candidates...  |3.191    |1700 |18093 |5511 |749     |24.31  |\n",
      "|1    |0    |672|I.Indexing candidates...            |3.573    |1700 |18093 |5511 |749     |24.31  |\n",
      "|1    |0    |673|J.Getting expansions...             |0.246    |2699 |18093 |5511 |749     |24.31  |\n",
      "|1    |0    |674|K.Finding maximal disks...          |0.153    |752  |18093 |5511 |749     |24.31  |\n",
      "|1    |0    |675|L.Prunning duplicates and subsets...|1.263    |749  |18093 |5511 |749     |24.31  |\n",
      "|1    |1    |685|B.Indexing points...                |5.510    |0    |18245 |5629 |767     |25.87  |\n",
      "|1    |1    |686|C.Getting pairs...                  |5.679    |5629 |18245 |5629 |767     |25.87  |\n",
      "|1    |1    |687|D.Computing centers...              |1.524    |11258|18245 |5629 |767     |25.87  |\n",
      "|1    |1    |688|E.Indexing centers...               |1.040    |11258|18245 |5629 |767     |25.87  |\n",
      "|1    |1    |689|F.Getting disks...                  |5.881    |11258|18245 |5629 |767     |25.87  |\n",
      "|1    |1    |690|G.Filtering less-than-mu disks...   |0.297    |3500 |18245 |5629 |767     |25.87  |\n",
      "|1    |1    |691|H.Prunning duplicate candidates...  |3.544    |1778 |18245 |5629 |767     |25.87  |\n",
      "|1    |1    |692|I.Indexing candidates...            |4.038    |1778 |18245 |5629 |767     |25.87  |\n",
      "|1    |1    |693|J.Getting expansions...             |0.308    |2890 |18245 |5629 |767     |25.87  |\n",
      "|1    |1    |694|K.Finding maximal disks...          |0.184    |770  |18245 |5629 |767     |25.87  |\n",
      "|1    |1    |695|L.Prunning duplicates and subsets...|1.405    |767  |18245 |5629 |767     |25.87  |\n",
      "|1    |2    |707|B.Indexing points...                |5.250    |0    |18394 |5701 |774     |24.28  |\n",
      "|1    |2    |708|C.Getting pairs...                  |5.807    |5701 |18394 |5701 |774     |24.28  |\n",
      "|1    |2    |709|D.Computing centers...              |1.605    |11402|18394 |5701 |774     |24.28  |\n",
      "|1    |2    |710|E.Indexing centers...               |1.077    |11402|18394 |5701 |774     |24.28  |\n",
      "|1    |2    |711|F.Getting disks...                  |5.321    |11402|18394 |5701 |774     |24.28  |\n",
      "|1    |2    |712|G.Filtering less-than-mu disks...   |0.287    |3535 |18394 |5701 |774     |24.28  |\n",
      "|1    |2    |713|H.Prunning duplicate candidates...  |2.628    |1807 |18394 |5701 |774     |24.28  |\n",
      "|1    |2    |714|I.Indexing candidates...            |3.123    |1807 |18394 |5701 |774     |24.28  |\n",
      "|1    |2    |715|J.Getting expansions...             |0.354    |2902 |18394 |5701 |774     |24.28  |\n",
      "|1    |2    |716|K.Finding maximal disks...          |0.162    |776  |18394 |5701 |774     |24.28  |\n",
      "|1    |2    |717|L.Prunning duplicates and subsets...|1.295    |774  |18394 |5701 |774     |24.28  |\n",
      "|1    |3    |729|B.Indexing points...                |7.259    |0    |18548 |5768 |785     |38.91  |\n",
      "|1    |3    |730|C.Getting pairs...                  |11.610   |5768 |18548 |5768 |785     |38.91  |\n",
      "|1    |3    |731|D.Computing centers...              |1.624    |11536|18548 |5768 |785     |38.91  |\n",
      "|1    |3    |732|E.Indexing centers...               |1.113    |11536|18548 |5768 |785     |38.91  |\n",
      "|1    |3    |733|F.Getting disks...                  |7.666    |11536|18548 |5768 |785     |38.91  |\n",
      "|1    |3    |734|G.Filtering less-than-mu disks...   |0.264    |3584 |18548 |5768 |785     |38.91  |\n",
      "|1    |3    |735|H.Prunning duplicate candidates...  |5.998    |1848 |18548 |5768 |785     |38.91  |\n",
      "|1    |3    |736|I.Indexing candidates...            |6.341    |1848 |18548 |5768 |785     |38.91  |\n",
      "|1    |3    |737|J.Getting expansions...             |0.275    |3000 |18548 |5768 |785     |38.91  |\n",
      "|1    |3    |738|K.Finding maximal disks...          |0.270    |787  |18548 |5768 |785     |38.91  |\n",
      "|1    |3    |739|L.Prunning duplicates and subsets...|2.489    |785  |18548 |5768 |785     |38.91  |\n",
      "|1    |4    |751|B.Indexing points...                |7.357    |0    |18548 |5775 |788     |42.26  |\n",
      "|1    |4    |752|C.Getting pairs...                  |11.183   |5775 |18548 |5775 |788     |42.26  |\n",
      "|1    |4    |753|D.Computing centers...              |1.853    |11550|18548 |5775 |788     |42.26  |\n",
      "|1    |4    |754|E.Indexing centers...               |1.015    |11550|18548 |5775 |788     |42.26  |\n",
      "|1    |4    |755|F.Getting disks...                  |8.036    |11550|18548 |5775 |788     |42.26  |\n",
      "|1    |4    |756|G.Filtering less-than-mu disks...   |0.274    |3606 |18548 |5775 |788     |42.26  |\n",
      "+-----+-----+---+------------------------------------+---------+-----+------+-----+--------+-------+\n",
      "only showing top 50 rows\n",
      "\n"
     ]
    },
    {
     "data": {
      "text/plain": [
       "\u001b[36msj_disks\u001b[39m: \u001b[32mDataset\u001b[39m[\u001b[32mRow\u001b[39m] = [runID: int, mdfID: int ... 8 more fields]\n",
       "\u001b[36mres31_2\u001b[39m: \u001b[32mLong\u001b[39m = \u001b[32m3267L\u001b[39m"
      ]
     },
     "execution_count": 32,
     "metadata": {},
     "output_type": "execute_result"
    }
   ],
   "source": [
    "val sj_disks = mdf_sj.join(sj_disk_info.distinct, \"mdfID\")\n",
    "    .filter($\"line\".rlike(\"[B-L]\\\\.\"))\n",
    "    .map{ m =>\n",
    "        val mdfID = m.getInt(0)\n",
    "        val runID = m.getInt(1)\n",
    "        val n     = m.getLong(2)\n",
    "        val arr   = m.getString(3).split(\"\\\\[\")\n",
    "        val stage = arr(0).trim\n",
    "        val sTime = arr(1).split(\"s\")(0)\n",
    "        val load  = arr(2).split(\" \")(0)\n",
    "        val points  = m.getString(4).toLong\n",
    "        val pairs   = m.getLong(5)\n",
    "        val maximals = m.getInt(6)\n",
    "        val mdfTime = m.getDouble(7)\n",
    "        (runID, mdfID, n, stage, sTime, load, points, pairs, maximals, mdfTime)\n",
    "    }\n",
    "    .toDF(\"runID\", \"mdfID\", \"n\", \"Stage\", \"stageTime\", \"Load\", \"Points\", \"Pairs\", \"Maximals\", \"mdfTime\")\n",
    "    .cache\n",
    "sj_disks.orderBy(\"n\").show(50, truncate = false)\n",
    "sj_disks.count"
   ]
  },
  {
   "cell_type": "code",
   "execution_count": 16,
   "metadata": {},
   "outputs": [
    {
     "data": {
      "text/plain": [
       "\u001b[36mmdfIndices_ml\u001b[39m: \u001b[32mList\u001b[39m[((\u001b[32mLong\u001b[39m, \u001b[32mLong\u001b[39m), \u001b[32mInt\u001b[39m)] = \u001b[33mList\u001b[39m(\n",
       "  ((\u001b[32m29L\u001b[39m, \u001b[32m43L\u001b[39m), \u001b[32m0\u001b[39m),\n",
       "  ((\u001b[32m44L\u001b[39m, \u001b[32m58L\u001b[39m), \u001b[32m1\u001b[39m),\n",
       "  ((\u001b[32m63L\u001b[39m, \u001b[32m77L\u001b[39m), \u001b[32m2\u001b[39m),\n",
       "  ((\u001b[32m84L\u001b[39m, \u001b[32m98L\u001b[39m), \u001b[32m3\u001b[39m),\n",
       "  ((\u001b[32m105L\u001b[39m, \u001b[32m119L\u001b[39m), \u001b[32m4\u001b[39m),\n",
       "  ((\u001b[32m125L\u001b[39m, \u001b[32m139L\u001b[39m), \u001b[32m5\u001b[39m),\n",
       "  ((\u001b[32m140L\u001b[39m, \u001b[32m154L\u001b[39m), \u001b[32m6\u001b[39m),\n",
       "  ((\u001b[32m159L\u001b[39m, \u001b[32m173L\u001b[39m), \u001b[32m7\u001b[39m),\n",
       "  ((\u001b[32m180L\u001b[39m, \u001b[32m194L\u001b[39m), \u001b[32m8\u001b[39m),\n",
       "  ((\u001b[32m201L\u001b[39m, \u001b[32m215L\u001b[39m), \u001b[32m9\u001b[39m),\n",
       "  ((\u001b[32m221L\u001b[39m, \u001b[32m235L\u001b[39m), \u001b[32m10\u001b[39m),\n",
       "\u001b[33m...\u001b[39m\n",
       "\u001b[36mmdfIndex_ml\u001b[39m: \u001b[32mDataset\u001b[39m[(\u001b[32mInt\u001b[39m, \u001b[32mLong\u001b[39m)] = [_1: int, _2: bigint]\n",
       "\u001b[36mres15_2\u001b[39m: \u001b[32mLong\u001b[39m = \u001b[32m12555L\u001b[39m"
      ]
     },
     "execution_count": 16,
     "metadata": {},
     "output_type": "execute_result"
    }
   ],
   "source": [
    "val mdfIndices_ml = runs.toDF(\"n\", \"runID\", \"line\").join(params, \"runID\")\n",
    "    .filter(_.getString(4) == \"MergeLast\")\n",
    "    .filter(f => f.getString(2).contains(\"-> A.Setting \") || f.getString(2).contains(\"Dropping indices\"))\n",
    "    .map(_.getLong(1))\n",
    "    .orderBy(\"value\")\n",
    "    .collect()\n",
    "    .toList\n",
    "    .grouped(2)\n",
    "    .toList\n",
    "    .map(pair => (pair.head, pair.last))\n",
    "    .filter(r => r._1 != r._2)\n",
    "    .zipWithIndex\n",
    "val mdfIndex_ml = spark.createDataset(mdfIndices_ml)\n",
    "    .flatMap{ pair => \n",
    "        (pair._1._1 to pair._1._2)\n",
    "        .toList.map(v => (pair._2, v))\n",
    "    }\n",
    "    .cache\n",
    "mdfIndex_ml.count"
   ]
  },
  {
   "cell_type": "code",
   "execution_count": 17,
   "metadata": {},
   "outputs": [
    {
     "data": {
      "text/plain": [
       "\u001b[36mmdf_ml\u001b[39m: \u001b[32mDataset\u001b[39m[\u001b[32mRow\u001b[39m] = [runID: int, mdfID: int ... 2 more fields]\n",
       "\u001b[36mdisks_info_ml\u001b[39m: \u001b[32mDataset\u001b[39m[(\u001b[32mLong\u001b[39m, \u001b[32mInt\u001b[39m, \u001b[32mDouble\u001b[39m, \u001b[32mInt\u001b[39m, \u001b[32mLong\u001b[39m, \u001b[32mInt\u001b[39m, \u001b[32mInt\u001b[39m, \u001b[32mDouble\u001b[39m)] = [_1: bigint, _2: int ... 6 more fields]"
      ]
     },
     "execution_count": 17,
     "metadata": {},
     "output_type": "execute_result"
    }
   ],
   "source": [
    "val mdf_ml = mdfIndex_ml.toDF(\"mdfID\", \"n\").join(runs, \"n\")\n",
    "    .map{m => \n",
    "        val n = m.getLong(0)\n",
    "        val mdfID = m.getInt(1)\n",
    "        val runID = m.getInt(2)\n",
    "        val line = m.getString(3).split(\" -> \")(1)\n",
    "        (runID, mdfID, n, line)\n",
    "    }\n",
    "    .toDF(\"runID\", \"mdfID\", \"n\", \"line\")\n",
    "    .cache\n",
    "val disks_info_ml = mdf_ml.filter(_.getString(3).contains(\"berlin0-10,\"))\n",
    "    .map{ m => \n",
    "        val arr        = m.getString(3).split(\",\")\n",
    "        val epsilon    = arr(1).trim.toDouble\n",
    "        val mu         = arr(3).trim.toInt\n",
    "        val time       = arr(4).trim.toDouble\n",
    "        val pairs      = arr(5).trim.toLong\n",
    "        val candidates = arr(7).trim.toInt\n",
    "        val maximals   = arr(8).trim.toInt\n",
    "        (m.getLong(2), m.getInt(1), epsilon, mu, pairs, candidates, maximals, time)\n",
    "    }.cache"
   ]
  },
  {
   "cell_type": "code",
   "execution_count": 18,
   "metadata": {},
   "outputs": [
    {
     "name": "stderr",
     "output_type": "stream",
     "text": [
      "                                                                                \r"
     ]
    },
    {
     "data": {
      "text/plain": [
       "\u001b[36mml_disk_info\u001b[39m: \u001b[32mDataset\u001b[39m[\u001b[32mRow\u001b[39m] = [mdfID: int, points: string ... 3 more fields]\n",
       "\u001b[36mres17_1\u001b[39m: \u001b[32mLong\u001b[39m = \u001b[32m2826L\u001b[39m"
      ]
     },
     "execution_count": 18,
     "metadata": {},
     "output_type": "execute_result"
    }
   ],
   "source": [
    "val ml_disk_info = disks_info_ml.toDF(\"n\", \"mdfID1\", \"a\", \"b\", \"c\", \"d\", \"e\", \"t\")\n",
    "    .join(p.toDF(\"mdfID2\", \"a\", \"b\", \"c\", \"d\", \"e\", \"p\"), Seq(\"a\", \"b\", \"c\", \"d\", \"e\"))\n",
    "    .select(\"mdfID1\", \"p\", \"c\", \"e\", \"t\")\n",
    "    .toDF(\"mdfID\", \"points\", \"pairs\", \"maximals\", \"mdfTime\")\n",
    "    .cache\n",
    "ml_disk_info.count"
   ]
  },
  {
   "cell_type": "code",
   "execution_count": 33,
   "metadata": {},
   "outputs": [
    {
     "name": "stderr",
     "output_type": "stream",
     "text": [
      "                                                                                \r"
     ]
    },
    {
     "name": "stdout",
     "output_type": "stream",
     "text": [
      "+-----+-----+---+------------------------------------+---------+-----+------+-----+--------+-------+\n",
      "|runID|mdfID|n  |Stage                               |stageTime|Load |Points|Pairs|Maximals|mdfTime|\n",
      "+-----+-----+---+------------------------------------+---------+-----+------+-----+--------+-------+\n",
      "|0    |0    |30 |B.Indexing points...                |142.805  |0    |18093 |5511 |749     |169.09 |\n",
      "|0    |0    |31 |C.Getting pairs...                  |7.626    |5511 |18093 |5511 |749     |169.09 |\n",
      "|0    |0    |32 |D.Computing centers...              |2.233    |11022|18093 |5511 |749     |169.09 |\n",
      "|0    |0    |33 |E.Indexing centers...               |1.431    |11022|18093 |5511 |749     |169.09 |\n",
      "|0    |0    |34 |F.Getting disks...                  |5.911    |11022|18093 |5511 |749     |169.09 |\n",
      "|0    |0    |35 |G.Filtering less-than-mu disks...   |0.457    |3372 |18093 |5511 |749     |169.09 |\n",
      "|0    |0    |36 |H.Prunning duplicate candidates...  |4.931    |1700 |18093 |5511 |749     |169.09 |\n",
      "|0    |0    |37 |I.Indexing candidates...            |5.461    |1700 |18093 |5511 |749     |169.09 |\n",
      "|0    |0    |38 |J.Getting expansions...             |0.255    |2699 |18093 |5511 |749     |169.09 |\n",
      "|0    |0    |39 |K.Finding maximal disks...          |0.794    |752  |18093 |5511 |749     |169.09 |\n",
      "|0    |0    |40 |L.Prunning duplicates and subsets...|2.112    |749  |18093 |5511 |749     |169.09 |\n",
      "|0    |1    |45 |B.Indexing points...                |140.948  |0    |18548 |5775 |788     |170.75 |\n",
      "|0    |1    |46 |C.Getting pairs...                  |10.712   |5775 |18548 |5775 |788     |170.75 |\n",
      "|0    |1    |47 |D.Computing centers...              |1.582    |11550|18548 |5775 |788     |170.75 |\n",
      "|0    |1    |48 |E.Indexing centers...               |1.189    |11550|18548 |5775 |788     |170.75 |\n",
      "|0    |1    |49 |F.Getting disks...                  |7.268    |11550|18548 |5775 |788     |170.75 |\n",
      "|0    |1    |50 |G.Filtering less-than-mu disks...   |0.306    |3606 |18548 |5775 |788     |170.75 |\n",
      "|0    |1    |51 |H.Prunning duplicate candidates...  |5.605    |1867 |18548 |5775 |788     |170.75 |\n",
      "|0    |1    |52 |I.Indexing candidates...            |5.996    |1867 |18548 |5775 |788     |170.75 |\n",
      "|0    |1    |53 |J.Getting expansions...             |0.206    |3005 |18548 |5775 |788     |170.75 |\n",
      "|0    |1    |54 |K.Finding maximal disks...          |0.200    |795  |18548 |5775 |788     |170.75 |\n",
      "|0    |1    |55 |L.Prunning duplicates and subsets...|2.345    |788  |18548 |5775 |788     |170.75 |\n",
      "|0    |5    |126|B.Indexing points...                |115.021  |0    |18245 |5629 |767     |133.04 |\n",
      "|0    |5    |127|C.Getting pairs...                  |5.074    |5629 |18245 |5629 |767     |133.04 |\n",
      "|0    |5    |128|D.Computing centers...              |1.374    |11258|18245 |5629 |767     |133.04 |\n",
      "|0    |5    |129|E.Indexing centers...               |1.106    |11258|18245 |5629 |767     |133.04 |\n",
      "|0    |5    |130|F.Getting disks...                  |4.880    |11258|18245 |5629 |767     |133.04 |\n",
      "|0    |5    |131|G.Filtering less-than-mu disks...   |0.230    |3500 |18245 |5629 |767     |133.04 |\n",
      "|0    |5    |132|H.Prunning duplicate candidates...  |3.118    |1778 |18245 |5629 |767     |133.04 |\n",
      "|0    |5    |133|I.Indexing candidates...            |3.517    |1778 |18245 |5629 |767     |133.04 |\n",
      "|0    |5    |134|J.Getting expansions...             |0.198    |2890 |18245 |5629 |767     |133.04 |\n",
      "|0    |5    |135|K.Finding maximal disks...          |0.178    |770  |18245 |5629 |767     |133.04 |\n",
      "|0    |5    |136|L.Prunning duplicates and subsets...|1.461    |767  |18245 |5629 |767     |133.04 |\n",
      "|0    |6    |141|B.Indexing points...                |150.028  |0    |18548 |5765 |785     |178.22 |\n",
      "|0    |6    |142|C.Getting pairs...                  |10.367   |5765 |18548 |5765 |785     |178.22 |\n",
      "|0    |6    |143|D.Computing centers...              |1.386    |11530|18548 |5765 |785     |178.22 |\n",
      "|0    |6    |144|E.Indexing centers...               |1.065    |11530|18548 |5765 |785     |178.22 |\n",
      "|0    |6    |145|F.Getting disks...                  |7.214    |11530|18548 |5765 |785     |178.22 |\n",
      "|0    |6    |146|G.Filtering less-than-mu disks...   |0.292    |3620 |18548 |5765 |785     |178.22 |\n",
      "|0    |6    |147|H.Prunning duplicate candidates...  |5.039    |1858 |18548 |5765 |785     |178.22 |\n",
      "|0    |6    |148|I.Indexing candidates...            |5.532    |1858 |18548 |5765 |785     |178.22 |\n",
      "|0    |6    |149|J.Getting expansions...             |0.212    |2980 |18548 |5765 |785     |178.22 |\n",
      "|0    |6    |150|K.Finding maximal disks...          |0.175    |788  |18548 |5765 |785     |178.22 |\n",
      "|0    |6    |151|L.Prunning duplicates and subsets...|1.951    |785  |18548 |5765 |785     |178.22 |\n",
      "|0    |10   |222|B.Indexing points...                |123.255  |0    |18394 |5701 |774     |140.71 |\n",
      "|0    |10   |223|C.Getting pairs...                  |5.096    |5701 |18394 |5701 |774     |140.71 |\n",
      "|0    |10   |224|D.Computing centers...              |1.427    |11402|18394 |5701 |774     |140.71 |\n",
      "|0    |10   |225|E.Indexing centers...               |1.033    |11402|18394 |5701 |774     |140.71 |\n",
      "|0    |10   |226|F.Getting disks...                  |4.856    |11402|18394 |5701 |774     |140.71 |\n",
      "|0    |10   |227|G.Filtering less-than-mu disks...   |0.238    |3535 |18394 |5701 |774     |140.71 |\n",
      "+-----+-----+---+------------------------------------+---------+-----+------+-----+--------+-------+\n",
      "only showing top 50 rows\n",
      "\n"
     ]
    },
    {
     "data": {
      "text/plain": [
       "\u001b[36mml_disks\u001b[39m: \u001b[32mDataset\u001b[39m[\u001b[32mRow\u001b[39m] = [runID: int, mdfID: int ... 8 more fields]\n",
       "\u001b[36mres32_2\u001b[39m: \u001b[32mLong\u001b[39m = \u001b[32m3234L\u001b[39m"
      ]
     },
     "execution_count": 33,
     "metadata": {},
     "output_type": "execute_result"
    }
   ],
   "source": [
    "val ml_disks = mdf_ml.join(ml_disk_info.distinct, \"mdfID\")\n",
    "    .filter($\"line\".rlike(\"[B-L]\\\\.\"))\n",
    "    .map{ m =>\n",
    "        val mdfID = m.getInt(0)\n",
    "        val runID = m.getInt(1)\n",
    "        val n     = m.getLong(2)\n",
    "        val arr   = m.getString(3).split(\"\\\\[\")\n",
    "        val stage = arr(0).trim\n",
    "        val sTime = arr(1).split(\"s\")(0)\n",
    "        val load  = arr(2).split(\" \")(0)\n",
    "        val points  = m.getString(4).toLong\n",
    "        val pairs   = m.getLong(5)\n",
    "        val maximals = m.getInt(6)\n",
    "        val mdfTime = m.getDouble(7)\n",
    "        (runID, mdfID, n, stage, sTime, load, points, pairs, maximals, mdfTime)\n",
    "    }\n",
    "    .toDF(\"runID\", \"mdfID\", \"n\", \"Stage\", \"stageTime\", \"Load\", \"Points\", \"Pairs\", \"Maximals\", \"mdfTime\")\n",
    "    .cache\n",
    "ml_disks.orderBy(\"n\").show(50, truncate = false)\n",
    "ml_disks.count"
   ]
  },
  {
   "cell_type": "code",
   "execution_count": 46,
   "metadata": {
    "scrolled": true
   },
   "outputs": [
    {
     "data": {
      "text/plain": [
       "\u001b[36msj_mdf_info\u001b[39m: \u001b[32mDataset\u001b[39m[\u001b[32mRow\u001b[39m] = [runID: int, mdfID: int ... 12 more fields]\n",
       "\u001b[36mml_mdf_info\u001b[39m: \u001b[32mDataset\u001b[39m[\u001b[32mRow\u001b[39m] = [runID: int, mdfID: int ... 12 more fields]\n",
       "\u001b[36mmdf_info\u001b[39m: \u001b[32mDataset\u001b[39m[\u001b[32mRow\u001b[39m] = [runID: int, mdfID: int ... 12 more fields]"
      ]
     },
     "execution_count": 46,
     "metadata": {},
     "output_type": "execute_result"
    }
   ],
   "source": [
    "val sj_mdf_info = sj_disks.join(params, \"runID\")\n",
    "    .select(\"runID\",\"mdfID\",\"n\",\"method\",\"epsilon\",\"mu\",\"delta\",\"Stage\",\"stageTime\",\"Load\",\"Points\",\"Pairs\",\"Maximals\",\"mdfTime\")\n",
    "    .orderBy(\"n\")\n",
    "    .cache\n",
    "val ml_mdf_info = ml_disks.join(params, \"runID\")\n",
    "    .select(\"runID\",\"mdfID\",\"n\",\"method\",\"epsilon\",\"mu\",\"delta\",\"Stage\",\"stageTime\",\"Load\",\"Points\",\"Pairs\",\"Maximals\",\"mdfTime\")\n",
    "    .orderBy(\"n\")\n",
    "    .cache\n",
    "val mdf_info = sj_mdf_info.union(ml_mdf_info).orderBy(\"n\").cache"
   ]
  },
  {
   "cell_type": "code",
   "execution_count": 50,
   "metadata": {},
   "outputs": [
    {
     "name": "stdout",
     "output_type": "stream",
     "text": [
      "+-----+-----+---+-----------+-------+---+-----+--------------------+---------+-----+------+-----+--------+-------+\n",
      "|runID|mdfID|  n|     method|epsilon| mu|delta|               Stage|stageTime| Load|Points|Pairs|Maximals|mdfTime|\n",
      "+-----+-----+---+-----------+-------+---+-----+--------------------+---------+-----+------+-----+--------+-------+\n",
      "|    1|    0|665|SpatialJoin|   30.0|  3|    5|B.Indexing points...|    5.149|    0| 18093| 5511|     749|  24.31|\n",
      "|    1|    0|666|SpatialJoin|   30.0|  3|    5|  C.Getting pairs...|    5.688| 5511| 18093| 5511|     749|  24.31|\n",
      "|    1|    0|667|SpatialJoin|   30.0|  3|    5|D.Computing cente...|    1.455|11022| 18093| 5511|     749|  24.31|\n",
      "|    1|    0|668|SpatialJoin|   30.0|  3|    5|E.Indexing center...|    1.019|11022| 18093| 5511|     749|  24.31|\n",
      "|    1|    0|669|SpatialJoin|   30.0|  3|    5|  F.Getting disks...|    5.524|11022| 18093| 5511|     749|  24.31|\n",
      "|    1|    0|670|SpatialJoin|   30.0|  3|    5|G.Filtering less-...|    0.242| 3372| 18093| 5511|     749|  24.31|\n",
      "|    1|    0|671|SpatialJoin|   30.0|  3|    5|H.Prunning duplic...|    3.191| 1700| 18093| 5511|     749|  24.31|\n",
      "|    1|    0|672|SpatialJoin|   30.0|  3|    5|I.Indexing candid...|    3.573| 1700| 18093| 5511|     749|  24.31|\n",
      "|    1|    0|673|SpatialJoin|   30.0|  3|    5|J.Getting expansi...|    0.246| 2699| 18093| 5511|     749|  24.31|\n",
      "|    1|    0|674|SpatialJoin|   30.0|  3|    5|K.Finding maximal...|    0.153|  752| 18093| 5511|     749|  24.31|\n",
      "|    1|    0|675|SpatialJoin|   30.0|  3|    5|L.Prunning duplic...|    1.263|  749| 18093| 5511|     749|  24.31|\n",
      "|    1|    1|685|SpatialJoin|   30.0|  3|    5|B.Indexing points...|    5.510|    0| 18245| 5629|     767|  25.87|\n",
      "|    1|    1|686|SpatialJoin|   30.0|  3|    5|  C.Getting pairs...|    5.679| 5629| 18245| 5629|     767|  25.87|\n",
      "|    1|    1|687|SpatialJoin|   30.0|  3|    5|D.Computing cente...|    1.524|11258| 18245| 5629|     767|  25.87|\n",
      "|    1|    1|688|SpatialJoin|   30.0|  3|    5|E.Indexing center...|    1.040|11258| 18245| 5629|     767|  25.87|\n",
      "|    1|    1|689|SpatialJoin|   30.0|  3|    5|  F.Getting disks...|    5.881|11258| 18245| 5629|     767|  25.87|\n",
      "|    1|    1|690|SpatialJoin|   30.0|  3|    5|G.Filtering less-...|    0.297| 3500| 18245| 5629|     767|  25.87|\n",
      "|    1|    1|691|SpatialJoin|   30.0|  3|    5|H.Prunning duplic...|    3.544| 1778| 18245| 5629|     767|  25.87|\n",
      "|    1|    1|692|SpatialJoin|   30.0|  3|    5|I.Indexing candid...|    4.038| 1778| 18245| 5629|     767|  25.87|\n",
      "|    1|    1|693|SpatialJoin|   30.0|  3|    5|J.Getting expansi...|    0.308| 2890| 18245| 5629|     767|  25.87|\n",
      "+-----+-----+---+-----------+-------+---+-----+--------------------+---------+-----+------+-----+--------+-------+\n",
      "only showing top 20 rows\n",
      "\n"
     ]
    },
    {
     "name": "stderr",
     "output_type": "stream",
     "text": [
      "                                                                                \r"
     ]
    },
    {
     "data": {
      "text/plain": [
       "\u001b[36md\u001b[39m: \u001b[32mString\u001b[39m = \u001b[32m\"\"\"\n",
       "1;0;665;SpatialJoin;30.0;3;5;B.Indexing points...;5.149;0;18093;5511;749;24.31\n",
       "1;0;666;SpatialJoin;30.0;3;5;C.Getting pairs...;5.688;5511;18093;5511;749;24.31\n",
       "1;0;667;SpatialJoin;30.0;3;5;D.Computing centers...;1.455;11022;18093;5511;749;24.31\n",
       "1;0;668;SpatialJoin;30.0;3;5;E.Indexing centers...;1.019;11022;18093;5511;749;24.31\n",
       "1;0;669;SpatialJoin;30.0;3;5;F.Getting disks...;5.524;11022;18093;5511;749;24.31\n",
       "1;0;670;SpatialJoin;30.0;3;5;G.Filtering less-than-mu disks...;0.242;3372;18093;5511;749;24.31\n",
       "1;0;671;SpatialJoin;30.0;3;5;H.Prunning duplicate candidates...;3.191;1700;18093;5511;749;24.31\n",
       "\u001b[33m...\u001b[39m\n",
       "\u001b[32mimport \u001b[39m\u001b[36mjava.io._\n",
       "\u001b[39m\n",
       "\u001b[36mpw\u001b[39m: \u001b[32mPrintWriter\u001b[39m = java.io.PrintWriter@27bf7a10"
      ]
     },
     "execution_count": 50,
     "metadata": {},
     "output_type": "execute_result"
    }
   ],
   "source": [
    "mdf_info.show\n",
    "val d = mdf_info.collect.map(_.mkString(\";\")).mkString(\"\\n\")\n",
    "\n",
    "import java.io._\n",
    "val pw = new PrintWriter(new File(s\"${folder}mdf.csv\" ))\n",
    "pw.write(s\"$d\\n\")\n",
    "pw.close"
   ]
  },
  {
   "cell_type": "code",
   "execution_count": 55,
   "metadata": {},
   "outputs": [
    {
     "name": "stdout",
     "output_type": "stream",
     "text": [
      "+-----+-----+----------+-----------+-------+---+-----+--------------------+---------+----+------+-----+--------+-------+\n",
      "|runID|mdfID|         n|     method|epsilon| mu|delta|               Stage|stageTime|Load|Points|Pairs|Maximals|mdfTime|\n",
      "+-----+-----+----------+-----------+-------+---+-----+--------------------+---------+----+------+-----+--------+-------+\n",
      "|   19|   99|8589935255|SpatialJoin|   10.0|  4|    5|B.Indexing points...|    5.032|   0| 18093| 1241|      11|  21.77|\n",
      "|   19|   99|8589935256|SpatialJoin|   10.0|  4|    5|  C.Getting pairs...|    5.558|1241| 18093| 1241|      11|  21.77|\n",
      "|   19|   99|8589935257|SpatialJoin|   10.0|  4|    5|D.Computing cente...|    1.368|2482| 18093| 1241|      11|  21.77|\n",
      "|   19|   99|8589935258|SpatialJoin|   10.0|  4|    5|E.Indexing center...|    0.759|2482| 18093| 1241|      11|  21.77|\n",
      "|   19|   99|8589935259|SpatialJoin|   10.0|  4|    5|  F.Getting disks...|    4.288|2482| 18093| 1241|      11|  21.77|\n",
      "|   19|   99|8589935260|SpatialJoin|   10.0|  4|    5|G.Filtering less-...|    0.178|  36| 18093| 1241|      11|  21.77|\n",
      "|   19|   99|8589935261|SpatialJoin|   10.0|  4|    5|H.Prunning duplic...|    2.843|  17| 18093| 1241|      11|  21.77|\n",
      "|   19|   99|8589935262|SpatialJoin|   10.0|  4|    5|I.Indexing candid...|    3.247|  17| 18093| 1241|      11|  21.77|\n",
      "|   19|   99|8589935263|SpatialJoin|   10.0|  4|    5|J.Getting expansi...|    0.129|  56| 18093| 1241|      11|  21.77|\n",
      "|   19|   99|8589935264|SpatialJoin|   10.0|  4|    5|K.Finding maximal...|    0.117|  12| 18093| 1241|      11|  21.77|\n",
      "|   19|   99|8589935265|SpatialJoin|   10.0|  4|    5|L.Prunning duplic...|    1.094|  11| 18093| 1241|      11|  21.77|\n",
      "|   19|  100|8589935275|SpatialJoin|   10.0|  4|    5|B.Indexing points...|    5.266|   0| 18245| 1273|      13|  21.36|\n",
      "|   19|  100|8589935276|SpatialJoin|   10.0|  4|    5|  C.Getting pairs...|    5.371|1273| 18245| 1273|      13|  21.36|\n",
      "|   19|  100|8589935277|SpatialJoin|   10.0|  4|    5|D.Computing cente...|    1.337|2546| 18245| 1273|      13|  21.36|\n",
      "|   19|  100|8589935278|SpatialJoin|   10.0|  4|    5|E.Indexing center...|    0.823|2546| 18245| 1273|      13|  21.36|\n",
      "|   19|  100|8589935279|SpatialJoin|   10.0|  4|    5|  F.Getting disks...|    4.796|2546| 18245| 1273|      13|  21.36|\n",
      "|   19|  100|8589935280|SpatialJoin|   10.0|  4|    5|G.Filtering less-...|    0.198|  42| 18245| 1273|      13|  21.36|\n",
      "|   19|  100|8589935281|SpatialJoin|   10.0|  4|    5|H.Prunning duplic...|    1.875|  18| 18245| 1273|      13|  21.36|\n",
      "|   19|  100|8589935282|SpatialJoin|   10.0|  4|    5|I.Indexing candid...|    2.206|  18| 18245| 1273|      13|  21.36|\n",
      "|   19|  100|8589935283|SpatialJoin|   10.0|  4|    5|J.Getting expansi...|    0.173|  58| 18245| 1273|      13|  21.36|\n",
      "|   19|  100|8589935284|SpatialJoin|   10.0|  4|    5|K.Finding maximal...|    0.120|  14| 18245| 1273|      13|  21.36|\n",
      "|   19|  100|8589935285|SpatialJoin|   10.0|  4|    5|L.Prunning duplic...|    1.071|  13| 18245| 1273|      13|  21.36|\n",
      "|   19|  101|8589935297|SpatialJoin|   10.0|  4|    5|B.Indexing points...|    5.103|   0| 18394| 1306|      14|  21.77|\n",
      "|   19|  101|8589935298|SpatialJoin|   10.0|  4|    5|  C.Getting pairs...|    5.748|1306| 18394| 1306|      14|  21.77|\n",
      "|   19|  101|8589935299|SpatialJoin|   10.0|  4|    5|D.Computing cente...|    1.280|2612| 18394| 1306|      14|  21.77|\n",
      "|   19|  101|8589935300|SpatialJoin|   10.0|  4|    5|E.Indexing center...|    0.763|2612| 18394| 1306|      14|  21.77|\n",
      "|   19|  101|8589935301|SpatialJoin|   10.0|  4|    5|  F.Getting disks...|    4.708|2612| 18394| 1306|      14|  21.77|\n",
      "|   19|  101|8589935302|SpatialJoin|   10.0|  4|    5|G.Filtering less-...|    0.223|  40| 18394| 1306|      14|  21.77|\n",
      "|   19|  101|8589935303|SpatialJoin|   10.0|  4|    5|H.Prunning duplic...|    2.115|  16| 18394| 1306|      14|  21.77|\n",
      "|   19|  101|8589935304|SpatialJoin|   10.0|  4|    5|I.Indexing candid...|    2.447|  16| 18394| 1306|      14|  21.77|\n",
      "|   19|  101|8589935305|SpatialJoin|   10.0|  4|    5|J.Getting expansi...|    0.149|  41| 18394| 1306|      14|  21.77|\n",
      "|   19|  101|8589935306|SpatialJoin|   10.0|  4|    5|K.Finding maximal...|    0.116|  15| 18394| 1306|      14|  21.77|\n",
      "|   19|  101|8589935307|SpatialJoin|   10.0|  4|    5|L.Prunning duplic...|    1.232|  14| 18394| 1306|      14|  21.77|\n",
      "|   19|  102|8589935319|SpatialJoin|   10.0|  4|    5|B.Indexing points...|    7.349|   0| 18548| 1318|      16|  33.52|\n",
      "|   19|  102|8589935320|SpatialJoin|   10.0|  4|    5|  C.Getting pairs...|   10.758|1318| 18548| 1318|      16|  33.52|\n",
      "|   19|  102|8589935321|SpatialJoin|   10.0|  4|    5|D.Computing cente...|    1.213|2636| 18548| 1318|      16|  33.52|\n",
      "|   19|  102|8589935322|SpatialJoin|   10.0|  4|    5|E.Indexing center...|    0.792|2636| 18548| 1318|      16|  33.52|\n",
      "|   19|  102|8589935323|SpatialJoin|   10.0|  4|    5|  F.Getting disks...|    7.041|2636| 18548| 1318|      16|  33.52|\n",
      "|   19|  102|8589935324|SpatialJoin|   10.0|  4|    5|G.Filtering less-...|    0.196|  42| 18548| 1318|      16|  33.52|\n",
      "|   19|  102|8589935325|SpatialJoin|   10.0|  4|    5|H.Prunning duplic...|    3.886|  16| 18548| 1318|      16|  33.52|\n",
      "|   19|  102|8589935326|SpatialJoin|   10.0|  4|    5|I.Indexing candid...|    4.190|  16| 18548| 1318|      16|  33.52|\n",
      "|   19|  102|8589935327|SpatialJoin|   10.0|  4|    5|J.Getting expansi...|    0.131|  38| 18548| 1318|      16|  33.52|\n",
      "|   19|  102|8589935328|SpatialJoin|   10.0|  4|    5|K.Finding maximal...|    0.117|  16| 18548| 1318|      16|  33.52|\n",
      "|   19|  102|8589935329|SpatialJoin|   10.0|  4|    5|L.Prunning duplic...|    1.727|  16| 18548| 1318|      16|  33.52|\n",
      "|   19|  103|8589935341|SpatialJoin|   10.0|  4|    5|B.Indexing points...|    7.486|   0| 18548| 1312|      19|  34.19|\n",
      "|   19|  103|8589935342|SpatialJoin|   10.0|  4|    5|  C.Getting pairs...|   10.719|1312| 18548| 1312|      19|  34.19|\n",
      "|   19|  103|8589935343|SpatialJoin|   10.0|  4|    5|D.Computing cente...|    1.254|2624| 18548| 1312|      19|  34.19|\n",
      "|   19|  103|8589935344|SpatialJoin|   10.0|  4|    5|E.Indexing center...|    0.813|2624| 18548| 1312|      19|  34.19|\n",
      "|   19|  103|8589935345|SpatialJoin|   10.0|  4|    5|  F.Getting disks...|    7.170|2624| 18548| 1312|      19|  34.19|\n",
      "|   19|  103|8589935346|SpatialJoin|   10.0|  4|    5|G.Filtering less-...|    0.204|  48| 18548| 1312|      19|  34.19|\n",
      "|   19|  103|8589935347|SpatialJoin|   10.0|  4|    5|H.Prunning duplic...|    4.007|  19| 18548| 1312|      19|  34.19|\n",
      "|   19|  103|8589935348|SpatialJoin|   10.0|  4|    5|I.Indexing candid...|    4.348|  19| 18548| 1312|      19|  34.19|\n",
      "|   19|  103|8589935349|SpatialJoin|   10.0|  4|    5|J.Getting expansi...|    0.323|  59| 18548| 1312|      19|  34.19|\n",
      "|   19|  103|8589935350|SpatialJoin|   10.0|  4|    5|K.Finding maximal...|    0.146|  19| 18548| 1312|      19|  34.19|\n",
      "|   19|  103|8589935351|SpatialJoin|   10.0|  4|    5|L.Prunning duplic...|    1.726|  19| 18548| 1312|      19|  34.19|\n",
      "|   19|  104|8589935363|SpatialJoin|   10.0|  4|    5|B.Indexing points...|    6.689|   0| 18548| 1306|      14|  33.09|\n",
      "|   19|  104|8589935364|SpatialJoin|   10.0|  4|    5|  C.Getting pairs...|   10.703|1306| 18548| 1306|      14|  33.09|\n",
      "|   19|  104|8589935365|SpatialJoin|   10.0|  4|    5|D.Computing cente...|    1.264|2612| 18548| 1306|      14|  33.09|\n",
      "|   19|  104|8589935366|SpatialJoin|   10.0|  4|    5|E.Indexing center...|    0.840|2612| 18548| 1306|      14|  33.09|\n",
      "|   19|  104|8589935367|SpatialJoin|   10.0|  4|    5|  F.Getting disks...|    7.065|2612| 18548| 1306|      14|  33.09|\n",
      "|   19|  104|8589935368|SpatialJoin|   10.0|  4|    5|G.Filtering less-...|    0.177|  42| 18548| 1306|      14|  33.09|\n",
      "|   19|  104|8589935369|SpatialJoin|   10.0|  4|    5|H.Prunning duplic...|    4.047|  17| 18548| 1306|      14|  33.09|\n",
      "|   19|  104|8589935370|SpatialJoin|   10.0|  4|    5|I.Indexing candid...|    4.389|  17| 18548| 1306|      14|  33.09|\n",
      "|   19|  104|8589935371|SpatialJoin|   10.0|  4|    5|J.Getting expansi...|    0.126|  59| 18548| 1306|      14|  33.09|\n",
      "|   19|  104|8589935372|SpatialJoin|   10.0|  4|    5|K.Finding maximal...|    0.117|  14| 18548| 1306|      14|  33.09|\n",
      "|   19|  104|8589935373|SpatialJoin|   10.0|  4|    5|L.Prunning duplic...|    1.714|  14| 18548| 1306|      14|  33.09|\n",
      "|   19|  105|8589935385|SpatialJoin|   10.0|  4|    5|B.Indexing points...|    6.790|   0| 18546| 1298|      14|  33.96|\n",
      "|   19|  105|8589935386|SpatialJoin|   10.0|  4|    5|  C.Getting pairs...|   11.383|1298| 18546| 1298|      14|  33.96|\n",
      "|   19|  105|8589935387|SpatialJoin|   10.0|  4|    5|D.Computing cente...|    1.240|2596| 18546| 1298|      14|  33.96|\n",
      "|   19|  105|8589935388|SpatialJoin|   10.0|  4|    5|E.Indexing center...|    0.796|2596| 18546| 1298|      14|  33.96|\n",
      "|   19|  105|8589935389|SpatialJoin|   10.0|  4|    5|  F.Getting disks...|    7.101|2596| 18546| 1298|      14|  33.96|\n",
      "|   19|  105|8589935390|SpatialJoin|   10.0|  4|    5|G.Filtering less-...|    0.214|  43| 18546| 1298|      14|  33.96|\n",
      "|   19|  105|8589935391|SpatialJoin|   10.0|  4|    5|H.Prunning duplic...|    4.212|  16| 18546| 1298|      14|  33.96|\n"
     ]
    },
    {
     "name": "stdout",
     "output_type": "stream",
     "text": [
      "|   19|  105|8589935392|SpatialJoin|   10.0|  4|    5|I.Indexing candid...|    4.559|  16| 18546| 1298|      14|  33.96|\n",
      "|   19|  105|8589935393|SpatialJoin|   10.0|  4|    5|J.Getting expansi...|    0.122|  53| 18546| 1298|      14|  33.96|\n",
      "|   19|  105|8589935394|SpatialJoin|   10.0|  4|    5|K.Finding maximal...|    0.117|  14| 18546| 1298|      14|  33.96|\n",
      "|   19|  105|8589935395|SpatialJoin|   10.0|  4|    5|L.Prunning duplic...|    1.634|  14| 18546| 1298|      14|  33.96|\n",
      "|   19|  106|8589935407|SpatialJoin|   10.0|  4|    5|B.Indexing points...|    6.912|   0| 18546| 1290|      14|  34.32|\n",
      "|   19|  106|8589935408|SpatialJoin|   10.0|  4|    5|  C.Getting pairs...|   11.050|1290| 18546| 1290|      14|  34.32|\n",
      "|   19|  106|8589935409|SpatialJoin|   10.0|  4|    5|D.Computing cente...|    1.244|2580| 18546| 1290|      14|  34.32|\n",
      "|   19|  106|8589935410|SpatialJoin|   10.0|  4|    5|E.Indexing center...|    0.772|2580| 18546| 1290|      14|  34.32|\n",
      "|   19|  106|8589935411|SpatialJoin|   10.0|  4|    5|  F.Getting disks...|    7.159|2580| 18546| 1290|      14|  34.32|\n",
      "|   19|  106|8589935412|SpatialJoin|   10.0|  4|    5|G.Filtering less-...|    0.190|  40| 18546| 1290|      14|  34.32|\n",
      "|   19|  106|8589935413|SpatialJoin|   10.0|  4|    5|H.Prunning duplic...|    4.440|  16| 18546| 1290|      14|  34.32|\n",
      "|   19|  106|8589935414|SpatialJoin|   10.0|  4|    5|I.Indexing candid...|    4.778|  16| 18546| 1290|      14|  34.32|\n",
      "|   19|  106|8589935415|SpatialJoin|   10.0|  4|    5|J.Getting expansi...|    0.250|  48| 18546| 1290|      14|  34.32|\n",
      "|   19|  106|8589935416|SpatialJoin|   10.0|  4|    5|K.Finding maximal...|    0.135|  14| 18546| 1290|      14|  34.32|\n",
      "|   19|  106|8589935417|SpatialJoin|   10.0|  4|    5|L.Prunning duplic...|    1.827|  14| 18546| 1290|      14|  34.32|\n",
      "|   19|  107|8589935429|SpatialJoin|   10.0|  4|    5|B.Indexing points...|    6.880|   0| 18546| 1283|      15|  35.15|\n",
      "|   19|  107|8589935430|SpatialJoin|   10.0|  4|    5|  C.Getting pairs...|   11.347|1283| 18546| 1283|      15|  35.15|\n",
      "|   19|  107|8589935431|SpatialJoin|   10.0|  4|    5|D.Computing cente...|    1.277|2566| 18546| 1283|      15|  35.15|\n",
      "|   19|  107|8589935432|SpatialJoin|   10.0|  4|    5|E.Indexing center...|    1.880|2566| 18546| 1283|      15|  35.15|\n",
      "|   19|  107|8589935433|SpatialJoin|   10.0|  4|    5|  F.Getting disks...|    7.135|2566| 18546| 1283|      15|  35.15|\n",
      "|   19|  107|8589935434|SpatialJoin|   10.0|  4|    5|G.Filtering less-...|    0.195|  44| 18546| 1283|      15|  35.15|\n",
      "|   19|  107|8589935435|SpatialJoin|   10.0|  4|    5|H.Prunning duplic...|    4.176|  18| 18546| 1283|      15|  35.15|\n",
      "|   19|  107|8589935436|SpatialJoin|   10.0|  4|    5|I.Indexing candid...|    4.528|  18| 18546| 1283|      15|  35.15|\n",
      "|   19|  107|8589935437|SpatialJoin|   10.0|  4|    5|J.Getting expansi...|    0.134|  70| 18546| 1283|      15|  35.15|\n",
      "|   19|  107|8589935438|SpatialJoin|   10.0|  4|    5|K.Finding maximal...|    0.124|  15| 18546| 1283|      15|  35.15|\n",
      "|   19|  107|8589935439|SpatialJoin|   10.0|  4|    5|L.Prunning duplic...|    1.644|  15| 18546| 1283|      15|  35.15|\n",
      "|   19|  108|8589935451|SpatialJoin|   10.0|  4|    5|B.Indexing points...|    7.135|   0| 18546| 1289|      18|  33.83|\n",
      "|   19|  108|8589935452|SpatialJoin|   10.0|  4|    5|  C.Getting pairs...|   10.377|1289| 18546| 1289|      18|  33.83|\n",
      "|   19|  108|8589935453|SpatialJoin|   10.0|  4|    5|D.Computing cente...|    1.727|2578| 18546| 1289|      18|  33.83|\n",
      "|   19|  108|8589935454|SpatialJoin|   10.0|  4|    5|E.Indexing center...|    0.761|2578| 18546| 1289|      18|  33.83|\n",
      "|   19|  108|8589935455|SpatialJoin|   10.0|  4|    5|  F.Getting disks...|    7.026|2578| 18546| 1289|      18|  33.83|\n",
      "|   19|  108|8589935456|SpatialJoin|   10.0|  4|    5|G.Filtering less-...|    0.171|  56| 18546| 1289|      18|  33.83|\n",
      "|   19|  108|8589935457|SpatialJoin|   10.0|  4|    5|H.Prunning duplic...|    4.264|  23| 18546| 1289|      18|  33.83|\n",
      "|   19|  108|8589935458|SpatialJoin|   10.0|  4|    5|I.Indexing candid...|    4.619|  23| 18546| 1289|      18|  33.83|\n",
      "|   19|  108|8589935459|SpatialJoin|   10.0|  4|    5|J.Getting expansi...|    0.133|  89| 18546| 1289|      18|  33.83|\n",
      "|   19|  108|8589935460|SpatialJoin|   10.0|  4|    5|K.Finding maximal...|    0.123|  18| 18546| 1289|      18|  33.83|\n",
      "|   19|  108|8589935461|SpatialJoin|   10.0|  4|    5|L.Prunning duplic...|    1.762|  18| 18546| 1289|      18|  33.83|\n",
      "|   19|  109|8589935473|SpatialJoin|   10.0|  4|    5|B.Indexing points...|    7.028|   0| 18546| 1301|      14|  34.98|\n",
      "|   19|  109|8589935474|SpatialJoin|   10.0|  4|    5|  C.Getting pairs...|   11.250|1301| 18546| 1301|      14|  34.98|\n",
      "|   19|  109|8589935475|SpatialJoin|   10.0|  4|    5|D.Computing cente...|    1.306|2602| 18546| 1301|      14|  34.98|\n",
      "|   19|  109|8589935476|SpatialJoin|   10.0|  4|    5|E.Indexing center...|    0.835|2602| 18546| 1301|      14|  34.98|\n",
      "|   19|  109|8589935477|SpatialJoin|   10.0|  4|    5|  F.Getting disks...|    7.068|2602| 18546| 1301|      14|  34.98|\n",
      "|   19|  109|8589935478|SpatialJoin|   10.0|  4|    5|G.Filtering less-...|    0.216|  54| 18546| 1301|      14|  34.98|\n",
      "|   19|  109|8589935479|SpatialJoin|   10.0|  4|    5|H.Prunning duplic...|    4.435|  23| 18546| 1301|      14|  34.98|\n",
      "|   19|  109|8589935480|SpatialJoin|   10.0|  4|    5|I.Indexing candid...|    4.773|  23| 18546| 1301|      14|  34.98|\n",
      "|   19|  109|8589935481|SpatialJoin|   10.0|  4|    5|J.Getting expansi...|    0.133| 106| 18546| 1301|      14|  34.98|\n",
      "|   19|  109|8589935482|SpatialJoin|   10.0|  4|    5|K.Finding maximal...|    0.131|  14| 18546| 1301|      14|  34.98|\n",
      "|   19|  109|8589935483|SpatialJoin|   10.0|  4|    5|L.Prunning duplic...|    2.235|  14| 18546| 1301|      14|  34.98|\n",
      "|   25|  132|8589937937|SpatialJoin|   10.0|  4|    5|B.Indexing points...|    3.684|   0| 18093| 1241|      11|  20.24|\n",
      "|   25|  132|8589937938|SpatialJoin|   10.0|  4|    5|  C.Getting pairs...|    5.501|1241| 18093| 1241|      11|  20.24|\n",
      "|   25|  132|8589937939|SpatialJoin|   10.0|  4|    5|D.Computing cente...|    1.413|2482| 18093| 1241|      11|  20.24|\n",
      "|   25|  132|8589937940|SpatialJoin|   10.0|  4|    5|E.Indexing center...|    0.752|2482| 18093| 1241|      11|  20.24|\n",
      "+-----+-----+----------+-----------+-------+---+-----+--------------------+---------+----+------+-----+--------+-------+\n",
      "only showing top 125 rows\n",
      "\n"
     ]
    }
   ],
   "source": [
    "mdf_info.filter($\"method\" === \"SpatialJoin\" && $\"epsilon\" === 10.0 && $\"mu\" === 4).show(125)"
   ]
  },
  {
   "cell_type": "code",
   "execution_count": 62,
   "metadata": {},
   "outputs": [
    {
     "name": "stderr",
     "output_type": "stream",
     "text": [
      "                                                                                \r"
     ]
    },
    {
     "data": {
      "text/plain": [
       "\u001b[36msignatures1\u001b[39m: \u001b[32mDataset\u001b[39m[\u001b[32mRow\u001b[39m] = [runID: int, mdfID: int ... 2 more fields]"
      ]
     },
     "execution_count": 62,
     "metadata": {},
     "output_type": "execute_result"
    }
   ],
   "source": [
    "val signatures1 = mdf_info.filter($\"method\" === \"SpatialJoin\").select(\"runID\",\"mdfID\",\"epsilon\",\"mu\",\"delta\",\"Load\",\"Points\")\n",
    "    .groupBy(\"runID\", \"mdfID\")\n",
    "    .agg(collect_list(\"Load\").alias(\"signature\")\n",
    "         , max(\"Points\").alias(\"Points\"))\n",
    "    .orderBy(\"runID\",\"mdfID\")\n",
    "    .cache"
   ]
  },
  {
   "cell_type": "code",
   "execution_count": 71,
   "metadata": {},
   "outputs": [
    {
     "data": {
      "text/plain": [
       "\u001b[32mimport \u001b[39m\u001b[36mscala.collection.JavaConverters._\n",
       "\u001b[39m\n",
       "\u001b[36msignatures2\u001b[39m: \u001b[32mDataFrame\u001b[39m = [runID: int, mdfID: int ... 1 more field]"
      ]
     },
     "execution_count": 71,
     "metadata": {},
     "output_type": "execute_result"
    }
   ],
   "source": [
    "import scala.collection.JavaConverters._\n",
    "val signatures2 = signatures1.map{ m =>\n",
    "        val runID = m.getInt(0)\n",
    "        val mdfID = m.getInt(1)\n",
    "        val s = m.getList[String](2).asScala\n",
    "        val p = m.getLong(3)\n",
    "        (runID, mdfID, s.updated(0,s\"$p\").mkString(\" \"))\n",
    "    }\n",
    "    .toDF(\"runID\", \"mdfID\", \"signature\")"
   ]
  },
  {
   "cell_type": "code",
   "execution_count": 93,
   "metadata": {},
   "outputs": [
    {
     "name": "stdout",
     "output_type": "stream",
     "text": [
      "+---+--------------------+\n",
      "| _1|                  _2|\n",
      "+---+--------------------+\n",
      "| 31|165 166 167 168 1...|\n",
      "| 53|286 287 288 289 2...|\n",
      "| 27|143 144 145 146 1...|\n",
      "| 47|253 254 255 256 2...|\n",
      "|  1|0 1 2 3 4 5 6 7 8...|\n",
      "| 13|66 67 68 69 70 71...|\n",
      "|  3|11 12 13 14 15 16...|\n",
      "|  5|22 23 24 25 26 27...|\n",
      "| 19|99 100 101 102 10...|\n",
      "| 41|220 221 222 223 2...|\n",
      "| 15|77 78 79 80 81 82...|\n",
      "| 43|231 232 233 234 2...|\n",
      "| 37|198 199 200 201 2...|\n",
      "|  9|44 45 46 47 48 49...|\n",
      "| 17|88 89 90 91 92 93...|\n",
      "| 35|187 188 189 190 1...|\n",
      "| 23|121 122 123 124 1...|\n",
      "| 39|209 210 211 212 2...|\n",
      "| 49|264 265 266 267 2...|\n",
      "|  7|33 34 35 36 37 38...|\n",
      "+---+--------------------+\n",
      "only showing top 20 rows\n",
      "\n"
     ]
    },
    {
     "data": {
      "text/plain": [
       "\u001b[36msignatures3\u001b[39m: \u001b[32mDataset\u001b[39m[\u001b[32mRow\u001b[39m] = [runID: int, mdfIDs: array<int>]"
      ]
     },
     "execution_count": 93,
     "metadata": {},
     "output_type": "execute_result"
    }
   ],
   "source": [
    "\n",
    "val signatures3 = signatures2.groupBy(\"runID\")\n",
    "    .agg(collect_list(\"mdfID\").alias(\"mdfIDs\"))\n",
    "    .cache\n",
    "signatures3.map{m => \n",
    "                val runID = m.getInt(0)\n",
    "                (runID, m.getList(1).asScala.mkString(\" \"))\n",
    "}.show\n",
    "    "
   ]
  },
  {
   "cell_type": "code",
   "execution_count": null,
   "metadata": {},
   "outputs": [],
   "source": []
  }
 ],
 "metadata": {
  "kernelspec": {
   "display_name": "Scala",
   "language": "scala",
   "name": "scala"
  },
  "language_info": {
   "codemirror_mode": "text/x-scala",
   "file_extension": ".scala",
   "mimetype": "text/x-scala",
   "name": "scala211",
   "nbconvert_exporter": "script",
   "pygments_lexer": "scala",
   "version": "2.11.11"
  }
 },
 "nbformat": 4,
 "nbformat_minor": 2
}
