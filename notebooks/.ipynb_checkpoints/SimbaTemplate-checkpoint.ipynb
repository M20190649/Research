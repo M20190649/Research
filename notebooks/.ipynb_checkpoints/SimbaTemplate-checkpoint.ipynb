{
 "cells": [
  {
   "cell_type": "code",
   "execution_count": null,
   "metadata": {},
   "outputs": [],
   "source": [
    "import $ivy.`org.apache.spark::spark-sql:2.1.0` \n",
    "import $ivy.`InitialDLab:simba_2.11:1.0`\n",
    "import $ivy.`org.slf4j:slf4j-jdk14:1.7.25`\n"
   ]
  },
  {
   "cell_type": "code",
   "execution_count": null,
   "metadata": {},
   "outputs": [],
   "source": [
    "import org.slf4j.{Logger, LoggerFactory}\n",
    "import org.apache.spark.sql.simba.{Dataset, SimbaSession}\n",
    "import org.apache.spark.sql.simba.index.RTreeType\n",
    "import org.apache.spark.sql.types.{StructType, StructField, LongType, DoubleType, IntegerType}\n",
    "\n",
    "import org.apache.spark.sql.functions._\n",
    "import scala.collection.JavaConverters._\n",
    "import scala.collection.mutable.ListBuffer\n"
   ]
  },
  {
   "cell_type": "code",
   "execution_count": null,
   "metadata": {},
   "outputs": [],
   "source": [
    "// spark://169.235.27.134:7077\n",
    "val simba = SimbaSession.builder()\n",
    "      .master(\"local[10]\")\n",
    "      .appName(\"MaximalDistanceFinder\")\n",
    "      .config(\"simba.index.partitions\", 1024)\n",
    "      .config(\"spark.cores.max\", 32)\n",
    "      .getOrCreate()\n"
   ]
  },
  {
   "cell_type": "code",
   "execution_count": null,
   "metadata": {},
   "outputs": [],
   "source": [
    "val logger: Logger = LoggerFactory.getLogger(\"myLogger\")\n",
    "var timer: Long = 0L\n",
    "\n",
    "org.apache.spark.sql.catalyst.encoders.OuterScopes.addOuterScope(this)\n",
    "case class ST_Point(id: Long, x: Double, y: Double, t: Int = -1)\n",
    "case class Flock(start: Int, end: Int, ids: String, x: Double = 0.0, y: Double = 0.0)\n"
   ]
  },
  {
   "cell_type": "code",
   "execution_count": null,
   "metadata": {},
   "outputs": [],
   "source": [
    "import simba.implicits._\n",
    "import simba.simbaImplicits._\n"
   ]
  },
  {
   "cell_type": "code",
   "execution_count": null,
   "metadata": {},
   "outputs": [],
   "source": [
    "val id = StructField(\"id\", LongType)\n",
    "val x = StructField(\"x\", DoubleType)\n",
    "val y = StructField(\"y\", DoubleType)\n",
    "val t = StructField(\"t\", IntegerType)\n",
    "val point_schema = StructType(Array(id, x, y, t))\n"
   ]
  },
  {
   "cell_type": "code",
   "execution_count": null,
   "metadata": {},
   "outputs": [],
   "source": [
    "val filename = \"/home/acald013/Research/Datasets/Berlin/berlin0-2.tsv\"\n",
    "\n",
    "val pointset = simba.read\n",
    "      .option(\"header\", \"false\")\n",
    "      .option(\"sep\", \"\\t\")\n",
    "      .schema(point_schema)\n",
    "      .csv(filename)\n",
    "      .as[ST_Point]\n",
    "      .cache()\n",
    "val nPointset = pointset.count()\n"
   ]
  },
  {
   "cell_type": "code",
   "execution_count": null,
   "metadata": {},
   "outputs": [],
   "source": [
    "val epsilon = 50\n",
    "val sample = pointset.filter(_.t == 0).sample(false, 0.5, 42).cache()\n",
    "sample.orderBy(\"id\").show(truncate =false)\n",
    "val p1 = sample.select(\"id\", \"x\", \"y\").toDF(\"id1\", \"x1\", \"y1\")\n",
    "p1.index(RTreeType, \"rtP1\", Array(\"x1\", \"y1\"))\n",
    "val p2 = sample.select(\"id\", \"x\", \"y\").toDF(\"id2\", \"x2\", \"y2\")\n",
    "p2.index(RTreeType, \"rtP2\", Array(\"x2\", \"y2\"))\n",
    "val join = p1.distanceJoin(p2, Array(\"x1\", \"y1\"), Array(\"x2\", \"y2\"), epsilon).filter(j => j.getLong(0) < j.getLong(3)).cache()\n",
    "val nJoin = join.count()\n",
    "join.orderBy(\"id1\", \"id2\").show(truncate = false)\n"
   ]
  },
  {
   "cell_type": "code",
   "execution_count": null,
   "metadata": {},
   "outputs": [],
   "source": [
    "simba.close()"
   ]
  }
 ],
 "metadata": {
  "kernelspec": {
   "display_name": "Scala",
   "language": "scala",
   "name": "scala"
  },
  "language_info": {
   "codemirror_mode": "text/x-scala",
   "file_extension": ".scala",
   "mimetype": "text/x-scala",
   "name": "scala211",
   "nbconvert_exporter": "script",
   "pygments_lexer": "scala",
   "version": "2.11.11"
  }
 },
 "nbformat": 4,
 "nbformat_minor": 2
}
